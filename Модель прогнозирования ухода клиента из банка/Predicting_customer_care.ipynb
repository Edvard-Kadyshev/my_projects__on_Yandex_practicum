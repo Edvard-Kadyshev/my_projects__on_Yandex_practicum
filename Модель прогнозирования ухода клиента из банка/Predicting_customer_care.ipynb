{
 "cells": [
  {
   "cell_type": "markdown",
   "id": "1b583716",
   "metadata": {},
   "source": [
    "# Постановка задачи"
   ]
  },
  {
   "cell_type": "markdown",
   "id": "b56473f4",
   "metadata": {},
   "source": [
    "На предоставленных данных нужно построить модель прогнозирования ухода клиента из банка в ближайшее время.<br>\n",
    "\n",
    "Необходимо построить модель с хорошим значением F1-меры. У построенной модели значение метрики F1-меры на тестовой выборке должно быть не менее 0.59. <br>\n",
    "\n",
    "Дополнительно дать оценку значения AUC-ROC в сравнении с F1-мерой."
   ]
  },
  {
   "cell_type": "markdown",
   "id": "81c95951",
   "metadata": {},
   "source": [
    "# Порядок решения задачи"
   ]
  },
  {
   "cell_type": "markdown",
   "id": "812595ad",
   "metadata": {},
   "source": [
    "Шаг 0. Импортируем все, что нужно - библиотеки и данные.<br>\n",
    "Шаг 1. Сделаем предобработку данных.<br>\n",
    "Шаг 2. Сделаем разбиение на обучающую и тестовую выборку.<br>\n",
    "Шаг 3. Напишем функции для проведения обучения моделей и визуализации оценок их метрик.<br>\n",
    "Шаг 4. Проанализируем полученные результаты в т.ч. на вменяемость.<br>\n",
    "Шаг 5. Напишем краткое аналитическое резюме по выбранной модели."
   ]
  },
  {
   "cell_type": "code",
   "execution_count": 1,
   "id": "6fb9bcbb",
   "metadata": {},
   "outputs": [],
   "source": [
    "import pandas as pd\n",
    "import numpy as np\n",
    "import random\n",
    "from statistics import mean\n",
    "import os\n",
    "import time\n",
    "from tqdm import tqdm\n",
    "\n",
    "\n",
    "import matplotlib\n",
    "import matplotlib.pyplot as plt\n",
    "import seaborn as sns\n",
    "from scipy import stats as st\n",
    "from pandas.plotting import scatter_matrix\n",
    "\n",
    "from sklearn.linear_model import LogisticRegression\n",
    "from sklearn.ensemble import RandomForestClassifier\n",
    "from sklearn.tree import DecisionTreeClassifier\n",
    "from sklearn.ensemble import GradientBoostingClassifier\n",
    "from sklearn.tree import plot_tree\n",
    "from sklearn.preprocessing import StandardScaler\n",
    "from sklearn.metrics import precision_score\n",
    "from sklearn.metrics import recall_score\n",
    "from sklearn.metrics import f1_score \n",
    "from sklearn.metrics import roc_curve\n",
    "from sklearn.metrics import roc_auc_score\n",
    "from sklearn.model_selection import GridSearchCV\n",
    "from sklearn.model_selection import RandomizedSearchCV\n",
    "from sklearn.utils import shuffle\n",
    "\n",
    "from sklearn.metrics import accuracy_score\n",
    "from sklearn.model_selection import train_test_split\n",
    "\n",
    "%matplotlib inline\n",
    "pd.options.mode.chained_assignment = None"
   ]
  },
  {
   "cell_type": "code",
   "execution_count": 2,
   "id": "2cdf0f05",
   "metadata": {},
   "outputs": [],
   "source": [
    "path_review = '/datasets/Churn.csv'\n",
    "my_path = '/Users/Ideapad S145/Desktop/Data_Science/06.Модуль Обучение с учителем/Практика/Churn.csv'\n",
    "if os.path.exists(path_review):\n",
    "    df = pd.read_csv(path_review, sep=',')\n",
    "elif os.path.exists(my_path):\n",
    "    df = pd.read_csv(my_path, sep=',')\n",
    "else:\n",
    "    print(\"Проверьте правильность пути к датасету\")"
   ]
  },
  {
   "cell_type": "code",
   "execution_count": 3,
   "id": "8e8bfd4f",
   "metadata": {},
   "outputs": [
    {
     "name": "stdout",
     "output_type": "stream",
     "text": [
      "<class 'pandas.core.frame.DataFrame'>\n",
      "RangeIndex: 10000 entries, 0 to 9999\n",
      "Data columns (total 14 columns):\n",
      " #   Column           Non-Null Count  Dtype  \n",
      "---  ------           --------------  -----  \n",
      " 0   RowNumber        10000 non-null  int64  \n",
      " 1   CustomerId       10000 non-null  int64  \n",
      " 2   Surname          10000 non-null  object \n",
      " 3   CreditScore      10000 non-null  int64  \n",
      " 4   Geography        10000 non-null  object \n",
      " 5   Gender           10000 non-null  object \n",
      " 6   Age              10000 non-null  int64  \n",
      " 7   Tenure           9091 non-null   float64\n",
      " 8   Balance          10000 non-null  float64\n",
      " 9   NumOfProducts    10000 non-null  int64  \n",
      " 10  HasCrCard        10000 non-null  int64  \n",
      " 11  IsActiveMember   10000 non-null  int64  \n",
      " 12  EstimatedSalary  10000 non-null  float64\n",
      " 13  Exited           10000 non-null  int64  \n",
      "dtypes: float64(3), int64(8), object(3)\n",
      "memory usage: 1.1+ MB\n"
     ]
    }
   ],
   "source": [
    "df.info()"
   ]
  },
  {
   "cell_type": "markdown",
   "id": "69175031",
   "metadata": {},
   "source": [
    "**Признаки**<br>\n",
    "RowNumber — индекс строки в данных<br>\n",
    "CustomerId — уникальный идентификатор клиента<br>\n",
    "Surname — фамилия<br>\n",
    "CreditScore — кредитный рейтинг<br>\n",
    "Geography — страна проживания<br>\n",
    "Gender — пол<br>\n",
    "Age — возраст<br>\n",
    "Tenure — сколько лет человек является клиентом банка<br>\n",
    "Balance — баланс на счёте<br>\n",
    "NumOfProducts — количество продуктов банка, используемых клиентом<br>\n",
    "HasCrCard — наличие кредитной карты<br>\n",
    "IsActiveMember — активность клиента<br>\n",
    "EstimatedSalary — предполагаемая зарплата<br>\n",
    "**Целевой признак**<br>\n",
    "Exited — факт ухода клиента"
   ]
  },
  {
   "cell_type": "markdown",
   "id": "2701850b",
   "metadata": {},
   "source": [
    "В нашем датасете всего 10 000 записей. Все поля кроме одного Tenure заполненны. В поле Tenure 909 пропущенных значений. В процессе преподготовки данных мы посмотрим, что там пропущено и выясним причину пропусков."
   ]
  },
  {
   "cell_type": "code",
   "execution_count": 4,
   "id": "98de5c2d",
   "metadata": {},
   "outputs": [
    {
     "data": {
      "text/html": [
       "<div>\n",
       "<style scoped>\n",
       "    .dataframe tbody tr th:only-of-type {\n",
       "        vertical-align: middle;\n",
       "    }\n",
       "\n",
       "    .dataframe tbody tr th {\n",
       "        vertical-align: top;\n",
       "    }\n",
       "\n",
       "    .dataframe thead th {\n",
       "        text-align: right;\n",
       "    }\n",
       "</style>\n",
       "<table border=\"1\" class=\"dataframe\">\n",
       "  <thead>\n",
       "    <tr style=\"text-align: right;\">\n",
       "      <th></th>\n",
       "      <th>RowNumber</th>\n",
       "      <th>CustomerId</th>\n",
       "      <th>Surname</th>\n",
       "      <th>CreditScore</th>\n",
       "      <th>Geography</th>\n",
       "      <th>Gender</th>\n",
       "      <th>Age</th>\n",
       "      <th>Tenure</th>\n",
       "      <th>Balance</th>\n",
       "      <th>NumOfProducts</th>\n",
       "      <th>HasCrCard</th>\n",
       "      <th>IsActiveMember</th>\n",
       "      <th>EstimatedSalary</th>\n",
       "      <th>Exited</th>\n",
       "    </tr>\n",
       "  </thead>\n",
       "  <tbody>\n",
       "    <tr>\n",
       "      <th>0</th>\n",
       "      <td>1</td>\n",
       "      <td>15634602</td>\n",
       "      <td>Hargrave</td>\n",
       "      <td>619</td>\n",
       "      <td>France</td>\n",
       "      <td>Female</td>\n",
       "      <td>42</td>\n",
       "      <td>2.0</td>\n",
       "      <td>0.00</td>\n",
       "      <td>1</td>\n",
       "      <td>1</td>\n",
       "      <td>1</td>\n",
       "      <td>101348.88</td>\n",
       "      <td>1</td>\n",
       "    </tr>\n",
       "    <tr>\n",
       "      <th>1</th>\n",
       "      <td>2</td>\n",
       "      <td>15647311</td>\n",
       "      <td>Hill</td>\n",
       "      <td>608</td>\n",
       "      <td>Spain</td>\n",
       "      <td>Female</td>\n",
       "      <td>41</td>\n",
       "      <td>1.0</td>\n",
       "      <td>83807.86</td>\n",
       "      <td>1</td>\n",
       "      <td>0</td>\n",
       "      <td>1</td>\n",
       "      <td>112542.58</td>\n",
       "      <td>0</td>\n",
       "    </tr>\n",
       "    <tr>\n",
       "      <th>2</th>\n",
       "      <td>3</td>\n",
       "      <td>15619304</td>\n",
       "      <td>Onio</td>\n",
       "      <td>502</td>\n",
       "      <td>France</td>\n",
       "      <td>Female</td>\n",
       "      <td>42</td>\n",
       "      <td>8.0</td>\n",
       "      <td>159660.80</td>\n",
       "      <td>3</td>\n",
       "      <td>1</td>\n",
       "      <td>0</td>\n",
       "      <td>113931.57</td>\n",
       "      <td>1</td>\n",
       "    </tr>\n",
       "    <tr>\n",
       "      <th>3</th>\n",
       "      <td>4</td>\n",
       "      <td>15701354</td>\n",
       "      <td>Boni</td>\n",
       "      <td>699</td>\n",
       "      <td>France</td>\n",
       "      <td>Female</td>\n",
       "      <td>39</td>\n",
       "      <td>1.0</td>\n",
       "      <td>0.00</td>\n",
       "      <td>2</td>\n",
       "      <td>0</td>\n",
       "      <td>0</td>\n",
       "      <td>93826.63</td>\n",
       "      <td>0</td>\n",
       "    </tr>\n",
       "    <tr>\n",
       "      <th>4</th>\n",
       "      <td>5</td>\n",
       "      <td>15737888</td>\n",
       "      <td>Mitchell</td>\n",
       "      <td>850</td>\n",
       "      <td>Spain</td>\n",
       "      <td>Female</td>\n",
       "      <td>43</td>\n",
       "      <td>2.0</td>\n",
       "      <td>125510.82</td>\n",
       "      <td>1</td>\n",
       "      <td>1</td>\n",
       "      <td>1</td>\n",
       "      <td>79084.10</td>\n",
       "      <td>0</td>\n",
       "    </tr>\n",
       "  </tbody>\n",
       "</table>\n",
       "</div>"
      ],
      "text/plain": [
       "   RowNumber  CustomerId   Surname  CreditScore Geography  Gender  Age  \\\n",
       "0          1    15634602  Hargrave          619    France  Female   42   \n",
       "1          2    15647311      Hill          608     Spain  Female   41   \n",
       "2          3    15619304      Onio          502    France  Female   42   \n",
       "3          4    15701354      Boni          699    France  Female   39   \n",
       "4          5    15737888  Mitchell          850     Spain  Female   43   \n",
       "\n",
       "   Tenure    Balance  NumOfProducts  HasCrCard  IsActiveMember  \\\n",
       "0     2.0       0.00              1          1               1   \n",
       "1     1.0   83807.86              1          0               1   \n",
       "2     8.0  159660.80              3          1               0   \n",
       "3     1.0       0.00              2          0               0   \n",
       "4     2.0  125510.82              1          1               1   \n",
       "\n",
       "   EstimatedSalary  Exited  \n",
       "0        101348.88       1  \n",
       "1        112542.58       0  \n",
       "2        113931.57       1  \n",
       "3         93826.63       0  \n",
       "4         79084.10       0  "
      ]
     },
     "execution_count": 4,
     "metadata": {},
     "output_type": "execute_result"
    }
   ],
   "source": [
    "df.head()"
   ]
  },
  {
   "cell_type": "markdown",
   "id": "3754f577",
   "metadata": {},
   "source": [
    "Привидем названия колонок к правильному написанию"
   ]
  },
  {
   "cell_type": "code",
   "execution_count": 5,
   "id": "0617871a",
   "metadata": {},
   "outputs": [],
   "source": [
    "df.columns = ['row_number', 'сustomer_id', 'surname', 'credit_score', 'geography', 'gender', 'age',\n",
    "       'tenure', 'balance', 'num_of_products', 'has_credcard', 'is_active_member',\n",
    "       'estimated_salary', 'exited']"
   ]
  },
  {
   "cell_type": "markdown",
   "id": "f118e363",
   "metadata": {},
   "source": [
    "Поле RowNumber не нужно поэтому удалим его."
   ]
  },
  {
   "cell_type": "code",
   "execution_count": 6,
   "id": "f825ef6e",
   "metadata": {},
   "outputs": [
    {
     "data": {
      "text/html": [
       "<div>\n",
       "<style scoped>\n",
       "    .dataframe tbody tr th:only-of-type {\n",
       "        vertical-align: middle;\n",
       "    }\n",
       "\n",
       "    .dataframe tbody tr th {\n",
       "        vertical-align: top;\n",
       "    }\n",
       "\n",
       "    .dataframe thead th {\n",
       "        text-align: right;\n",
       "    }\n",
       "</style>\n",
       "<table border=\"1\" class=\"dataframe\">\n",
       "  <thead>\n",
       "    <tr style=\"text-align: right;\">\n",
       "      <th></th>\n",
       "      <th>row_number</th>\n",
       "      <th>сustomer_id</th>\n",
       "      <th>surname</th>\n",
       "      <th>credit_score</th>\n",
       "      <th>geography</th>\n",
       "      <th>gender</th>\n",
       "      <th>age</th>\n",
       "      <th>tenure</th>\n",
       "      <th>balance</th>\n",
       "      <th>num_of_products</th>\n",
       "      <th>has_credcard</th>\n",
       "      <th>is_active_member</th>\n",
       "      <th>estimated_salary</th>\n",
       "      <th>exited</th>\n",
       "    </tr>\n",
       "  </thead>\n",
       "  <tbody>\n",
       "    <tr>\n",
       "      <th>0</th>\n",
       "      <td>1</td>\n",
       "      <td>15634602</td>\n",
       "      <td>Hargrave</td>\n",
       "      <td>619</td>\n",
       "      <td>France</td>\n",
       "      <td>Female</td>\n",
       "      <td>42</td>\n",
       "      <td>2.0</td>\n",
       "      <td>0.00</td>\n",
       "      <td>1</td>\n",
       "      <td>1</td>\n",
       "      <td>1</td>\n",
       "      <td>101348.88</td>\n",
       "      <td>1</td>\n",
       "    </tr>\n",
       "    <tr>\n",
       "      <th>1</th>\n",
       "      <td>2</td>\n",
       "      <td>15647311</td>\n",
       "      <td>Hill</td>\n",
       "      <td>608</td>\n",
       "      <td>Spain</td>\n",
       "      <td>Female</td>\n",
       "      <td>41</td>\n",
       "      <td>1.0</td>\n",
       "      <td>83807.86</td>\n",
       "      <td>1</td>\n",
       "      <td>0</td>\n",
       "      <td>1</td>\n",
       "      <td>112542.58</td>\n",
       "      <td>0</td>\n",
       "    </tr>\n",
       "    <tr>\n",
       "      <th>2</th>\n",
       "      <td>3</td>\n",
       "      <td>15619304</td>\n",
       "      <td>Onio</td>\n",
       "      <td>502</td>\n",
       "      <td>France</td>\n",
       "      <td>Female</td>\n",
       "      <td>42</td>\n",
       "      <td>8.0</td>\n",
       "      <td>159660.80</td>\n",
       "      <td>3</td>\n",
       "      <td>1</td>\n",
       "      <td>0</td>\n",
       "      <td>113931.57</td>\n",
       "      <td>1</td>\n",
       "    </tr>\n",
       "    <tr>\n",
       "      <th>3</th>\n",
       "      <td>4</td>\n",
       "      <td>15701354</td>\n",
       "      <td>Boni</td>\n",
       "      <td>699</td>\n",
       "      <td>France</td>\n",
       "      <td>Female</td>\n",
       "      <td>39</td>\n",
       "      <td>1.0</td>\n",
       "      <td>0.00</td>\n",
       "      <td>2</td>\n",
       "      <td>0</td>\n",
       "      <td>0</td>\n",
       "      <td>93826.63</td>\n",
       "      <td>0</td>\n",
       "    </tr>\n",
       "    <tr>\n",
       "      <th>4</th>\n",
       "      <td>5</td>\n",
       "      <td>15737888</td>\n",
       "      <td>Mitchell</td>\n",
       "      <td>850</td>\n",
       "      <td>Spain</td>\n",
       "      <td>Female</td>\n",
       "      <td>43</td>\n",
       "      <td>2.0</td>\n",
       "      <td>125510.82</td>\n",
       "      <td>1</td>\n",
       "      <td>1</td>\n",
       "      <td>1</td>\n",
       "      <td>79084.10</td>\n",
       "      <td>0</td>\n",
       "    </tr>\n",
       "  </tbody>\n",
       "</table>\n",
       "</div>"
      ],
      "text/plain": [
       "   row_number  сustomer_id   surname  credit_score geography  gender  age  \\\n",
       "0           1     15634602  Hargrave           619    France  Female   42   \n",
       "1           2     15647311      Hill           608     Spain  Female   41   \n",
       "2           3     15619304      Onio           502    France  Female   42   \n",
       "3           4     15701354      Boni           699    France  Female   39   \n",
       "4           5     15737888  Mitchell           850     Spain  Female   43   \n",
       "\n",
       "   tenure    balance  num_of_products  has_credcard  is_active_member  \\\n",
       "0     2.0       0.00                1             1                 1   \n",
       "1     1.0   83807.86                1             0                 1   \n",
       "2     8.0  159660.80                3             1                 0   \n",
       "3     1.0       0.00                2             0                 0   \n",
       "4     2.0  125510.82                1             1                 1   \n",
       "\n",
       "   estimated_salary  exited  \n",
       "0         101348.88       1  \n",
       "1         112542.58       0  \n",
       "2         113931.57       1  \n",
       "3          93826.63       0  \n",
       "4          79084.10       0  "
      ]
     },
     "execution_count": 6,
     "metadata": {},
     "output_type": "execute_result"
    }
   ],
   "source": [
    "df.head()"
   ]
  },
  {
   "cell_type": "code",
   "execution_count": 7,
   "id": "a7638d87",
   "metadata": {},
   "outputs": [],
   "source": [
    "df.drop(['row_number'], axis=1, inplace=True)"
   ]
  },
  {
   "cell_type": "markdown",
   "id": "727dabc1",
   "metadata": {},
   "source": [
    "Поле CustomerId больше подойдет под индекс. Проверим уникальность значений в этом поле."
   ]
  },
  {
   "cell_type": "code",
   "execution_count": 8,
   "id": "07c90666",
   "metadata": {},
   "outputs": [
    {
     "name": "stdout",
     "output_type": "stream",
     "text": [
      "длина датасета 10000\n",
      "количество уникальных значениий в поле CustomerId 10000\n"
     ]
    }
   ],
   "source": [
    "print('длина датасета', len(df))\n",
    "print('количество уникальных значениий в поле CustomerId', len(df.сustomer_id.unique()))"
   ]
  },
  {
   "cell_type": "code",
   "execution_count": 9,
   "id": "03e830b3",
   "metadata": {},
   "outputs": [],
   "source": [
    "df.set_index('сustomer_id', inplace=True)"
   ]
  },
  {
   "cell_type": "markdown",
   "id": "d9d7928b",
   "metadata": {},
   "source": [
    "**Посмотрим поле surname**"
   ]
  },
  {
   "cell_type": "code",
   "execution_count": 10,
   "id": "b006bbf5",
   "metadata": {},
   "outputs": [
    {
     "data": {
      "text/plain": [
       "Smith       32\n",
       "Scott       29\n",
       "Martin      29\n",
       "Walker      28\n",
       "Brown       26\n",
       "            ..\n",
       "Izmailov     1\n",
       "Bold         1\n",
       "Bonham       1\n",
       "Poninski     1\n",
       "Burbidge     1\n",
       "Name: surname, Length: 2932, dtype: int64"
      ]
     },
     "execution_count": 10,
     "metadata": {},
     "output_type": "execute_result"
    }
   ],
   "source": [
    "df.surname.value_counts()"
   ]
  },
  {
   "cell_type": "markdown",
   "id": "d0523206",
   "metadata": {},
   "source": [
    "Это поле по большому счету ни на что не влияет. По нему можно будет попытаться установить семейственность - одна фамилия и при этом два пола, но и это очень все натянуто и неоднозначно. Поэтому лучше его удалить."
   ]
  },
  {
   "cell_type": "code",
   "execution_count": 11,
   "id": "00d3b477",
   "metadata": {},
   "outputs": [],
   "source": [
    "df.drop(['surname'], axis=1, inplace=True)"
   ]
  },
  {
   "cell_type": "markdown",
   "id": "09ef82d3",
   "metadata": {},
   "source": [
    "**Посмотрим поле credit_score**"
   ]
  },
  {
   "cell_type": "markdown",
   "id": "c02b928c",
   "metadata": {},
   "source": [
    "Это поле с оценками кредитного скоринга. Значениие его дискретный набор трехзначных чисел. Если набор небольшой, то это поле можно перевести категориальный тип. Если много, то оставим числовым."
   ]
  },
  {
   "cell_type": "code",
   "execution_count": 12,
   "id": "d3d36fb2",
   "metadata": {},
   "outputs": [
    {
     "name": "stdout",
     "output_type": "stream",
     "text": [
      "Количество уникальных значений 460\n"
     ]
    }
   ],
   "source": [
    "print('Количество уникальных значений', len(df.credit_score.unique()))"
   ]
  },
  {
   "cell_type": "markdown",
   "id": "9902b9ad",
   "metadata": {},
   "source": [
    "Это довольно много для категорий, поэтому оставим его числовым."
   ]
  },
  {
   "cell_type": "code",
   "execution_count": 13,
   "id": "05fa7360",
   "metadata": {},
   "outputs": [
    {
     "data": {
      "text/plain": [
       "count    10000.000000\n",
       "mean       650.528800\n",
       "std         96.653299\n",
       "min        350.000000\n",
       "25%        584.000000\n",
       "50%        652.000000\n",
       "75%        718.000000\n",
       "max        850.000000\n",
       "Name: credit_score, dtype: float64"
      ]
     },
     "execution_count": 13,
     "metadata": {},
     "output_type": "execute_result"
    }
   ],
   "source": [
    "df.credit_score.describe()"
   ]
  },
  {
   "cell_type": "markdown",
   "id": "364ea387",
   "metadata": {},
   "source": [
    "Посмотрим распределение значений кредитного скоринга в нашем датасете."
   ]
  },
  {
   "cell_type": "code",
   "execution_count": 14,
   "id": "bbe3e39d",
   "metadata": {},
   "outputs": [
    {
     "data": {
      "text/plain": [
       "Text(0.5, 1.0, 'Ящик с усами оценок кредитного скоринга')"
      ]
     },
     "execution_count": 14,
     "metadata": {},
     "output_type": "execute_result"
    },
    {
     "data": {
      "image/png": "[encoded data removed]",
      "text/plain": [
       "<Figure size 1152x360 with 2 Axes>"
      ]
     },
     "metadata": {
      "needs_background": "light"
     },
     "output_type": "display_data"
    }
   ],
   "source": [
    "fig = plt.figure(figsize=(16,5))\n",
    "ax_1 = fig.add_subplot(1, 2, 1)\n",
    "ax_2 = fig.add_subplot(1, 2, 2)\n",
    "sns.histplot(x=df.credit_score, kde=True, ax=ax_1)\n",
    "ax_2 = sns.boxplot(x=df.credit_score, ax=ax_2)\n",
    "ax_1.set_title('Гистограмма распределения оценок кредитного скоринга', fontsize=12)\n",
    "ax_2.set_title('Ящик с усами оценок кредитного скоринга', fontsize=12)"
   ]
  },
  {
   "cell_type": "markdown",
   "id": "d0405891",
   "metadata": {},
   "source": [
    "Почти идеальное норамальное распределение, но всю красоту портит правая сторона в которой скопилось большое количество клиентов с максимальным скорингом 850. На боксплоте немного выбросов слева. Оставим как есть."
   ]
  },
  {
   "cell_type": "markdown",
   "id": "ab3856a8",
   "metadata": {},
   "source": [
    "**Посмотрим поле geography**"
   ]
  },
  {
   "cell_type": "code",
   "execution_count": 15,
   "id": "7ea2f68f",
   "metadata": {},
   "outputs": [
    {
     "data": {
      "text/plain": [
       "array(['France', 'Spain', 'Germany'], dtype=object)"
      ]
     },
     "execution_count": 15,
     "metadata": {},
     "output_type": "execute_result"
    }
   ],
   "source": [
    "df.geography.unique()"
   ]
  },
  {
   "cell_type": "markdown",
   "id": "2cd1db10",
   "metadata": {},
   "source": [
    "Всего три страны. Это чисто категориальное поле.<br>\n",
    "Посмотрим распределение значений по странам-категориям."
   ]
  },
  {
   "cell_type": "code",
   "execution_count": 16,
   "id": "5ee7efad",
   "metadata": {},
   "outputs": [
    {
     "data": {
      "text/plain": [
       "France     5014\n",
       "Germany    2509\n",
       "Spain      2477\n",
       "Name: geography, dtype: int64"
      ]
     },
     "execution_count": 16,
     "metadata": {},
     "output_type": "execute_result"
    }
   ],
   "source": [
    "df.geography.value_counts()"
   ]
  },
  {
   "cell_type": "markdown",
   "id": "28a8f016",
   "metadata": {},
   "source": [
    "Соотношение записей среди категорий Франция, Германия и Испания = 2:1:1"
   ]
  },
  {
   "cell_type": "markdown",
   "id": "157114cd",
   "metadata": {},
   "source": [
    "**Посмотрим поле Gender**"
   ]
  },
  {
   "cell_type": "code",
   "execution_count": 17,
   "id": "8c936fdb",
   "metadata": {},
   "outputs": [
    {
     "data": {
      "text/plain": [
       "Male      0.5457\n",
       "Female    0.4543\n",
       "Name: gender, dtype: float64"
      ]
     },
     "execution_count": 17,
     "metadata": {},
     "output_type": "execute_result"
    }
   ],
   "source": [
    "df.gender.value_counts(normalize=True)"
   ]
  },
  {
   "cell_type": "markdown",
   "id": "ee3b5301",
   "metadata": {},
   "source": [
    "Хорошо, что нет третьего пола. Объекты датасета распределены примерно поровну относительно половой принадлежности. Это хорошо."
   ]
  },
  {
   "cell_type": "markdown",
   "id": "5180ea72",
   "metadata": {},
   "source": [
    "**Посмотрим поле age**"
   ]
  },
  {
   "cell_type": "code",
   "execution_count": 18,
   "id": "43b65608",
   "metadata": {},
   "outputs": [
    {
     "data": {
      "text/plain": [
       "37    478\n",
       "38    477\n",
       "35    474\n",
       "36    456\n",
       "34    447\n",
       "     ... \n",
       "92      2\n",
       "82      1\n",
       "88      1\n",
       "85      1\n",
       "83      1\n",
       "Name: age, Length: 70, dtype: int64"
      ]
     },
     "execution_count": 18,
     "metadata": {},
     "output_type": "execute_result"
    }
   ],
   "source": [
    "df.age.value_counts()"
   ]
  },
  {
   "cell_type": "code",
   "execution_count": 19,
   "id": "c81035ac",
   "metadata": {},
   "outputs": [
    {
     "data": {
      "text/plain": [
       "count    10000.000000\n",
       "mean        38.921800\n",
       "std         10.487806\n",
       "min         18.000000\n",
       "25%         32.000000\n",
       "50%         37.000000\n",
       "75%         44.000000\n",
       "max         92.000000\n",
       "Name: age, dtype: float64"
      ]
     },
     "execution_count": 19,
     "metadata": {},
     "output_type": "execute_result"
    }
   ],
   "source": [
    "df.age.describe()"
   ]
  },
  {
   "cell_type": "code",
   "execution_count": 20,
   "id": "0bf60965",
   "metadata": {},
   "outputs": [
    {
     "data": {
      "text/plain": [
       "Text(0.5, 1.0, 'Ящик с усами распределения клиентов по возрасту')"
      ]
     },
     "execution_count": 20,
     "metadata": {},
     "output_type": "execute_result"
    },
    {
     "data": {
      "image/png": "[encoded data removed]",
      "text/plain": [
       "<Figure size 1152x360 with 2 Axes>"
      ]
     },
     "metadata": {
      "needs_background": "light"
     },
     "output_type": "display_data"
    }
   ],
   "source": [
    "fig = plt.figure(figsize=(16,5))\n",
    "ax_1 = fig.add_subplot(1, 2, 1)\n",
    "ax_2 = fig.add_subplot(1, 2, 2)\n",
    "sns.histplot(x=df.age, kde=True, ax=ax_1)\n",
    "ax_2 = sns.boxplot(x=df.age, ax=ax_2)\n",
    "ax_1.set_title('Гистограмма распределения клиентов по возрасту', fontsize=12)\n",
    "ax_2.set_title('Ящик с усами распределения клиентов по возрасту', fontsize=12)"
   ]
  },
  {
   "cell_type": "markdown",
   "id": "a0a5fdf5",
   "metadata": {},
   "source": [
    "Большой правый хвост на гистограмме и выборсы справа на боксплоте говорит о том, что довольно много уникальных значений данного признака. Этот факт может негативно повлиять на обучение модели. Возможно здесь имеет смысл перейти от значений возраста к возрастным категориям с небольшим шагом - 5 лет. Пока оставляем как есть, но если модель будет плохо учиться, то сделаем переход от числового признака к категориальному."
   ]
  },
  {
   "cell_type": "markdown",
   "id": "9438de0c",
   "metadata": {},
   "source": [
    "**Посмотрим поле tenure** "
   ]
  },
  {
   "cell_type": "code",
   "execution_count": 21,
   "id": "9aa85edc",
   "metadata": {},
   "outputs": [
    {
     "data": {
      "text/plain": [
       "array([ 2.,  1.,  8.,  7.,  4.,  6.,  3., 10.,  5.,  9.,  0., nan])"
      ]
     },
     "execution_count": 21,
     "metadata": {},
     "output_type": "execute_result"
    }
   ],
   "source": [
    "df.tenure.unique()"
   ]
  },
  {
   "cell_type": "markdown",
   "id": "c4eafc06",
   "metadata": {},
   "source": [
    "У нас 909 объектов без признака tenure. Значения данного признака распределены равномерно."
   ]
  },
  {
   "cell_type": "code",
   "execution_count": 22,
   "id": "87a43673",
   "metadata": {},
   "outputs": [
    {
     "data": {
      "text/plain": [
       "Text(0.5, 1.0, 'Ящик с усами tenure')"
      ]
     },
     "execution_count": 22,
     "metadata": {},
     "output_type": "execute_result"
    },
    {
     "data": {
      "image/png": "[encoded data removed]",
      "text/plain": [
       "<Figure size 1152x360 with 2 Axes>"
      ]
     },
     "metadata": {
      "needs_background": "light"
     },
     "output_type": "display_data"
    }
   ],
   "source": [
    "fig = plt.figure(figsize=(16,5))\n",
    "ax_1 = fig.add_subplot(1, 2, 1)\n",
    "ax_2 = fig.add_subplot(1, 2, 2)\n",
    "sns.histplot(x=df.tenure, kde=True, ax=ax_1)\n",
    "ax_2 = sns.boxplot(x=df.tenure, ax=ax_2)\n",
    "ax_1.set_title('Гистограмма распределения tenure', fontsize=12)\n",
    "ax_2.set_title('Ящик с усами tenure', fontsize=12)"
   ]
  },
  {
   "cell_type": "markdown",
   "id": "5f63538b",
   "metadata": {},
   "source": [
    "Если мы сделаем замену пропущенных значений на медиану или среднее (они почти равны), то получим нарушение истинного равномерного распределения, что скажется на обучение модели. <br>\n",
    "Есть два варианта:\n",
    "1. Сделать модель предсказываюшую сколько лет клиент обслуживается в банке.\n",
    "2. Удалить объекты с пропуском данного признака.\n",
    "\n",
    "Данных пока остаточно и мы пока идем по простому вариант, поэтому удалим все объекты с пропуском значений."
   ]
  },
  {
   "cell_type": "code",
   "execution_count": 23,
   "id": "7fff1758",
   "metadata": {},
   "outputs": [],
   "source": [
    "df.dropna(inplace=True)"
   ]
  },
  {
   "cell_type": "markdown",
   "id": "5bc88094",
   "metadata": {},
   "source": [
    "**Посмотрим поле Balance**          "
   ]
  },
  {
   "cell_type": "code",
   "execution_count": 24,
   "id": "837cd9f9",
   "metadata": {},
   "outputs": [
    {
     "data": {
      "text/plain": [
       "count      9091.000000\n",
       "mean      76522.740015\n",
       "std       62329.528576\n",
       "min           0.000000\n",
       "25%           0.000000\n",
       "50%       97318.250000\n",
       "75%      127561.890000\n",
       "max      250898.090000\n",
       "Name: balance, dtype: float64"
      ]
     },
     "execution_count": 24,
     "metadata": {},
     "output_type": "execute_result"
    }
   ],
   "source": [
    "df.balance.describe()"
   ]
  },
  {
   "cell_type": "code",
   "execution_count": 25,
   "id": "b5ea0d57",
   "metadata": {},
   "outputs": [
    {
     "data": {
      "text/plain": [
       "Text(0.5, 1.0, 'Ящик с усами остатков на счетах')"
      ]
     },
     "execution_count": 25,
     "metadata": {},
     "output_type": "execute_result"
    },
    {
     "data": {
      "image/png": "[encoded data removed]",
      "text/plain": [
       "<Figure size 1152x360 with 2 Axes>"
      ]
     },
     "metadata": {
      "needs_background": "light"
     },
     "output_type": "display_data"
    }
   ],
   "source": [
    "fig = plt.figure(figsize=(16,5))\n",
    "ax_1 = fig.add_subplot(1, 2, 1)\n",
    "ax_2 = fig.add_subplot(1, 2, 2)\n",
    "sns.histplot(x=df.balance, kde=True, ax=ax_1)\n",
    "ax_2 = sns.boxplot(x=df.balance, ax=ax_2)\n",
    "ax_1.set_title('Гистограмма распределения остатков на счетах', fontsize=12)\n",
    "ax_2.set_title('Ящик с усами остатков на счетах', fontsize=12)"
   ]
  },
  {
   "cell_type": "markdown",
   "id": "03d193b3",
   "metadata": {},
   "source": [
    "Если бы не объекты с нулевым балансом и небольшая группка с большими остатками на счетах, то было бы идеальное нормальное распределение. С этим признаком все хорошо."
   ]
  },
  {
   "cell_type": "markdown",
   "id": "698f3541",
   "metadata": {},
   "source": [
    "**Посмотрим поле num_of_products**"
   ]
  },
  {
   "cell_type": "code",
   "execution_count": 26,
   "id": "10ff61ef",
   "metadata": {},
   "outputs": [
    {
     "data": {
      "text/plain": [
       "array([1, 3, 2, 4], dtype=int64)"
      ]
     },
     "execution_count": 26,
     "metadata": {},
     "output_type": "execute_result"
    }
   ],
   "source": [
    "df.num_of_products.unique()"
   ]
  },
  {
   "cell_type": "markdown",
   "id": "cebdb68a",
   "metadata": {},
   "source": [
    "Несмотря на то, что формально это количественный признак по существу это категориальный признак выраженный сразу числовым кодом. Нельзя иметь 2,5 продукта и нельзя иметь 50 продуктов (в реальной жизни)."
   ]
  },
  {
   "cell_type": "markdown",
   "id": "c12fe7b0",
   "metadata": {},
   "source": [
    "Посмотрим распределение объектов по количеству продуктов."
   ]
  },
  {
   "cell_type": "code",
   "execution_count": 27,
   "id": "504957ea",
   "metadata": {},
   "outputs": [
    {
     "data": {
      "text/plain": [
       "1    4617\n",
       "2    4184\n",
       "3     234\n",
       "4      56\n",
       "Name: num_of_products, dtype: int64"
      ]
     },
     "execution_count": 27,
     "metadata": {},
     "output_type": "execute_result"
    }
   ],
   "source": [
    "df.num_of_products.value_counts()"
   ]
  },
  {
   "cell_type": "markdown",
   "id": "afbbda97",
   "metadata": {},
   "source": [
    "Количество пользуемых продуктов обратно пропорционально количеству клиентов."
   ]
  },
  {
   "cell_type": "markdown",
   "id": "423cd9f1",
   "metadata": {},
   "source": [
    "**Посмотрим поле has_credcard**"
   ]
  },
  {
   "cell_type": "code",
   "execution_count": 28,
   "id": "baae4950",
   "metadata": {},
   "outputs": [
    {
     "data": {
      "text/plain": [
       "array([1, 0], dtype=int64)"
      ]
     },
     "execution_count": 28,
     "metadata": {},
     "output_type": "execute_result"
    }
   ],
   "source": [
    "df.has_credcard.unique()"
   ]
  },
  {
   "cell_type": "code",
   "execution_count": 29,
   "id": "8add96e9",
   "metadata": {},
   "outputs": [
    {
     "data": {
      "text/plain": [
       "1    6409\n",
       "0    2682\n",
       "Name: has_credcard, dtype: int64"
      ]
     },
     "execution_count": 29,
     "metadata": {},
     "output_type": "execute_result"
    }
   ],
   "source": [
    "df.has_credcard.value_counts()"
   ]
  },
  {
   "cell_type": "markdown",
   "id": "07d09ab0",
   "metadata": {},
   "source": [
    "Отношение 2,3:1 в пользу клиентов с кредитной картой."
   ]
  },
  {
   "cell_type": "markdown",
   "id": "c5c69d82",
   "metadata": {},
   "source": [
    "**Посмотрим поле IsActiveMember**"
   ]
  },
  {
   "cell_type": "code",
   "execution_count": 30,
   "id": "ae94666f",
   "metadata": {},
   "outputs": [
    {
     "data": {
      "text/plain": [
       "array([1, 0], dtype=int64)"
      ]
     },
     "execution_count": 30,
     "metadata": {},
     "output_type": "execute_result"
    }
   ],
   "source": [
    "df.is_active_member.unique()"
   ]
  },
  {
   "cell_type": "code",
   "execution_count": 31,
   "id": "13f633d2",
   "metadata": {},
   "outputs": [
    {
     "data": {
      "text/plain": [
       "1    4687\n",
       "0    4404\n",
       "Name: is_active_member, dtype: int64"
      ]
     },
     "execution_count": 31,
     "metadata": {},
     "output_type": "execute_result"
    }
   ],
   "source": [
    "df.is_active_member.value_counts()"
   ]
  },
  {
   "cell_type": "markdown",
   "id": "6f2d6b5b",
   "metadata": {},
   "source": [
    "Клиенты распределены поровну на активных и неактивных."
   ]
  },
  {
   "cell_type": "markdown",
   "id": "3a3bc6b9",
   "metadata": {},
   "source": [
    "**Посмотрим поле estimated_salary**"
   ]
  },
  {
   "cell_type": "code",
   "execution_count": 32,
   "id": "bf8e10f5",
   "metadata": {},
   "outputs": [
    {
     "data": {
      "text/plain": [
       "count      9091.000000\n",
       "mean     100181.214924\n",
       "std       57624.755647\n",
       "min          11.580000\n",
       "25%       51227.745000\n",
       "50%      100240.200000\n",
       "75%      149567.210000\n",
       "max      199992.480000\n",
       "Name: estimated_salary, dtype: float64"
      ]
     },
     "execution_count": 32,
     "metadata": {},
     "output_type": "execute_result"
    }
   ],
   "source": [
    "df.estimated_salary.describe()"
   ]
  },
  {
   "cell_type": "code",
   "execution_count": 33,
   "id": "a97682f9",
   "metadata": {},
   "outputs": [
    {
     "data": {
      "text/plain": [
       "Text(0.5, 1.0, 'Ящик с усами оценок доходов')"
      ]
     },
     "execution_count": 33,
     "metadata": {},
     "output_type": "execute_result"
    },
    {
     "data": {
      "image/png": "[encoded data removed]",
      "text/plain": [
       "<Figure size 1152x360 with 2 Axes>"
      ]
     },
     "metadata": {
      "needs_background": "light"
     },
     "output_type": "display_data"
    }
   ],
   "source": [
    "fig = plt.figure(figsize=(16,5))\n",
    "ax_1 = fig.add_subplot(1, 2, 1)\n",
    "ax_2 = fig.add_subplot(1, 2, 2)\n",
    "sns.histplot(x=df.estimated_salary, kde=True, ax=ax_1)\n",
    "ax_2 = sns.boxplot(x=df.estimated_salary, ax=ax_2)\n",
    "ax_1.set_title('Гистограмма распределения доходов', fontsize=12)\n",
    "ax_2.set_title('Ящик с усами оценок доходов', fontsize=12)"
   ]
  },
  {
   "cell_type": "markdown",
   "id": "2279d0a0",
   "metadata": {},
   "source": [
    "Идельное равномерное распределение клиентов по уровню дохода. Просто всех категорий по уровню доходов поровну."
   ]
  },
  {
   "cell_type": "markdown",
   "id": "6eafc573",
   "metadata": {},
   "source": [
    "**Посмотрим поле Exited**"
   ]
  },
  {
   "cell_type": "code",
   "execution_count": 34,
   "id": "bf3588f2",
   "metadata": {},
   "outputs": [
    {
     "data": {
      "text/plain": [
       "0    7237\n",
       "1    1854\n",
       "Name: exited, dtype: int64"
      ]
     },
     "execution_count": 34,
     "metadata": {},
     "output_type": "execute_result"
    }
   ],
   "source": [
    "df.exited.value_counts()"
   ]
  },
  {
   "cell_type": "markdown",
   "id": "2f153759",
   "metadata": {},
   "source": [
    "Налицо дисбаланс класса целевого признака - почти 4:1 \"нули\" к \"единицам\""
   ]
  },
  {
   "cell_type": "markdown",
   "id": "ce1692f9",
   "metadata": {},
   "source": [
    "**Резюме:**<br>\n",
    "Данные почти хорошие. Местами наблюдается дисбаланс класса по признакам, а также довольно существенный дисбаланс по целевому признаку. В рамках предобработки удалены были 909 объектов (9% выборки) с отсутствующими данными по длительности нахождения клиента на обслуживании в банке. В целом данные по структуре и распределению неплохие. Дальше будет анализироваться зависимость данных между собой."
   ]
  },
  {
   "cell_type": "markdown",
   "id": "51ec8633",
   "metadata": {},
   "source": [
    "# Оценка зависимости данных, кодировка и нормализация"
   ]
  },
  {
   "cell_type": "markdown",
   "id": "c141572a",
   "metadata": {},
   "source": [
    "Составим матрицу корреляции Пирсона между следующими признаками:<br>\n",
    "- Кредитный рейтинг;\n",
    "- Пол;\n",
    "- Возраст;\n",
    "- Срок обслуживания в банке;\n",
    "- Баланс счета;\n",
    "- Количество продуктов на клиенте;\n",
    "- Наличие кредитной карты;\n",
    "- Активность клиента;\n",
    "- Доход;\n",
    "- Целевой признак."
   ]
  },
  {
   "cell_type": "code",
   "execution_count": 35,
   "id": "1654adf1",
   "metadata": {},
   "outputs": [],
   "source": [
    "# Составим список признаков для матрицы корреляции\n",
    "# перед этим закодируем поле gender \n",
    "df.gender = [1 if x=='Male' else 0 for x in df.gender] "
   ]
  },
  {
   "cell_type": "code",
   "execution_count": 36,
   "id": "b8cea6be",
   "metadata": {},
   "outputs": [],
   "source": [
    "data = ['credit_score', 'age', 'gender', 'tenure', 'balance',\n",
    "       'num_of_products', 'has_credcard', 'is_active_member',\n",
    "       'estimated_salary', 'exited']"
   ]
  },
  {
   "cell_type": "code",
   "execution_count": 37,
   "id": "68e49875",
   "metadata": {},
   "outputs": [
    {
     "data": {
      "text/html": [
       "<div>\n",
       "<style scoped>\n",
       "    .dataframe tbody tr th:only-of-type {\n",
       "        vertical-align: middle;\n",
       "    }\n",
       "\n",
       "    .dataframe tbody tr th {\n",
       "        vertical-align: top;\n",
       "    }\n",
       "\n",
       "    .dataframe thead th {\n",
       "        text-align: right;\n",
       "    }\n",
       "</style>\n",
       "<table border=\"1\" class=\"dataframe\">\n",
       "  <thead>\n",
       "    <tr style=\"text-align: right;\">\n",
       "      <th></th>\n",
       "      <th>credit_score</th>\n",
       "      <th>age</th>\n",
       "      <th>gender</th>\n",
       "      <th>tenure</th>\n",
       "      <th>balance</th>\n",
       "      <th>num_of_products</th>\n",
       "      <th>has_credcard</th>\n",
       "      <th>is_active_member</th>\n",
       "      <th>estimated_salary</th>\n",
       "      <th>exited</th>\n",
       "    </tr>\n",
       "  </thead>\n",
       "  <tbody>\n",
       "    <tr>\n",
       "      <th>credit_score</th>\n",
       "      <td>1.000000</td>\n",
       "      <td>-0.004504</td>\n",
       "      <td>-0.008547</td>\n",
       "      <td>-0.000062</td>\n",
       "      <td>0.002804</td>\n",
       "      <td>0.011090</td>\n",
       "      <td>-0.003937</td>\n",
       "      <td>0.030947</td>\n",
       "      <td>0.005182</td>\n",
       "      <td>-0.023950</td>\n",
       "    </tr>\n",
       "    <tr>\n",
       "      <th>age</th>\n",
       "      <td>-0.004504</td>\n",
       "      <td>1.000000</td>\n",
       "      <td>-0.025631</td>\n",
       "      <td>-0.013134</td>\n",
       "      <td>0.031481</td>\n",
       "      <td>-0.031877</td>\n",
       "      <td>-0.014129</td>\n",
       "      <td>0.082269</td>\n",
       "      <td>-0.007037</td>\n",
       "      <td>0.283017</td>\n",
       "    </tr>\n",
       "    <tr>\n",
       "      <th>gender</th>\n",
       "      <td>-0.008547</td>\n",
       "      <td>-0.025631</td>\n",
       "      <td>1.000000</td>\n",
       "      <td>0.012634</td>\n",
       "      <td>0.018030</td>\n",
       "      <td>-0.025176</td>\n",
       "      <td>0.006016</td>\n",
       "      <td>0.025019</td>\n",
       "      <td>-0.002658</td>\n",
       "      <td>-0.110450</td>\n",
       "    </tr>\n",
       "    <tr>\n",
       "      <th>tenure</th>\n",
       "      <td>-0.000062</td>\n",
       "      <td>-0.013134</td>\n",
       "      <td>0.012634</td>\n",
       "      <td>1.000000</td>\n",
       "      <td>-0.007911</td>\n",
       "      <td>0.011979</td>\n",
       "      <td>0.027232</td>\n",
       "      <td>-0.032178</td>\n",
       "      <td>0.010520</td>\n",
       "      <td>-0.016761</td>\n",
       "    </tr>\n",
       "    <tr>\n",
       "      <th>balance</th>\n",
       "      <td>0.002804</td>\n",
       "      <td>0.031481</td>\n",
       "      <td>0.018030</td>\n",
       "      <td>-0.007911</td>\n",
       "      <td>1.000000</td>\n",
       "      <td>-0.301858</td>\n",
       "      <td>-0.019055</td>\n",
       "      <td>-0.003285</td>\n",
       "      <td>0.014351</td>\n",
       "      <td>0.117218</td>\n",
       "    </tr>\n",
       "    <tr>\n",
       "      <th>num_of_products</th>\n",
       "      <td>0.011090</td>\n",
       "      <td>-0.031877</td>\n",
       "      <td>-0.025176</td>\n",
       "      <td>0.011979</td>\n",
       "      <td>-0.301858</td>\n",
       "      <td>1.000000</td>\n",
       "      <td>0.005805</td>\n",
       "      <td>0.009084</td>\n",
       "      <td>0.013990</td>\n",
       "      <td>-0.050271</td>\n",
       "    </tr>\n",
       "    <tr>\n",
       "      <th>has_credcard</th>\n",
       "      <td>-0.003937</td>\n",
       "      <td>-0.014129</td>\n",
       "      <td>0.006016</td>\n",
       "      <td>0.027232</td>\n",
       "      <td>-0.019055</td>\n",
       "      <td>0.005805</td>\n",
       "      <td>1.000000</td>\n",
       "      <td>-0.008810</td>\n",
       "      <td>-0.006136</td>\n",
       "      <td>-0.005411</td>\n",
       "    </tr>\n",
       "    <tr>\n",
       "      <th>is_active_member</th>\n",
       "      <td>0.030947</td>\n",
       "      <td>0.082269</td>\n",
       "      <td>0.025019</td>\n",
       "      <td>-0.032178</td>\n",
       "      <td>-0.003285</td>\n",
       "      <td>0.009084</td>\n",
       "      <td>-0.008810</td>\n",
       "      <td>1.000000</td>\n",
       "      <td>-0.020049</td>\n",
       "      <td>-0.155062</td>\n",
       "    </tr>\n",
       "    <tr>\n",
       "      <th>estimated_salary</th>\n",
       "      <td>0.005182</td>\n",
       "      <td>-0.007037</td>\n",
       "      <td>-0.002658</td>\n",
       "      <td>0.010520</td>\n",
       "      <td>0.014351</td>\n",
       "      <td>0.013990</td>\n",
       "      <td>-0.006136</td>\n",
       "      <td>-0.020049</td>\n",
       "      <td>1.000000</td>\n",
       "      <td>0.016029</td>\n",
       "    </tr>\n",
       "    <tr>\n",
       "      <th>exited</th>\n",
       "      <td>-0.023950</td>\n",
       "      <td>0.283017</td>\n",
       "      <td>-0.110450</td>\n",
       "      <td>-0.016761</td>\n",
       "      <td>0.117218</td>\n",
       "      <td>-0.050271</td>\n",
       "      <td>-0.005411</td>\n",
       "      <td>-0.155062</td>\n",
       "      <td>0.016029</td>\n",
       "      <td>1.000000</td>\n",
       "    </tr>\n",
       "  </tbody>\n",
       "</table>\n",
       "</div>"
      ],
      "text/plain": [
       "                  credit_score       age    gender    tenure   balance  \\\n",
       "credit_score          1.000000 -0.004504 -0.008547 -0.000062  0.002804   \n",
       "age                  -0.004504  1.000000 -0.025631 -0.013134  0.031481   \n",
       "gender               -0.008547 -0.025631  1.000000  0.012634  0.018030   \n",
       "tenure               -0.000062 -0.013134  0.012634  1.000000 -0.007911   \n",
       "balance               0.002804  0.031481  0.018030 -0.007911  1.000000   \n",
       "num_of_products       0.011090 -0.031877 -0.025176  0.011979 -0.301858   \n",
       "has_credcard         -0.003937 -0.014129  0.006016  0.027232 -0.019055   \n",
       "is_active_member      0.030947  0.082269  0.025019 -0.032178 -0.003285   \n",
       "estimated_salary      0.005182 -0.007037 -0.002658  0.010520  0.014351   \n",
       "exited               -0.023950  0.283017 -0.110450 -0.016761  0.117218   \n",
       "\n",
       "                  num_of_products  has_credcard  is_active_member  \\\n",
       "credit_score             0.011090     -0.003937          0.030947   \n",
       "age                     -0.031877     -0.014129          0.082269   \n",
       "gender                  -0.025176      0.006016          0.025019   \n",
       "tenure                   0.011979      0.027232         -0.032178   \n",
       "balance                 -0.301858     -0.019055         -0.003285   \n",
       "num_of_products          1.000000      0.005805          0.009084   \n",
       "has_credcard             0.005805      1.000000         -0.008810   \n",
       "is_active_member         0.009084     -0.008810          1.000000   \n",
       "estimated_salary         0.013990     -0.006136         -0.020049   \n",
       "exited                  -0.050271     -0.005411         -0.155062   \n",
       "\n",
       "                  estimated_salary    exited  \n",
       "credit_score              0.005182 -0.023950  \n",
       "age                      -0.007037  0.283017  \n",
       "gender                   -0.002658 -0.110450  \n",
       "tenure                    0.010520 -0.016761  \n",
       "balance                   0.014351  0.117218  \n",
       "num_of_products           0.013990 -0.050271  \n",
       "has_credcard             -0.006136 -0.005411  \n",
       "is_active_member         -0.020049 -0.155062  \n",
       "estimated_salary          1.000000  0.016029  \n",
       "exited                    0.016029  1.000000  "
      ]
     },
     "execution_count": 37,
     "metadata": {},
     "output_type": "execute_result"
    }
   ],
   "source": [
    "df[data].corr()"
   ]
  },
  {
   "cell_type": "markdown",
   "id": "91519118",
   "metadata": {},
   "source": [
    "Возможные зависимости между признаками:\n",
    "1. Баланс счета и уровень проникновения в клиента корреляция -0,30.\n",
    "2. Возраст и целевой признак корреляция 0,28.\n",
    "Корреляции между данными признаками довольно слабая, но все же она может влиять на будущую модель классификации.\n",
    "Первую корреляцию можно интерпретировать так - чем больше у клиента денег на счете тем больше продуктов - дебетовая карта, депозит и пр. (список продуктов неизвестен).\n",
    "Вторую корреляцию можно интепретировать так  - чем страше клиент, тем меньше он нуждается в услугах банка, а кто-то и еще умирает при этом.<br>\n",
    "\n",
    "Есть еще очень слабенькая корреляция между активнстью клиента и целевым признаком."
   ]
  },
  {
   "cell_type": "markdown",
   "id": "961e5130",
   "metadata": {},
   "source": [
    "**Резюме.**<br>\n",
    "Данные хорошие, с четкой структурой распределения, а также с минимальными выбросами. Данные готовы к этапу разделения на выборки для обучения моделей."
   ]
  },
  {
   "cell_type": "markdown",
   "id": "475d55bc",
   "metadata": {},
   "source": [
    "# Кодировка полей с категориальными данными"
   ]
  },
  {
   "cell_type": "markdown",
   "id": "65b3cf70",
   "metadata": {},
   "source": [
    "Сделаем кодировку категориальных признаков - страна клиента. Кодировку сделаем с помощью OneHotEncoder с удалением зависимого признака"
   ]
  },
  {
   "cell_type": "code",
   "execution_count": 38,
   "id": "892d0072",
   "metadata": {},
   "outputs": [],
   "source": [
    "df_ohe = pd.get_dummies(df, columns=['geography'], drop_first=True)"
   ]
  },
  {
   "cell_type": "code",
   "execution_count": 39,
   "id": "7ae5f938",
   "metadata": {},
   "outputs": [
    {
     "data": {
      "text/html": [
       "<div>\n",
       "<style scoped>\n",
       "    .dataframe tbody tr th:only-of-type {\n",
       "        vertical-align: middle;\n",
       "    }\n",
       "\n",
       "    .dataframe tbody tr th {\n",
       "        vertical-align: top;\n",
       "    }\n",
       "\n",
       "    .dataframe thead th {\n",
       "        text-align: right;\n",
       "    }\n",
       "</style>\n",
       "<table border=\"1\" class=\"dataframe\">\n",
       "  <thead>\n",
       "    <tr style=\"text-align: right;\">\n",
       "      <th></th>\n",
       "      <th>credit_score</th>\n",
       "      <th>gender</th>\n",
       "      <th>age</th>\n",
       "      <th>tenure</th>\n",
       "      <th>balance</th>\n",
       "      <th>num_of_products</th>\n",
       "      <th>has_credcard</th>\n",
       "      <th>is_active_member</th>\n",
       "      <th>estimated_salary</th>\n",
       "      <th>exited</th>\n",
       "      <th>geography_Germany</th>\n",
       "      <th>geography_Spain</th>\n",
       "    </tr>\n",
       "    <tr>\n",
       "      <th>сustomer_id</th>\n",
       "      <th></th>\n",
       "      <th></th>\n",
       "      <th></th>\n",
       "      <th></th>\n",
       "      <th></th>\n",
       "      <th></th>\n",
       "      <th></th>\n",
       "      <th></th>\n",
       "      <th></th>\n",
       "      <th></th>\n",
       "      <th></th>\n",
       "      <th></th>\n",
       "    </tr>\n",
       "  </thead>\n",
       "  <tbody>\n",
       "    <tr>\n",
       "      <th>15634602</th>\n",
       "      <td>619</td>\n",
       "      <td>0</td>\n",
       "      <td>42</td>\n",
       "      <td>2.0</td>\n",
       "      <td>0.00</td>\n",
       "      <td>1</td>\n",
       "      <td>1</td>\n",
       "      <td>1</td>\n",
       "      <td>101348.88</td>\n",
       "      <td>1</td>\n",
       "      <td>0</td>\n",
       "      <td>0</td>\n",
       "    </tr>\n",
       "    <tr>\n",
       "      <th>15647311</th>\n",
       "      <td>608</td>\n",
       "      <td>0</td>\n",
       "      <td>41</td>\n",
       "      <td>1.0</td>\n",
       "      <td>83807.86</td>\n",
       "      <td>1</td>\n",
       "      <td>0</td>\n",
       "      <td>1</td>\n",
       "      <td>112542.58</td>\n",
       "      <td>0</td>\n",
       "      <td>0</td>\n",
       "      <td>1</td>\n",
       "    </tr>\n",
       "    <tr>\n",
       "      <th>15619304</th>\n",
       "      <td>502</td>\n",
       "      <td>0</td>\n",
       "      <td>42</td>\n",
       "      <td>8.0</td>\n",
       "      <td>159660.80</td>\n",
       "      <td>3</td>\n",
       "      <td>1</td>\n",
       "      <td>0</td>\n",
       "      <td>113931.57</td>\n",
       "      <td>1</td>\n",
       "      <td>0</td>\n",
       "      <td>0</td>\n",
       "    </tr>\n",
       "    <tr>\n",
       "      <th>15701354</th>\n",
       "      <td>699</td>\n",
       "      <td>0</td>\n",
       "      <td>39</td>\n",
       "      <td>1.0</td>\n",
       "      <td>0.00</td>\n",
       "      <td>2</td>\n",
       "      <td>0</td>\n",
       "      <td>0</td>\n",
       "      <td>93826.63</td>\n",
       "      <td>0</td>\n",
       "      <td>0</td>\n",
       "      <td>0</td>\n",
       "    </tr>\n",
       "    <tr>\n",
       "      <th>15737888</th>\n",
       "      <td>850</td>\n",
       "      <td>0</td>\n",
       "      <td>43</td>\n",
       "      <td>2.0</td>\n",
       "      <td>125510.82</td>\n",
       "      <td>1</td>\n",
       "      <td>1</td>\n",
       "      <td>1</td>\n",
       "      <td>79084.10</td>\n",
       "      <td>0</td>\n",
       "      <td>0</td>\n",
       "      <td>1</td>\n",
       "    </tr>\n",
       "  </tbody>\n",
       "</table>\n",
       "</div>"
      ],
      "text/plain": [
       "             credit_score  gender  age  tenure    balance  num_of_products  \\\n",
       "сustomer_id                                                                  \n",
       "15634602              619       0   42     2.0       0.00                1   \n",
       "15647311              608       0   41     1.0   83807.86                1   \n",
       "15619304              502       0   42     8.0  159660.80                3   \n",
       "15701354              699       0   39     1.0       0.00                2   \n",
       "15737888              850       0   43     2.0  125510.82                1   \n",
       "\n",
       "             has_credcard  is_active_member  estimated_salary  exited  \\\n",
       "сustomer_id                                                             \n",
       "15634602                1                 1         101348.88       1   \n",
       "15647311                0                 1         112542.58       0   \n",
       "15619304                1                 0         113931.57       1   \n",
       "15701354                0                 0          93826.63       0   \n",
       "15737888                1                 1          79084.10       0   \n",
       "\n",
       "             geography_Germany  geography_Spain  \n",
       "сustomer_id                                      \n",
       "15634602                     0                0  \n",
       "15647311                     0                1  \n",
       "15619304                     0                0  \n",
       "15701354                     0                0  \n",
       "15737888                     0                1  "
      ]
     },
     "execution_count": 39,
     "metadata": {},
     "output_type": "execute_result"
    }
   ],
   "source": [
    "df_ohe.head()"
   ]
  },
  {
   "cell_type": "markdown",
   "id": "96ad6efb",
   "metadata": {},
   "source": [
    "На этом пока остановимся и перейдем к разбиеню выборки на обучающую, валидационную и тестовую"
   ]
  },
  {
   "cell_type": "markdown",
   "id": "99b2f7f7",
   "metadata": {},
   "source": [
    "# Разбиение датасета для обучения, валидации и теста, а также нормализация полей с числовыми данными "
   ]
  },
  {
   "cell_type": "markdown",
   "id": "423c8aeb",
   "metadata": {},
   "source": [
    "Напишем функцию, которая на входе получает датасет, а на выходе выдает обучающую и тестовую выборки. <br> \n",
    "Валидационную выборку делать не будем, т.к. будем пользоваться подборщиком гиперпараметров, который внутри себя будет использовать кросс-валидацию.  "
   ]
  },
  {
   "cell_type": "code",
   "execution_count": 42,
   "id": "352469c6",
   "metadata": {},
   "outputs": [],
   "source": [
    "# функция, которая делит выборк на обучающую и тестовую\n",
    "def selection(features, target, random_state, frac, stratify):\n",
    "    return train_test_split(features, target, test_size=frac,  random_state=random_state, stratify=stratify)"
   ]
  },
  {
   "cell_type": "code",
   "execution_count": 43,
   "id": "ca4bda7e",
   "metadata": {},
   "outputs": [
    {
     "data": {
      "text/html": [
       "<div>\n",
       "<style scoped>\n",
       "    .dataframe tbody tr th:only-of-type {\n",
       "        vertical-align: middle;\n",
       "    }\n",
       "\n",
       "    .dataframe tbody tr th {\n",
       "        vertical-align: top;\n",
       "    }\n",
       "\n",
       "    .dataframe thead th {\n",
       "        text-align: right;\n",
       "    }\n",
       "</style>\n",
       "<table border=\"1\" class=\"dataframe\">\n",
       "  <thead>\n",
       "    <tr style=\"text-align: right;\">\n",
       "      <th></th>\n",
       "      <th>credit_score</th>\n",
       "      <th>gender</th>\n",
       "      <th>age</th>\n",
       "      <th>tenure</th>\n",
       "      <th>balance</th>\n",
       "      <th>num_of_products</th>\n",
       "      <th>has_credcard</th>\n",
       "      <th>is_active_member</th>\n",
       "      <th>estimated_salary</th>\n",
       "      <th>geography_Germany</th>\n",
       "      <th>geography_Spain</th>\n",
       "    </tr>\n",
       "    <tr>\n",
       "      <th>сustomer_id</th>\n",
       "      <th></th>\n",
       "      <th></th>\n",
       "      <th></th>\n",
       "      <th></th>\n",
       "      <th></th>\n",
       "      <th></th>\n",
       "      <th></th>\n",
       "      <th></th>\n",
       "      <th></th>\n",
       "      <th></th>\n",
       "      <th></th>\n",
       "    </tr>\n",
       "  </thead>\n",
       "  <tbody>\n",
       "    <tr>\n",
       "      <th>15794566</th>\n",
       "      <td>678</td>\n",
       "      <td>0</td>\n",
       "      <td>28</td>\n",
       "      <td>4.0</td>\n",
       "      <td>0.00</td>\n",
       "      <td>2</td>\n",
       "      <td>1</td>\n",
       "      <td>1</td>\n",
       "      <td>144423.17</td>\n",
       "      <td>0</td>\n",
       "      <td>0</td>\n",
       "    </tr>\n",
       "    <tr>\n",
       "      <th>15634936</th>\n",
       "      <td>735</td>\n",
       "      <td>1</td>\n",
       "      <td>41</td>\n",
       "      <td>7.0</td>\n",
       "      <td>179904.00</td>\n",
       "      <td>1</td>\n",
       "      <td>1</td>\n",
       "      <td>1</td>\n",
       "      <td>137180.95</td>\n",
       "      <td>0</td>\n",
       "      <td>0</td>\n",
       "    </tr>\n",
       "    <tr>\n",
       "      <th>15584897</th>\n",
       "      <td>639</td>\n",
       "      <td>0</td>\n",
       "      <td>31</td>\n",
       "      <td>3.0</td>\n",
       "      <td>98360.03</td>\n",
       "      <td>1</td>\n",
       "      <td>0</td>\n",
       "      <td>0</td>\n",
       "      <td>20973.80</td>\n",
       "      <td>0</td>\n",
       "      <td>0</td>\n",
       "    </tr>\n",
       "    <tr>\n",
       "      <th>15701121</th>\n",
       "      <td>521</td>\n",
       "      <td>1</td>\n",
       "      <td>38</td>\n",
       "      <td>5.0</td>\n",
       "      <td>110641.18</td>\n",
       "      <td>1</td>\n",
       "      <td>0</td>\n",
       "      <td>1</td>\n",
       "      <td>136507.69</td>\n",
       "      <td>0</td>\n",
       "      <td>0</td>\n",
       "    </tr>\n",
       "    <tr>\n",
       "      <th>15684294</th>\n",
       "      <td>735</td>\n",
       "      <td>1</td>\n",
       "      <td>50</td>\n",
       "      <td>2.0</td>\n",
       "      <td>0.00</td>\n",
       "      <td>2</td>\n",
       "      <td>0</td>\n",
       "      <td>1</td>\n",
       "      <td>147075.69</td>\n",
       "      <td>0</td>\n",
       "      <td>0</td>\n",
       "    </tr>\n",
       "  </tbody>\n",
       "</table>\n",
       "</div>"
      ],
      "text/plain": [
       "             credit_score  gender  age  tenure    balance  num_of_products  \\\n",
       "сustomer_id                                                                  \n",
       "15794566              678       0   28     4.0       0.00                2   \n",
       "15634936              735       1   41     7.0  179904.00                1   \n",
       "15584897              639       0   31     3.0   98360.03                1   \n",
       "15701121              521       1   38     5.0  110641.18                1   \n",
       "15684294              735       1   50     2.0       0.00                2   \n",
       "\n",
       "             has_credcard  is_active_member  estimated_salary  \\\n",
       "сustomer_id                                                     \n",
       "15794566                1                 1         144423.17   \n",
       "15634936                1                 1         137180.95   \n",
       "15584897                0                 0          20973.80   \n",
       "15701121                0                 1         136507.69   \n",
       "15684294                0                 1         147075.69   \n",
       "\n",
       "             geography_Germany  geography_Spain  \n",
       "сustomer_id                                      \n",
       "15794566                     0                0  \n",
       "15634936                     0                0  \n",
       "15584897                     0                0  \n",
       "15701121                     0                0  \n",
       "15684294                     0                0  "
      ]
     },
     "execution_count": 43,
     "metadata": {},
     "output_type": "execute_result"
    }
   ],
   "source": [
    "target = df_ohe.exited\n",
    "features = df_ohe.drop('exited', axis=1)\n",
    "\n",
    "features_train, features_test, target_train, target_test = selection(features, target, 12345, 0.2, target)\n",
    "features_train, features_valid, target_train, target_valid = selection(features_train, target_train, 12345, 0.25, target_train)\n",
    "features_train.head()"
   ]
  },
  {
   "cell_type": "markdown",
   "id": "20b18edf",
   "metadata": {},
   "source": [
    "Посмотрим размеры полученных выборок в результате нашего разбиения."
   ]
  },
  {
   "cell_type": "code",
   "execution_count": 44,
   "id": "f3f85a0b",
   "metadata": {},
   "outputs": [
    {
     "name": "stdout",
     "output_type": "stream",
     "text": [
      "Размер обучающей выборки = (5454, 11)\n",
      "Размер валидационной выборки = (1818, 11)\n",
      "Размер тестовой выборки = (1819, 11)\n"
     ]
    }
   ],
   "source": [
    "print('Размер обучающей выборки =', features_train.shape)\n",
    "print('Размер валидационной выборки =', features_valid.shape)\n",
    "print('Размер тестовой выборки =', features_test.shape)"
   ]
  },
  {
   "cell_type": "markdown",
   "id": "0d64190a",
   "metadata": {},
   "source": [
    "Сделаем список признаков, которые нужно нормализовать и сделаем нормировку количественных признаков"
   ]
  },
  {
   "cell_type": "code",
   "execution_count": 45,
   "id": "a36ce38c",
   "metadata": {},
   "outputs": [],
   "source": [
    "numeric = ['credit_score', 'age', 'tenure', 'balance', 'num_of_products', 'estimated_salary']\n",
    "\n",
    "scaler = StandardScaler()\n",
    "scaler.fit(features_train[numeric])\n",
    "\n",
    "features_train[numeric] = scaler.transform(features_train[numeric])\n",
    "features_valid[numeric] = scaler.transform(features_valid[numeric])\n",
    "features_test[numeric] = scaler.transform(features_test[numeric])"
   ]
  },
  {
   "cell_type": "markdown",
   "id": "2fa636e1",
   "metadata": {},
   "source": [
    "# Определение функций необходимых для проведения обучения моделей"
   ]
  },
  {
   "cell_type": "code",
   "execution_count": 46,
   "id": "d539b024",
   "metadata": {},
   "outputs": [],
   "source": [
    "# функция, которая вычисляет метрики и возвращает список метрик и модель\n",
    "def result_model(model, features, target):\n",
    "    return [model.score(features, target), \n",
    "            precision_score(target, model.predict(features)),\n",
    "            recall_score(target, model.predict(features)),\n",
    "            roc_auc_score(target, model.predict_proba(features)[:,1]),\n",
    "            f1_score(target, model.predict(features))]\n",
    "\n",
    "# функция подборщик моделей логистической регрессии\n",
    "def LR_model_f1(features_train, target_train, class_weight):\n",
    "    logistic = LogisticRegression(solver='saga', tol=0.00001, max_iter=1000, random_state=12345, class_weight=class_weight)\n",
    "    parametrs = dict(C=[0.1, 0.2, 0.3, 0.4, 0.5, 0.6, 0.7, 0.8, 0.9],\n",
    "                     penalty=['l2', 'l1'])\n",
    "    clf = RandomizedSearchCV(logistic, \n",
    "                             parametrs, \n",
    "                             random_state=12345, \n",
    "                             cv=5, \n",
    "                             scoring='f1',\n",
    "                             n_jobs=-1)\n",
    "    search = clf.fit(features_train, target_train)\n",
    "    return search.best_estimator_\n",
    "\n",
    "# функция подборщик моделей случайного леса\n",
    "def RFC_model_f1(features_train, target_train, class_weight):\n",
    "    RandomForest = RandomForestClassifier(random_state=12345, class_weight=class_weight)\n",
    "    parametrs = { 'n_estimators': range (20, 1001, 20),\n",
    "                  'max_depth': range (1, 10, 1) }\n",
    "    clf = RandomizedSearchCV(RandomForest, \n",
    "                             parametrs, \n",
    "                             random_state=12345, \n",
    "                             cv=5, \n",
    "                             scoring='f1', \n",
    "                             n_jobs=-1)\n",
    "    search = clf.fit(features_train, target_train)\n",
    "    return search.best_estimator_\n",
    "\n",
    "# функция подборщик моделей градиентного бустинга\n",
    "def GBC_model_f1(features_train, target_train):\n",
    "    parametrs = dict(n_estimators = [100, 200, 300, 400, 500, 600, 700, 800, 900, 1000],\n",
    "                     max_depth = [2, 3], \n",
    "                     learning_rate = np.arange(0.1, 0.9, 0.1))\n",
    "    GradientBoosting = GradientBoostingClassifier(random_state=12345)\n",
    "    clf = RandomizedSearchCV(GradientBoosting, \n",
    "                             parametrs, \n",
    "                             random_state=12345, \n",
    "                             cv=5, \n",
    "                             scoring='f1', \n",
    "                             n_jobs=-1)\n",
    "    search = clf.fit(features_train, target_train)\n",
    "    return search.best_estimator_\n",
    "\n",
    "# функция, которая выводит на экран результаты отработки моделей на обучающей и тестовой выборки\n",
    "def table_best(LR_model, RFC_model, GBC_model, features_train, target_train, features_test, target_test, param):\n",
    "\n",
    "    best_train = pd.DataFrame([result_model(LR_model, features_train, target_train),\n",
    "                         result_model(RFC_model, features_train, target_train),\n",
    "                         result_model(GBC_model, features_train, target_train)],\n",
    "                        columns=['accuracy', 'precision', 'recall', 'AUC ROC метрика', 'F1_score'],\n",
    "                        index=['LogisticRegression', 'RandomForest', 'GradientBoosting'])\n",
    "    best_test = pd.DataFrame([result_model(LR_model, features_test, target_test),\n",
    "                         result_model(RFC_model, features_test, target_test),\n",
    "                         result_model(GBC_model, features_test, target_test)],\n",
    "                        columns=['accuracy', 'precision', 'recall', 'AUC ROC метрика', 'F1_score'],\n",
    "                        index=['LogisticRegression', 'RandomForest', 'GradientBoosting'])\n",
    "    print()\n",
    "    print('Результаты работы подборщиков моделей по метрике F1 на обучающей выборке')\n",
    "    print(best_train if param!='balanced' else best_train.drop('GradientBoosting', axis=0))\n",
    "    print()\n",
    "    print('Результаты работы подборщиков моделей по метрике F1 на валидационной выборке')\n",
    "    print(best_test if param!='balanced' else best_test.drop('GradientBoosting', axis=0))\n",
    "    \n",
    "# функция, которая делает upsampling для обучающей выборки\n",
    "def upsample(features, target, repeat):\n",
    "    features_zeros = features[target == 0]\n",
    "    features_ones = features[target == 1]\n",
    "    target_zeros = target[target == 0]\n",
    "    target_ones = target[target == 1]\n",
    "\n",
    "    features_upsampled = pd.concat([features_zeros] + [features_ones] * repeat)\n",
    "    target_upsampled = pd.concat([target_zeros] + [target_ones] * repeat)\n",
    "    \n",
    "    features_upsampled, target_upsampled = shuffle(\n",
    "        features_upsampled, target_upsampled, random_state=12345)\n",
    "    \n",
    "    return features_upsampled, target_upsampled\n",
    "\n",
    "# функция, которая делает downsampling для обучающей выборки\n",
    "def downsample(features, target, fraction):\n",
    "    features_zeros = features[target == 0]\n",
    "    features_ones = features[target == 1]\n",
    "    target_zeros = target[target == 0]\n",
    "    target_ones = target[target == 1]\n",
    "\n",
    "    features_downsampled = pd.concat(\n",
    "        [features_zeros.sample(frac=fraction, random_state=12345)] + [features_ones])\n",
    "    target_downsampled = pd.concat(\n",
    "        [target_zeros.sample(frac=fraction, random_state=12345)] + [target_ones])\n",
    "    \n",
    "    features_downsampled, target_downsampled = shuffle(\n",
    "        features_downsampled, target_downsampled, random_state=12345)\n",
    "    \n",
    "    return features_downsampled, target_downsampled\n",
    "\n",
    "# функция которая делает таблицу сравнений метрик примитивных и рандомных моделей с полученной моделью\n",
    "def adequacy(model, features, target):\n",
    "    predict_const = [0]*(len(target)-1) + [1] # добавил одну 1, чтобы сработали функции по расчету метрик\n",
    "    predict_random = [int(random.randint(0, 1) == target[i]) for i in target.index]\n",
    "\n",
    "    data = [[accuracy_score(target, predict_const), accuracy_score(target, predict_random),\n",
    "             accuracy_score(target, model.predict(features))],\n",
    "            [precision_score(target, predict_const), precision_score(target, predict_random),\n",
    "             precision_score(target, model.predict(features))],\n",
    "            [recall_score(target, predict_const), recall_score(target, predict_random),\n",
    "             recall_score(target, model.predict(features))],\n",
    "            [f1_score(target, predict_const), f1_score(target, predict_random),\n",
    "             f1_score(target, model.predict(features))]]\n",
    "\n",
    "    return pd.DataFrame(data,\n",
    "                        columns=['predict_const', 'predict_random', 'best_model_ML'],\n",
    "                        index=['accuracy_score', 'precision_score', 'recall_score', 'f1_score'])"
   ]
  },
  {
   "cell_type": "markdown",
   "id": "49ca0b48",
   "metadata": {},
   "source": [
    "# Сделаем первую иттерацию по созданию моделей"
   ]
  },
  {
   "cell_type": "markdown",
   "id": "fbd676c7",
   "metadata": {},
   "source": [
    "Согласно заданию мы должны в первой иттерации посчитать все как есть без оптимизационных действий"
   ]
  },
  {
   "cell_type": "code",
   "execution_count": 47,
   "id": "b9c77cd1",
   "metadata": {},
   "outputs": [
    {
     "name": "stdout",
     "output_type": "stream",
     "text": [
      "\n",
      "Результаты работы подборщиков моделей по метрике F1 на обучающей выборке\n",
      "                    accuracy  precision    recall  AUC ROC метрика  F1_score\n",
      "LogisticRegression  0.809681   0.601093  0.197842         0.767384  0.297700\n",
      "RandomForest        0.895673   0.934400  0.525180         0.944447  0.672424\n",
      "GradientBoosting    0.959296   0.963542  0.831835         0.986812  0.892857\n",
      "\n",
      "Результаты работы подборщиков моделей по метрике F1 на валидационной выборке\n",
      "                    accuracy  precision    recall  AUC ROC метрика  F1_score\n",
      "LogisticRegression  0.804730   0.566667  0.183288         0.757908  0.276986\n",
      "RandomForest        0.864136   0.826316  0.423181         0.866617  0.559715\n",
      "GradientBoosting    0.842134   0.659091  0.469003         0.845225  0.548031\n"
     ]
    }
   ],
   "source": [
    "best_LR_model_f1_common = LR_model_f1(features_train, target_train, None)\n",
    "best_RFC_model_f1_common = RFC_model_f1(features_train, target_train, None)\n",
    "best_GBC_model_f1_common = GBC_model_f1(features_train, target_train)\n",
    "table_best(best_LR_model_f1_common, \n",
    "           best_RFC_model_f1_common, \n",
    "           best_GBC_model_f1_common, \n",
    "           features_train, target_train, features_valid, target_valid,\n",
    "           'common')"
   ]
  },
  {
   "cell_type": "code",
   "execution_count": 48,
   "id": "b2933bd1",
   "metadata": {},
   "outputs": [
    {
     "name": "stdout",
     "output_type": "stream",
     "text": [
      "Лучшая модель\n",
      "RandomForestClassifier(max_depth=9, random_state=12345)\n"
     ]
    }
   ],
   "source": [
    "print('Лучшая модель')\n",
    "print(best_RFC_model_f1_common)"
   ]
  },
  {
   "cell_type": "markdown",
   "id": "d0001615",
   "metadata": {},
   "source": [
    "**Резюме**<br>\n",
    "Лучший результат у RFC с параметрами (max_depth=9, random_state=12345). Но стоит отметить, что на валидационной выборке лучшая модель показала не самые лучшие результаты и не проходит под требования, что f1-score >=0.59 на тестовой выборке.<br>\n",
    "Без учета баланса классов целевого признака полученные модели показыват неудовлетворительные результаты метрики F1-score.\n"
   ]
  },
  {
   "cell_type": "markdown",
   "id": "9623bdb3",
   "metadata": {},
   "source": [
    "# Оптимизация выборок и моделей"
   ]
  },
  {
   "cell_type": "markdown",
   "id": "1652d295",
   "metadata": {},
   "source": [
    "Попробуем устранить дисбаласн классов целевого признака<br>\n",
    "В рамках оптимизации сделаем следующее:<br>\n",
    "1. Обучим наши модели с учетом веса целевого признака\n",
    "2. Сделаем вариант с upsampling обучающей выборки\n",
    "3. Сделаем вариант с downsampling обучающей выборки."
   ]
  },
  {
   "cell_type": "markdown",
   "id": "52508857",
   "metadata": {},
   "source": [
    "**1й вариант. Обучение с учетом параметра веса целевого признака**"
   ]
  },
  {
   "cell_type": "code",
   "execution_count": 49,
   "id": "4ce3cd29",
   "metadata": {},
   "outputs": [
    {
     "name": "stdout",
     "output_type": "stream",
     "text": [
      "\n",
      "Результаты работы подборщиков моделей по метрике F1 на обучающей выборке\n",
      "                    accuracy  precision    recall  AUC ROC метрика  F1_score\n",
      "LogisticRegression  0.715622   0.389754  0.697842         0.770921  0.500161\n",
      "RandomForest        0.897323   0.716641  0.821043         0.953265  0.765298\n",
      "\n",
      "Результаты работы подборщиков моделей по метрике F1 на валидационной выборке\n",
      "                    accuracy  precision    recall  AUC ROC метрика  F1_score\n",
      "LogisticRegression  0.710671   0.384844  0.698113          0.76155  0.496169\n",
      "RandomForest        0.833883   0.586035  0.633423          0.86584  0.608808\n"
     ]
    }
   ],
   "source": [
    "best_LR_model_f1_balanсed = LR_model_f1(features_train, target_train, 'balanced')\n",
    "best_RFC_model_f1_balanсed = RFC_model_f1(features_train, target_train, 'balanced')\n",
    "table_best(best_LR_model_f1_balanсed, \n",
    "           best_RFC_model_f1_balanсed, \n",
    "           best_GBC_model_f1_common, \n",
    "           features_train, target_train, features_valid, target_valid,\n",
    "           'balanced')"
   ]
  },
  {
   "cell_type": "code",
   "execution_count": 50,
   "id": "213eb038",
   "metadata": {},
   "outputs": [
    {
     "name": "stdout",
     "output_type": "stream",
     "text": [
      "Лучшая модель\n",
      "RandomForestClassifier(class_weight='balanced', max_depth=9, n_estimators=320,\n",
      "                       random_state=12345)\n"
     ]
    }
   ],
   "source": [
    "print('Лучшая модель')\n",
    "print(best_RFC_model_f1_balanсed)"
   ]
  },
  {
   "cell_type": "markdown",
   "id": "c961de41",
   "metadata": {},
   "source": [
    "**Резюме**\n",
    "Лучший результат у RFC с параметрами (class_weight='balanced', max_depth=9, n_estimators=320, random_state=12345). На валидационной выборке лучшая модель показала также  лучший результат f1-score = 0.609.<br>\n",
    "Учли веса и значения метрик улучшилось и появилась модель удовлетворяющая нашим требованиям."
   ]
  },
  {
   "cell_type": "markdown",
   "id": "38c70395",
   "metadata": {},
   "source": [
    "**2й вариант. Upsampling обучающей выборки**"
   ]
  },
  {
   "cell_type": "code",
   "execution_count": 51,
   "id": "989fde2b",
   "metadata": {},
   "outputs": [
    {
     "name": "stdout",
     "output_type": "stream",
     "text": [
      "Структура upsampling\n",
      "1    4448\n",
      "0    4342\n",
      "Name: exited, dtype: int64\n",
      "\n",
      "Результаты работы подборщиков моделей по метрике F1 на обучающей выборке\n",
      "                    accuracy  precision    recall  AUC ROC метрика  F1_score\n",
      "LogisticRegression  0.709784   0.715226  0.708633         0.771004  0.711914\n",
      "RandomForest        0.881115   0.891960  0.870504         0.954370  0.881101\n",
      "GradientBoosting    0.990899   0.984043  0.998201         0.999367  0.991071\n",
      "\n",
      "Результаты работы подборщиков моделей по метрике F1 на валидационной выборке\n",
      "                    accuracy  precision    recall  AUC ROC метрика  F1_score\n",
      "LogisticRegression  0.705171   0.380608  0.708895         0.761756  0.495292\n",
      "RandomForest        0.814081   0.534737  0.684636         0.866120  0.600473\n",
      "GradientBoosting    0.820132   0.555276  0.595687         0.831537  0.574772\n"
     ]
    }
   ],
   "source": [
    "features_upsampled, target_upsampled = upsample(features_train, target_train, 4)\n",
    "print('Структура upsampling')\n",
    "print(target_upsampled.value_counts())\n",
    "\n",
    "best_LR_model_f1_upsampling = LR_model_f1(features_upsampled, target_upsampled, None)\n",
    "best_RFC_model_f1_upsampling = RFC_model_f1(features_upsampled, target_upsampled, None)\n",
    "best_GBC_model_f1_upsampling = GBC_model_f1(features_upsampled, target_upsampled)\n",
    "\n",
    "table_best(best_LR_model_f1_upsampling,\n",
    "           best_RFC_model_f1_upsampling,\n",
    "           best_GBC_model_f1_upsampling,\n",
    "           features_upsampled, target_upsampled, features_valid, target_valid,\n",
    "           'upsampling')"
   ]
  },
  {
   "cell_type": "code",
   "execution_count": 52,
   "id": "019970ea",
   "metadata": {},
   "outputs": [
    {
     "name": "stdout",
     "output_type": "stream",
     "text": [
      "Лучшая модель\n",
      "RandomForestClassifier(max_depth=9, n_estimators=320, random_state=12345)\n"
     ]
    }
   ],
   "source": [
    "print('Лучшая модель')\n",
    "print(best_RFC_model_f1_upsampling)"
   ]
  },
  {
   "cell_type": "markdown",
   "id": "9e6055ad",
   "metadata": {},
   "source": [
    "**Резюме**<br>\n",
    "Лучший результат у RFC с параметрами (max_depth=9, n_estimators=320, random_state=12345). На валидационной выборке лучшая модель показала удовлетворительные результаты f1-score = 0.60.<br>\n",
    "Upsampling тоже сработал в части учета баланса классов целевого признака. "
   ]
  },
  {
   "cell_type": "markdown",
   "id": "5405cced",
   "metadata": {},
   "source": [
    "**Третий вариант. Downsampling**"
   ]
  },
  {
   "cell_type": "code",
   "execution_count": 53,
   "id": "38fc1b71",
   "metadata": {},
   "outputs": [
    {
     "name": "stdout",
     "output_type": "stream",
     "text": [
      "Структура Downsampling\n",
      "1    1112\n",
      "0    1086\n",
      "Name: exited, dtype: int64\n",
      "\n",
      "Результаты работы подборщиков моделей по метрике F1 на обучающей выборке\n",
      "                    accuracy  precision    recall  AUC ROC метрика  F1_score\n",
      "LogisticRegression  0.709281   0.716377  0.704137         0.768019  0.710204\n",
      "RandomForest        0.906733   0.935639  0.875899         0.972515  0.904784\n",
      "GradientBoosting    0.981347   0.981998  0.981115         0.996497  0.981556\n",
      "\n",
      "Результаты работы подборщиков моделей по метрике F1 на валидационной выборке\n",
      "                    accuracy  precision    recall  AUC ROC метрика  F1_score\n",
      "LogisticRegression  0.701870   0.376266  0.700809         0.761047  0.489642\n",
      "RandomForest        0.784928   0.481818  0.714286         0.862744  0.575461\n",
      "GradientBoosting    0.729923   0.410714  0.743935         0.824638  0.529243\n"
     ]
    }
   ],
   "source": [
    "features_downsampled, target_downsampled = downsample(features_train, target_train, 0.25)\n",
    "print('Структура Downsampling')\n",
    "print(target_downsampled.value_counts())\n",
    "\n",
    "best_LR_model_f1_downsampled = LR_model_f1(features_downsampled, target_downsampled, None)\n",
    "best_RFC_model_f1_downsampled = RFC_model_f1(features_downsampled, target_downsampled, None)\n",
    "best_GBC_model_f1_downsampled = GBC_model_f1(features_downsampled, target_downsampled)\n",
    "table_best(best_LR_model_f1_downsampled, \n",
    "           best_RFC_model_f1_downsampled, \n",
    "           best_GBC_model_f1_downsampled, \n",
    "           features_downsampled, target_downsampled, features_valid, target_valid,\n",
    "           'downsampling')"
   ]
  },
  {
   "cell_type": "code",
   "execution_count": 54,
   "id": "5b56d8e1",
   "metadata": {},
   "outputs": [
    {
     "name": "stdout",
     "output_type": "stream",
     "text": [
      "Лучшая модель\n",
      "RandomForestClassifier(max_depth=9, random_state=12345)\n"
     ]
    }
   ],
   "source": [
    "print('Лучшая модель')\n",
    "print(best_RFC_model_f1_downsampled)"
   ]
  },
  {
   "cell_type": "markdown",
   "id": "3e3b64fe",
   "metadata": {},
   "source": [
    "**Резюме**<br>\n",
    "Лучший результат у RFC с параметрами (max_depth=9, random_state=12345). Но стоит отметить, что на валидационной выборке лучшая модель показала не самые лучшие результаты и не проходит под требования, что f1-score >=0.59 на тестовой выборке.<br>\n",
    "Downsampling не сработал в части учета баланса классов целевого признака. "
   ]
  },
  {
   "cell_type": "markdown",
   "id": "a4a90054",
   "metadata": {},
   "source": [
    "**Общее резюме после наших экспериментов с устранение дисбаланса классов целевого признака - лучшая модель на валидационной выборке RandomForestClassifier(class_weight='balanced', max_depth=9, n_estimators=320, random_state=12345) обученная на обычной обучающей выборке с учетом баланса весов.**"
   ]
  },
  {
   "cell_type": "markdown",
   "id": "3199bf07",
   "metadata": {},
   "source": [
    "# Проверка адекватности"
   ]
  },
  {
   "cell_type": "markdown",
   "id": "df6b428d",
   "metadata": {},
   "source": [
    "Константная модель - модель, решением которой является доминирующий признак и в нашем случае \"0\".<br>\n",
    "Рандомная модель - модель решением, которой случайный выбор между \"0\" и \"1\".<br>\n",
    "Сравним ее с нашей лучше моделью."
   ]
  },
  {
   "cell_type": "code",
   "execution_count": 55,
   "id": "68bccad2",
   "metadata": {},
   "outputs": [
    {
     "data": {
      "text/html": [
       "<div>\n",
       "<style scoped>\n",
       "    .dataframe tbody tr th:only-of-type {\n",
       "        vertical-align: middle;\n",
       "    }\n",
       "\n",
       "    .dataframe tbody tr th {\n",
       "        vertical-align: top;\n",
       "    }\n",
       "\n",
       "    .dataframe thead th {\n",
       "        text-align: right;\n",
       "    }\n",
       "</style>\n",
       "<table border=\"1\" class=\"dataframe\">\n",
       "  <thead>\n",
       "    <tr style=\"text-align: right;\">\n",
       "      <th></th>\n",
       "      <th>predict_const</th>\n",
       "      <th>predict_random</th>\n",
       "      <th>best_model_ML</th>\n",
       "    </tr>\n",
       "  </thead>\n",
       "  <tbody>\n",
       "    <tr>\n",
       "      <th>accuracy_score</th>\n",
       "      <td>0.79538</td>\n",
       "      <td>0.514301</td>\n",
       "      <td>0.833883</td>\n",
       "    </tr>\n",
       "    <tr>\n",
       "      <th>precision_score</th>\n",
       "      <td>0.00000</td>\n",
       "      <td>0.215556</td>\n",
       "      <td>0.586035</td>\n",
       "    </tr>\n",
       "    <tr>\n",
       "      <th>recall_score</th>\n",
       "      <td>0.00000</td>\n",
       "      <td>0.522911</td>\n",
       "      <td>0.633423</td>\n",
       "    </tr>\n",
       "    <tr>\n",
       "      <th>f1_score</th>\n",
       "      <td>0.00000</td>\n",
       "      <td>0.305271</td>\n",
       "      <td>0.608808</td>\n",
       "    </tr>\n",
       "  </tbody>\n",
       "</table>\n",
       "</div>"
      ],
      "text/plain": [
       "                 predict_const  predict_random  best_model_ML\n",
       "accuracy_score         0.79538        0.514301       0.833883\n",
       "precision_score        0.00000        0.215556       0.586035\n",
       "recall_score           0.00000        0.522911       0.633423\n",
       "f1_score               0.00000        0.305271       0.608808"
      ]
     },
     "metadata": {},
     "output_type": "display_data"
    }
   ],
   "source": [
    "display(adequacy(best_RFC_model_f1_balanсed, features_valid, target_valid))"
   ]
  },
  {
   "cell_type": "markdown",
   "id": "fe39cad9",
   "metadata": {},
   "source": [
    "Решения нащей модели хорошо отличаются от примитивной константной модели и случайной модели."
   ]
  },
  {
   "cell_type": "markdown",
   "id": "32255164",
   "metadata": {},
   "source": [
    "# Проверка на тестовой выборке. Итог."
   ]
  },
  {
   "cell_type": "code",
   "execution_count": 56,
   "id": "5a3555fc",
   "metadata": {},
   "outputs": [
    {
     "data": {
      "text/html": [
       "<div>\n",
       "<style scoped>\n",
       "    .dataframe tbody tr th:only-of-type {\n",
       "        vertical-align: middle;\n",
       "    }\n",
       "\n",
       "    .dataframe tbody tr th {\n",
       "        vertical-align: top;\n",
       "    }\n",
       "\n",
       "    .dataframe thead th {\n",
       "        text-align: right;\n",
       "    }\n",
       "</style>\n",
       "<table border=\"1\" class=\"dataframe\">\n",
       "  <thead>\n",
       "    <tr style=\"text-align: right;\">\n",
       "      <th></th>\n",
       "      <th>predict_const</th>\n",
       "      <th>predict_random</th>\n",
       "      <th>best_model_ML</th>\n",
       "    </tr>\n",
       "  </thead>\n",
       "  <tbody>\n",
       "    <tr>\n",
       "      <th>accuracy_score</th>\n",
       "      <td>0.795492</td>\n",
       "      <td>0.498076</td>\n",
       "      <td>0.839472</td>\n",
       "    </tr>\n",
       "    <tr>\n",
       "      <th>precision_score</th>\n",
       "      <td>0.000000</td>\n",
       "      <td>0.217119</td>\n",
       "      <td>0.597531</td>\n",
       "    </tr>\n",
       "    <tr>\n",
       "      <th>recall_score</th>\n",
       "      <td>0.000000</td>\n",
       "      <td>0.560647</td>\n",
       "      <td>0.652291</td>\n",
       "    </tr>\n",
       "    <tr>\n",
       "      <th>f1_score</th>\n",
       "      <td>0.000000</td>\n",
       "      <td>0.313017</td>\n",
       "      <td>0.623711</td>\n",
       "    </tr>\n",
       "  </tbody>\n",
       "</table>\n",
       "</div>"
      ],
      "text/plain": [
       "                 predict_const  predict_random  best_model_ML\n",
       "accuracy_score        0.795492        0.498076       0.839472\n",
       "precision_score       0.000000        0.217119       0.597531\n",
       "recall_score          0.000000        0.560647       0.652291\n",
       "f1_score              0.000000        0.313017       0.623711"
      ]
     },
     "metadata": {},
     "output_type": "display_data"
    }
   ],
   "source": [
    "display(adequacy(best_RFC_model_f1_balanсed, features_test, target_test))"
   ]
  },
  {
   "cell_type": "markdown",
   "id": "4e8a26a9",
   "metadata": {},
   "source": [
    "Значени метрики F1-score = 0,6237 и это неплохой результат, который нас удовлетворяет."
   ]
  },
  {
   "cell_type": "markdown",
   "id": "50655979",
   "metadata": {},
   "source": [
    "**В нашем подборе лучшей моделью стала модель RandomForestClassifier(class_weight='balanced', max_depth=9, n_estimators=320, random_state=12345), которая на тестовой выборке показала F1-score = 0.62. Данная модель обучена на нашей обучающей выборке (features_train, target_train) с параметром class_weight='balanced'.**"
   ]
  }
 ],
 "metadata": {
  "kernelspec": {
   "display_name": "Python 3 (ipykernel)",
   "language": "python",
   "name": "python3"
  },
  "language_info": {
   "codemirror_mode": {
    "name": "ipython",
    "version": 3
   },
   "file_extension": ".py",
   "mimetype": "text/x-python",
   "name": "python",
   "nbconvert_exporter": "python",
   "pygments_lexer": "ipython3",
   "version": "3.9.7"
  },
  "toc": {
   "base_numbering": 1,
   "nav_menu": {},
   "number_sections": true,
   "sideBar": true,
   "skip_h1_title": true,
   "title_cell": "Table of Contents",
   "title_sidebar": "Contents",
   "toc_cell": false,
   "toc_position": {},
   "toc_section_display": true,
   "toc_window_display": false
  }
 },
 "nbformat": 4,
 "nbformat_minor": 5
}
