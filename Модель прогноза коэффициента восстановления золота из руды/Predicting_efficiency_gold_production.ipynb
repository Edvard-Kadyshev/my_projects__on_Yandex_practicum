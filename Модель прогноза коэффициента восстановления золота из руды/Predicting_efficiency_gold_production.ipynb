{
 "cells": [
  {
   "cell_type": "markdown",
   "id": "a46c847d",
   "metadata": {},
   "source": [
    "# Постановка задачи"
   ]
  },
  {
   "cell_type": "markdown",
   "id": "f6332e5d",
   "metadata": {},
   "source": [
    "Необходимо подготовить прототип модели машинного обучения для «Цифры». Компания разрабатывает решения для эффективной работы промышленных предприятий.\n",
    "Модель должна предсказать коэффициент восстановления золота из золотосодержащей руды. Исходные данные содержат параметры добычи и очистки.\n",
    "Модель будет оптимизировать производство, чтобы не запускать предприятие с убыточными характеристиками."
   ]
  },
  {
   "cell_type": "markdown",
   "id": "4fd68081",
   "metadata": {},
   "source": [
    "# Шаг 1. Подготовка данных"
   ]
  },
  {
   "cell_type": "markdown",
   "id": "a24b6926",
   "metadata": {},
   "source": [
    "## Шаг 1.1. Загрузка данных и их анализ"
   ]
  },
  {
   "cell_type": "code",
   "execution_count": 71,
   "id": "305d389b",
   "metadata": {},
   "outputs": [],
   "source": [
    "import pandas as pd\n",
    "import numpy as np\n",
    "from statistics import mean\n",
    "import random\n",
    "import os\n",
    "from tqdm import tqdm\n",
    "\n",
    "import matplotlib\n",
    "import matplotlib.pyplot as plt\n",
    "import seaborn as sns\n",
    "from scipy import stats as st\n",
    "\n",
    "from sklearn.linear_model import LinearRegression\n",
    "from sklearn.ensemble import RandomForestRegressor\n",
    "from sklearn.ensemble import GradientBoostingClassifier\n",
    "\n",
    "from sklearn.model_selection import cross_val_score\n",
    "\n",
    "from sklearn.preprocessing import StandardScaler\n",
    "from sklearn.metrics import mean_squared_error, mean_absolute_error\n",
    "from sklearn.metrics import make_scorer\n",
    "from sklearn.dummy import DummyRegressor\n",
    "\n",
    "from sklearn.model_selection import train_test_split\n",
    "\n",
    "%matplotlib inline"
   ]
  },
  {
   "cell_type": "code",
   "execution_count": 2,
   "id": "145c94da",
   "metadata": {},
   "outputs": [],
   "source": [
    "path_review_0 = '/datasets/gold_recovery_train_new.csv'\n",
    "path_review_1 = '/datasets/gold_recovery_test_new.csv'\n",
    "path_review_2 = '/datasets/gold_recovery_full_new.csv'\n",
    "paths_review = [path_review_0, path_review_1, path_review_0]\n",
    "\n",
    "my_path_0 = '/Users/Ideapad S145/Desktop/Data_Science/Сборный проект №2/gold_recovery_train_new.csv'\n",
    "my_path_1 = '/Users/Ideapad S145/Desktop/Data_Science/Сборный проект №2/gold_recovery_test_new.csv'\n",
    "my_path_2 = '/Users/Ideapad S145/Desktop/Data_Science/Сборный проект №2/gold_recovery_full_new.csv'\n",
    "my_paths = [my_path_0, my_path_1, my_path_2]\n",
    "\n",
    "df = []\n",
    "for path_review, my_path in zip(paths_review, my_paths):\n",
    "    if os.path.exists(path_review):\n",
    "        df.append(pd.read_csv(path_review, sep=',', index_col='date'))\n",
    "    elif os.path.exists(my_path):\n",
    "        df.append(pd.read_csv(my_path, sep=',', index_col='date'))\n",
    "    else:\n",
    "        print(\"Проверьте правильность пути к датасету\")"
   ]
  },
  {
   "cell_type": "markdown",
   "id": "f9dad6f0",
   "metadata": {},
   "source": [
    "Переведем даты в индекса в формат datetime"
   ]
  },
  {
   "cell_type": "code",
   "execution_count": 3,
   "id": "38218041",
   "metadata": {},
   "outputs": [],
   "source": [
    "df[0].index = pd.to_datetime(df[0].index, format='%Y.%m.%d %H:%M:%S')\n",
    "df[1].index = pd.to_datetime(df[1].index, format='%Y.%m.%d %H:%M:%S')\n",
    "df[2].index = pd.to_datetime(df[2].index, format='%Y.%m.%d %H:%M:%S')"
   ]
  },
  {
   "cell_type": "markdown",
   "id": "8ab911e5",
   "metadata": {},
   "source": [
    "**Посмотрим на импортируемые данные**"
   ]
  },
  {
   "cell_type": "markdown",
   "id": "8ca54da2",
   "metadata": {},
   "source": [
    "Это обучающая выборка"
   ]
  },
  {
   "cell_type": "code",
   "execution_count": 4,
   "id": "63a662aa",
   "metadata": {},
   "outputs": [
    {
     "name": "stdout",
     "output_type": "stream",
     "text": [
      "<class 'pandas.core.frame.DataFrame'>\n",
      "DatetimeIndex: 14149 entries, 2016-01-15 00:00:00 to 2018-08-18 10:59:59\n",
      "Data columns (total 86 columns):\n",
      " #   Column                                              Non-Null Count  Dtype  \n",
      "---  ------                                              --------------  -----  \n",
      " 0   final.output.concentrate_ag                         14148 non-null  float64\n",
      " 1   final.output.concentrate_pb                         14148 non-null  float64\n",
      " 2   final.output.concentrate_sol                        13938 non-null  float64\n",
      " 3   final.output.concentrate_au                         14149 non-null  float64\n",
      " 4   final.output.recovery                               14149 non-null  float64\n",
      " 5   final.output.tail_ag                                14149 non-null  float64\n",
      " 6   final.output.tail_pb                                14049 non-null  float64\n",
      " 7   final.output.tail_sol                               14144 non-null  float64\n",
      " 8   final.output.tail_au                                14149 non-null  float64\n",
      " 9   primary_cleaner.input.sulfate                       14129 non-null  float64\n",
      " 10  primary_cleaner.input.depressant                    14117 non-null  float64\n",
      " 11  primary_cleaner.input.feed_size                     14149 non-null  float64\n",
      " 12  primary_cleaner.input.xanthate                      14049 non-null  float64\n",
      " 13  primary_cleaner.output.concentrate_ag               14149 non-null  float64\n",
      " 14  primary_cleaner.output.concentrate_pb               14063 non-null  float64\n",
      " 15  primary_cleaner.output.concentrate_sol              13863 non-null  float64\n",
      " 16  primary_cleaner.output.concentrate_au               14149 non-null  float64\n",
      " 17  primary_cleaner.output.tail_ag                      14148 non-null  float64\n",
      " 18  primary_cleaner.output.tail_pb                      14134 non-null  float64\n",
      " 19  primary_cleaner.output.tail_sol                     14103 non-null  float64\n",
      " 20  primary_cleaner.output.tail_au                      14149 non-null  float64\n",
      " 21  primary_cleaner.state.floatbank8_a_air              14145 non-null  float64\n",
      " 22  primary_cleaner.state.floatbank8_a_level            14148 non-null  float64\n",
      " 23  primary_cleaner.state.floatbank8_b_air              14145 non-null  float64\n",
      " 24  primary_cleaner.state.floatbank8_b_level            14148 non-null  float64\n",
      " 25  primary_cleaner.state.floatbank8_c_air              14147 non-null  float64\n",
      " 26  primary_cleaner.state.floatbank8_c_level            14148 non-null  float64\n",
      " 27  primary_cleaner.state.floatbank8_d_air              14146 non-null  float64\n",
      " 28  primary_cleaner.state.floatbank8_d_level            14148 non-null  float64\n",
      " 29  rougher.calculation.sulfate_to_au_concentrate       14148 non-null  float64\n",
      " 30  rougher.calculation.floatbank10_sulfate_to_au_feed  14148 non-null  float64\n",
      " 31  rougher.calculation.floatbank11_sulfate_to_au_feed  14148 non-null  float64\n",
      " 32  rougher.calculation.au_pb_ratio                     14149 non-null  float64\n",
      " 33  rougher.input.feed_ag                               14149 non-null  float64\n",
      " 34  rougher.input.feed_pb                               14049 non-null  float64\n",
      " 35  rougher.input.feed_rate                             14141 non-null  float64\n",
      " 36  rougher.input.feed_size                             14005 non-null  float64\n",
      " 37  rougher.input.feed_sol                              14071 non-null  float64\n",
      " 38  rougher.input.feed_au                               14149 non-null  float64\n",
      " 39  rougher.input.floatbank10_sulfate                   14120 non-null  float64\n",
      " 40  rougher.input.floatbank10_xanthate                  14141 non-null  float64\n",
      " 41  rougher.input.floatbank11_sulfate                   14113 non-null  float64\n",
      " 42  rougher.input.floatbank11_xanthate                  13721 non-null  float64\n",
      " 43  rougher.output.concentrate_ag                       14149 non-null  float64\n",
      " 44  rougher.output.concentrate_pb                       14149 non-null  float64\n",
      " 45  rougher.output.concentrate_sol                      14127 non-null  float64\n",
      " 46  rougher.output.concentrate_au                       14149 non-null  float64\n",
      " 47  rougher.output.recovery                             14149 non-null  float64\n",
      " 48  rougher.output.tail_ag                              14148 non-null  float64\n",
      " 49  rougher.output.tail_pb                              14149 non-null  float64\n",
      " 50  rougher.output.tail_sol                             14149 non-null  float64\n",
      " 51  rougher.output.tail_au                              14149 non-null  float64\n",
      " 52  rougher.state.floatbank10_a_air                     14148 non-null  float64\n",
      " 53  rougher.state.floatbank10_a_level                   14148 non-null  float64\n",
      " 54  rougher.state.floatbank10_b_air                     14148 non-null  float64\n",
      " 55  rougher.state.floatbank10_b_level                   14148 non-null  float64\n",
      " 56  rougher.state.floatbank10_c_air                     14148 non-null  float64\n",
      " 57  rougher.state.floatbank10_c_level                   14148 non-null  float64\n",
      " 58  rougher.state.floatbank10_d_air                     14149 non-null  float64\n",
      " 59  rougher.state.floatbank10_d_level                   14149 non-null  float64\n",
      " 60  rougher.state.floatbank10_e_air                     13713 non-null  float64\n",
      " 61  rougher.state.floatbank10_e_level                   14149 non-null  float64\n",
      " 62  rougher.state.floatbank10_f_air                     14149 non-null  float64\n",
      " 63  rougher.state.floatbank10_f_level                   14149 non-null  float64\n",
      " 64  secondary_cleaner.output.tail_ag                    14147 non-null  float64\n",
      " 65  secondary_cleaner.output.tail_pb                    14139 non-null  float64\n",
      " 66  secondary_cleaner.output.tail_sol                   12544 non-null  float64\n",
      " 67  secondary_cleaner.output.tail_au                    14149 non-null  float64\n",
      " 68  secondary_cleaner.state.floatbank2_a_air            13932 non-null  float64\n",
      " 69  secondary_cleaner.state.floatbank2_a_level          14148 non-null  float64\n",
      " 70  secondary_cleaner.state.floatbank2_b_air            14128 non-null  float64\n",
      " 71  secondary_cleaner.state.floatbank2_b_level          14148 non-null  float64\n",
      " 72  secondary_cleaner.state.floatbank3_a_air            14145 non-null  float64\n",
      " 73  secondary_cleaner.state.floatbank3_a_level          14148 non-null  float64\n",
      " 74  secondary_cleaner.state.floatbank3_b_air            14148 non-null  float64\n",
      " 75  secondary_cleaner.state.floatbank3_b_level          14148 non-null  float64\n",
      " 76  secondary_cleaner.state.floatbank4_a_air            14143 non-null  float64\n",
      " 77  secondary_cleaner.state.floatbank4_a_level          14148 non-null  float64\n",
      " 78  secondary_cleaner.state.floatbank4_b_air            14148 non-null  float64\n",
      " 79  secondary_cleaner.state.floatbank4_b_level          14148 non-null  float64\n",
      " 80  secondary_cleaner.state.floatbank5_a_air            14148 non-null  float64\n",
      " 81  secondary_cleaner.state.floatbank5_a_level          14148 non-null  float64\n",
      " 82  secondary_cleaner.state.floatbank5_b_air            14148 non-null  float64\n",
      " 83  secondary_cleaner.state.floatbank5_b_level          14148 non-null  float64\n",
      " 84  secondary_cleaner.state.floatbank6_a_air            14147 non-null  float64\n",
      " 85  secondary_cleaner.state.floatbank6_a_level          14148 non-null  float64\n",
      "dtypes: float64(86)\n",
      "memory usage: 9.4 MB\n"
     ]
    }
   ],
   "source": [
    "df[0].info()"
   ]
  },
  {
   "cell_type": "markdown",
   "id": "1bbdf417",
   "metadata": {},
   "source": [
    "Это тестовая выборка"
   ]
  },
  {
   "cell_type": "code",
   "execution_count": 5,
   "id": "f2f2054d",
   "metadata": {},
   "outputs": [
    {
     "name": "stdout",
     "output_type": "stream",
     "text": [
      "<class 'pandas.core.frame.DataFrame'>\n",
      "DatetimeIndex: 5290 entries, 2016-09-01 00:59:59 to 2017-12-31 23:59:59\n",
      "Data columns (total 52 columns):\n",
      " #   Column                                      Non-Null Count  Dtype  \n",
      "---  ------                                      --------------  -----  \n",
      " 0   primary_cleaner.input.sulfate               5286 non-null   float64\n",
      " 1   primary_cleaner.input.depressant            5285 non-null   float64\n",
      " 2   primary_cleaner.input.feed_size             5290 non-null   float64\n",
      " 3   primary_cleaner.input.xanthate              5286 non-null   float64\n",
      " 4   primary_cleaner.state.floatbank8_a_air      5290 non-null   float64\n",
      " 5   primary_cleaner.state.floatbank8_a_level    5290 non-null   float64\n",
      " 6   primary_cleaner.state.floatbank8_b_air      5290 non-null   float64\n",
      " 7   primary_cleaner.state.floatbank8_b_level    5290 non-null   float64\n",
      " 8   primary_cleaner.state.floatbank8_c_air      5290 non-null   float64\n",
      " 9   primary_cleaner.state.floatbank8_c_level    5290 non-null   float64\n",
      " 10  primary_cleaner.state.floatbank8_d_air      5290 non-null   float64\n",
      " 11  primary_cleaner.state.floatbank8_d_level    5290 non-null   float64\n",
      " 12  rougher.input.feed_ag                       5290 non-null   float64\n",
      " 13  rougher.input.feed_pb                       5290 non-null   float64\n",
      " 14  rougher.input.feed_rate                     5287 non-null   float64\n",
      " 15  rougher.input.feed_size                     5289 non-null   float64\n",
      " 16  rougher.input.feed_sol                      5269 non-null   float64\n",
      " 17  rougher.input.feed_au                       5290 non-null   float64\n",
      " 18  rougher.input.floatbank10_sulfate           5285 non-null   float64\n",
      " 19  rougher.input.floatbank10_xanthate          5290 non-null   float64\n",
      " 20  rougher.input.floatbank11_sulfate           5282 non-null   float64\n",
      " 21  rougher.input.floatbank11_xanthate          5265 non-null   float64\n",
      " 22  rougher.state.floatbank10_a_air             5290 non-null   float64\n",
      " 23  rougher.state.floatbank10_a_level           5290 non-null   float64\n",
      " 24  rougher.state.floatbank10_b_air             5290 non-null   float64\n",
      " 25  rougher.state.floatbank10_b_level           5290 non-null   float64\n",
      " 26  rougher.state.floatbank10_c_air             5290 non-null   float64\n",
      " 27  rougher.state.floatbank10_c_level           5290 non-null   float64\n",
      " 28  rougher.state.floatbank10_d_air             5290 non-null   float64\n",
      " 29  rougher.state.floatbank10_d_level           5290 non-null   float64\n",
      " 30  rougher.state.floatbank10_e_air             5290 non-null   float64\n",
      " 31  rougher.state.floatbank10_e_level           5290 non-null   float64\n",
      " 32  rougher.state.floatbank10_f_air             5290 non-null   float64\n",
      " 33  rougher.state.floatbank10_f_level           5290 non-null   float64\n",
      " 34  secondary_cleaner.state.floatbank2_a_air    5287 non-null   float64\n",
      " 35  secondary_cleaner.state.floatbank2_a_level  5290 non-null   float64\n",
      " 36  secondary_cleaner.state.floatbank2_b_air    5288 non-null   float64\n",
      " 37  secondary_cleaner.state.floatbank2_b_level  5290 non-null   float64\n",
      " 38  secondary_cleaner.state.floatbank3_a_air    5281 non-null   float64\n",
      " 39  secondary_cleaner.state.floatbank3_a_level  5290 non-null   float64\n",
      " 40  secondary_cleaner.state.floatbank3_b_air    5290 non-null   float64\n",
      " 41  secondary_cleaner.state.floatbank3_b_level  5290 non-null   float64\n",
      " 42  secondary_cleaner.state.floatbank4_a_air    5290 non-null   float64\n",
      " 43  secondary_cleaner.state.floatbank4_a_level  5290 non-null   float64\n",
      " 44  secondary_cleaner.state.floatbank4_b_air    5290 non-null   float64\n",
      " 45  secondary_cleaner.state.floatbank4_b_level  5290 non-null   float64\n",
      " 46  secondary_cleaner.state.floatbank5_a_air    5290 non-null   float64\n",
      " 47  secondary_cleaner.state.floatbank5_a_level  5290 non-null   float64\n",
      " 48  secondary_cleaner.state.floatbank5_b_air    5290 non-null   float64\n",
      " 49  secondary_cleaner.state.floatbank5_b_level  5290 non-null   float64\n",
      " 50  secondary_cleaner.state.floatbank6_a_air    5290 non-null   float64\n",
      " 51  secondary_cleaner.state.floatbank6_a_level  5290 non-null   float64\n",
      "dtypes: float64(52)\n",
      "memory usage: 2.1 MB\n"
     ]
    }
   ],
   "source": [
    "df[1].info()"
   ]
  },
  {
   "cell_type": "markdown",
   "id": "c9eebc82",
   "metadata": {},
   "source": [
    "Это исходная выборка"
   ]
  },
  {
   "cell_type": "code",
   "execution_count": 6,
   "id": "1f043310",
   "metadata": {},
   "outputs": [
    {
     "name": "stdout",
     "output_type": "stream",
     "text": [
      "<class 'pandas.core.frame.DataFrame'>\n",
      "DatetimeIndex: 19439 entries, 2016-01-15 00:00:00 to 2018-08-18 10:59:59\n",
      "Data columns (total 86 columns):\n",
      " #   Column                                              Non-Null Count  Dtype  \n",
      "---  ------                                              --------------  -----  \n",
      " 0   final.output.concentrate_ag                         19438 non-null  float64\n",
      " 1   final.output.concentrate_pb                         19438 non-null  float64\n",
      " 2   final.output.concentrate_sol                        19228 non-null  float64\n",
      " 3   final.output.concentrate_au                         19439 non-null  float64\n",
      " 4   final.output.recovery                               19439 non-null  float64\n",
      " 5   final.output.tail_ag                                19438 non-null  float64\n",
      " 6   final.output.tail_pb                                19338 non-null  float64\n",
      " 7   final.output.tail_sol                               19433 non-null  float64\n",
      " 8   final.output.tail_au                                19439 non-null  float64\n",
      " 9   primary_cleaner.input.sulfate                       19415 non-null  float64\n",
      " 10  primary_cleaner.input.depressant                    19402 non-null  float64\n",
      " 11  primary_cleaner.input.feed_size                     19439 non-null  float64\n",
      " 12  primary_cleaner.input.xanthate                      19335 non-null  float64\n",
      " 13  primary_cleaner.output.concentrate_ag               19439 non-null  float64\n",
      " 14  primary_cleaner.output.concentrate_pb               19323 non-null  float64\n",
      " 15  primary_cleaner.output.concentrate_sol              19069 non-null  float64\n",
      " 16  primary_cleaner.output.concentrate_au               19439 non-null  float64\n",
      " 17  primary_cleaner.output.tail_ag                      19435 non-null  float64\n",
      " 18  primary_cleaner.output.tail_pb                      19418 non-null  float64\n",
      " 19  primary_cleaner.output.tail_sol                     19377 non-null  float64\n",
      " 20  primary_cleaner.output.tail_au                      19439 non-null  float64\n",
      " 21  primary_cleaner.state.floatbank8_a_air              19435 non-null  float64\n",
      " 22  primary_cleaner.state.floatbank8_a_level            19438 non-null  float64\n",
      " 23  primary_cleaner.state.floatbank8_b_air              19435 non-null  float64\n",
      " 24  primary_cleaner.state.floatbank8_b_level            19438 non-null  float64\n",
      " 25  primary_cleaner.state.floatbank8_c_air              19437 non-null  float64\n",
      " 26  primary_cleaner.state.floatbank8_c_level            19438 non-null  float64\n",
      " 27  primary_cleaner.state.floatbank8_d_air              19436 non-null  float64\n",
      " 28  primary_cleaner.state.floatbank8_d_level            19438 non-null  float64\n",
      " 29  rougher.calculation.sulfate_to_au_concentrate       19437 non-null  float64\n",
      " 30  rougher.calculation.floatbank10_sulfate_to_au_feed  19437 non-null  float64\n",
      " 31  rougher.calculation.floatbank11_sulfate_to_au_feed  19437 non-null  float64\n",
      " 32  rougher.calculation.au_pb_ratio                     19439 non-null  float64\n",
      " 33  rougher.input.feed_ag                               19439 non-null  float64\n",
      " 34  rougher.input.feed_pb                               19339 non-null  float64\n",
      " 35  rougher.input.feed_rate                             19428 non-null  float64\n",
      " 36  rougher.input.feed_size                             19294 non-null  float64\n",
      " 37  rougher.input.feed_sol                              19340 non-null  float64\n",
      " 38  rougher.input.feed_au                               19439 non-null  float64\n",
      " 39  rougher.input.floatbank10_sulfate                   19405 non-null  float64\n",
      " 40  rougher.input.floatbank10_xanthate                  19431 non-null  float64\n",
      " 41  rougher.input.floatbank11_sulfate                   19395 non-null  float64\n",
      " 42  rougher.input.floatbank11_xanthate                  18986 non-null  float64\n",
      " 43  rougher.output.concentrate_ag                       19439 non-null  float64\n",
      " 44  rougher.output.concentrate_pb                       19439 non-null  float64\n",
      " 45  rougher.output.concentrate_sol                      19416 non-null  float64\n",
      " 46  rougher.output.concentrate_au                       19439 non-null  float64\n",
      " 47  rougher.output.recovery                             19439 non-null  float64\n",
      " 48  rougher.output.tail_ag                              19438 non-null  float64\n",
      " 49  rougher.output.tail_pb                              19439 non-null  float64\n",
      " 50  rougher.output.tail_sol                             19439 non-null  float64\n",
      " 51  rougher.output.tail_au                              19439 non-null  float64\n",
      " 52  rougher.state.floatbank10_a_air                     19438 non-null  float64\n",
      " 53  rougher.state.floatbank10_a_level                   19438 non-null  float64\n",
      " 54  rougher.state.floatbank10_b_air                     19438 non-null  float64\n",
      " 55  rougher.state.floatbank10_b_level                   19438 non-null  float64\n",
      " 56  rougher.state.floatbank10_c_air                     19438 non-null  float64\n",
      " 57  rougher.state.floatbank10_c_level                   19438 non-null  float64\n",
      " 58  rougher.state.floatbank10_d_air                     19439 non-null  float64\n",
      " 59  rougher.state.floatbank10_d_level                   19439 non-null  float64\n",
      " 60  rougher.state.floatbank10_e_air                     19003 non-null  float64\n",
      " 61  rougher.state.floatbank10_e_level                   19439 non-null  float64\n",
      " 62  rougher.state.floatbank10_f_air                     19439 non-null  float64\n",
      " 63  rougher.state.floatbank10_f_level                   19439 non-null  float64\n",
      " 64  secondary_cleaner.output.tail_ag                    19437 non-null  float64\n",
      " 65  secondary_cleaner.output.tail_pb                    19427 non-null  float64\n",
      " 66  secondary_cleaner.output.tail_sol                   17691 non-null  float64\n",
      " 67  secondary_cleaner.output.tail_au                    19439 non-null  float64\n",
      " 68  secondary_cleaner.state.floatbank2_a_air            19219 non-null  float64\n",
      " 69  secondary_cleaner.state.floatbank2_a_level          19438 non-null  float64\n",
      " 70  secondary_cleaner.state.floatbank2_b_air            19416 non-null  float64\n",
      " 71  secondary_cleaner.state.floatbank2_b_level          19438 non-null  float64\n",
      " 72  secondary_cleaner.state.floatbank3_a_air            19426 non-null  float64\n",
      " 73  secondary_cleaner.state.floatbank3_a_level          19438 non-null  float64\n",
      " 74  secondary_cleaner.state.floatbank3_b_air            19438 non-null  float64\n",
      " 75  secondary_cleaner.state.floatbank3_b_level          19438 non-null  float64\n",
      " 76  secondary_cleaner.state.floatbank4_a_air            19433 non-null  float64\n",
      " 77  secondary_cleaner.state.floatbank4_a_level          19438 non-null  float64\n",
      " 78  secondary_cleaner.state.floatbank4_b_air            19438 non-null  float64\n",
      " 79  secondary_cleaner.state.floatbank4_b_level          19438 non-null  float64\n",
      " 80  secondary_cleaner.state.floatbank5_a_air            19438 non-null  float64\n",
      " 81  secondary_cleaner.state.floatbank5_a_level          19438 non-null  float64\n",
      " 82  secondary_cleaner.state.floatbank5_b_air            19438 non-null  float64\n",
      " 83  secondary_cleaner.state.floatbank5_b_level          19438 non-null  float64\n",
      " 84  secondary_cleaner.state.floatbank6_a_air            19437 non-null  float64\n",
      " 85  secondary_cleaner.state.floatbank6_a_level          19438 non-null  float64\n",
      "dtypes: float64(86)\n",
      "memory usage: 12.9 MB\n"
     ]
    }
   ],
   "source": [
    "df[2].info()"
   ]
  },
  {
   "cell_type": "markdown",
   "id": "5aace1e1",
   "metadata": {},
   "source": [
    "По условию задания значения в полях близки друг к другу, а значит можно заполнить пропуски находящимися рядом близкими значениями.<br>\n",
    "Изначальное разбиение могло пройти по пропускам, тогда если мы применим метод заполнения пропуском ближайшим значением, то можем получить разные значения в обучающей/тестовой выборках и исходном датасете.<br>\n",
    "Сделаем так:<br>\n",
    "Заполним пропуски ближайшеми значениями в исходном датасете, а затем сделаем его разбиение по индексам датасетов обучающей и тестовой выборок.<br>\n",
    "Для начала посмотрим совпадают ли количество уникальные значений индекса (поле date) с длиной исходного датасета."
   ]
  },
  {
   "cell_type": "code",
   "execution_count": 7,
   "id": "b015fb8d",
   "metadata": {},
   "outputs": [
    {
     "name": "stdout",
     "output_type": "stream",
     "text": [
      "разница между количеством уникальных индексов и длиной датасета =  0\n"
     ]
    }
   ],
   "source": [
    "print('разница между количеством уникальных индексов и длиной датасета = ', len(df[2].index.unique()) - len(df[2]))"
   ]
  },
  {
   "cell_type": "markdown",
   "id": "b6ec373a",
   "metadata": {},
   "source": [
    "Все индексы уникальны. \n",
    "Сделаем замену пропусков в исходном датасете df[2]"
   ]
  },
  {
   "cell_type": "code",
   "execution_count": 8,
   "id": "18b459f0",
   "metadata": {},
   "outputs": [],
   "source": [
    "for column in df[2].columns:\n",
    "    df[2][column] = df[2][column].fillna(method='bfill')"
   ]
  },
  {
   "cell_type": "markdown",
   "id": "69261009",
   "metadata": {},
   "source": [
    "Сделаем новую нарезку на обучающую и тестовую выборку по уже имеющимся индексам. Т.е. повторим датасеты обучающей и тестовой выборки, но уже они будут без пропусков. Выборки сделаем с такими же полями как и были на импорте изначально."
   ]
  },
  {
   "cell_type": "code",
   "execution_count": 9,
   "id": "3d62c26e",
   "metadata": {},
   "outputs": [],
   "source": [
    "df[0] = df[2][df[2].index.isin(df[0].index)][df[0].columns]\n",
    "df[1] = df[2][df[2].index.isin(df[1].index)][df[1].columns]"
   ]
  },
  {
   "cell_type": "markdown",
   "id": "b5d8fc85",
   "metadata": {},
   "source": [
    "**Общее описание к датасетам с учетом технологического процесса**<br>\n",
    "Первый и второй датасеты (обучающая и тестовая выборка соответственно) это подмножества третьего датасета (исходных данных), которые соотносятся как 0,73 : 0,27.<br>\n",
    "Все поля датасета имеют тип float.<br>\n",
    "Дата и время индексное поле (мы так сделали при импорте данных).<br>\n",
    "Есть небольшие пропуски данных в полях и об этом говорится в описание к задаче и эти пропуски заполнили соседними значениями.<br>\n",
    "В данном датасете мы видим показатели по каждой порции сырья проходящего по все цепочке технологического процесса. Есть базовые этапы: rougher (флотация), primary_cleaner (первичная очистка) и secondary_cleaner (вторичная очистка). В рамках технологического процесса есть два результирующих признака - rougher.output.recovery после этапа флотации и final.output.recovery после этапа вторичная очистка - которые характеризуют эффективность обработки коонкертного сырья при заданном технологическом процессе.<br>\n",
    "В рамках каждого этапа есть свои блоки параметров - input (параметры сырья на входе), output (параметры продукта на выходе), \n",
    "state (параметры, характеризующие текущее состояние этапа обработки сырья) и calculation (расчётные характеристики).<br>\n",
    "\n",
    "По существу есть два этапа - это производство чернового концентрата и производство финального концентрата."
   ]
  },
  {
   "cell_type": "markdown",
   "id": "2d663d45",
   "metadata": {},
   "source": [
    "**На этапе производства чернового концентрата идут следующие процессы:**<br>\n",
    "\n",
    "А. Осуществляется загрузка сырья и химикатов за что отвечают параметры:<br>\n",
    "- rougher.input.feed_ag;\n",
    "- rougher.input.feed_pb;\n",
    "- rougher.input.feed_rate;\n",
    "- rougher.input.feed_size;\n",
    "- rougher.input.feed_sol;\n",
    "- rougher.input.feed_au;\n",
    "- rougher.input.floatbank10_sulfate;\n",
    "- rougher.input.floatbank10_xanthate;\n",
    "- rougher.input.floatbank11_sulfate;\n",
    "- rougher.input.floatbank11_xanthate.<br>\n",
    "\n",
    "B. Непосредственно флотация за что отвечают параметры<br>\n",
    "- rougher.state.floatbank10_a_air;\n",
    "- rougher.state.floatbank10_a_level;\n",
    "- rougher.state.floatbank10_b_air;\n",
    "- rougher.state.floatbank10_b_level;\n",
    "- rougher.state.floatbank10_c_air;\n",
    "- rougher.state.floatbank10_c_level;\n",
    "- rougher.state.floatbank10_d_air;\n",
    "- rougher.state.floatbank10_d_level;\n",
    "- rougher.state.floatbank10_e_air;\n",
    "- rougher.state.floatbank10_e_level;\n",
    "- rougher.state.floatbank10_f_air;\n",
    "- rougher.state.floatbank10_f_level."
   ]
  },
  {
   "cell_type": "markdown",
   "id": "5dd5654a",
   "metadata": {},
   "source": [
    "После флотации осуществляются замеры полученного концентрата - это следующие параметры:\n",
    "- rougher.output.concentrate_ag;\n",
    "- rougher.output.concentrate_pb;\n",
    "- rougher.output.concentrate_sol;\n",
    "- rougher.output.concentrate_au.<br>\n",
    "\n",
    "А также осуществляются замеры по отвалу - это следующие параметры:\n",
    "- rougher.output.tail_ag;\n",
    "- rougher.output.tail_pb;\n",
    "- rougher.output.tail_sol;\n",
    "- rougher.output.tail_au."
   ]
  },
  {
   "cell_type": "markdown",
   "id": "4b80a879",
   "metadata": {},
   "source": [
    "На основании замеров концентрата и отвала считается целевая характеристика процесса производства чернового концентрата -  это эффективность обогащения чернового концентрата или rougher.output.recovery в нашем датасете. <br>\n",
    "Рассчет эффективности обогащения чернового концентрата ведется по известной аналитической формуле.<br>\n",
    "Таким образом, возникает промежуточная задача машинного обучения - рассчитать значение эффективности обогащения чернового концентрата на основе входных данных - параметры рудного сырья и параметров флотационной установки без проведения аналитических расчетов по известной формуле, т.е. без прохода реального сырья по данному этапу технологического процесса. Т.е. мы должны моделью машинного обучения заменить аналитические расчеты по известной формуле.<br>\n",
    "Для построения модели расчета значения эффективности обогащения чернового концентрата нам вместо всего набора полей данного этапа понадобятся следующие поля:\n",
    "- rougher.input.feed_ag;\n",
    "- rougher.input.feed_pb;\n",
    "- rougher.input.feed_rate;\n",
    "- rougher.input.feed_size;\n",
    "- rougher.input.feed_sol;\n",
    "- rougher.input.feed_au;\n",
    "- rougher.input.floatbank10_sulfate;\n",
    "- rougher.input.floatbank10_xanthate;\n",
    "- rougher.state.floatbank10_a_air;\n",
    "- rougher.state.floatbank10_a_level;\n",
    "- rougher.state.floatbank10_b_air;\n",
    "- rougher.state.floatbank10_b_level;\n",
    "- rougher.state.floatbank10_c_air;\n",
    "- rougher.state.floatbank10_c_level;\n",
    "- rougher.state.floatbank10_d_air;\n",
    "- rougher.state.floatbank10_d_level;\n",
    "- rougher.state.floatbank10_e_air;\n",
    "- rougher.state.floatbank10_e_level;\n",
    "- rougher.state.floatbank10_f_air;\n",
    "- rougher.state.floatbank10_f_level.\n",
    "- **rougher.output.recovery** (целевой признак).\n",
    "\n",
    "Признаки rougher.input.floatbank11_sulfate и rougher.input.floatbank11_xanthate исключим из модели, т.к. они не участвуют в производстве чернового концентрата - в блоке rougher.state нет показаний по установке floatbank11"
   ]
  },
  {
   "cell_type": "markdown",
   "id": "8f6701da",
   "metadata": {},
   "source": [
    "Primary_cleaner (первичная очистка) и secondary_cleaner (вторичная очистка) - это по сути внутренние этапы процесса получения финального концентрата из полученного чернового концентрата.<br>\n",
    "На этапе первичной и вторичной очистки на вход подаются черновой концентрат и химикаты и после этого сырье и химикаты пропускаются по двум этапам с промежуточным получением отвала и анализом концентрата после первичной очистки. Соответственно параметры процесса (floatbank) на первичной очистке и вторичной очистке разные.<br>\n",
    "\n",
    "Таким образом, формируется окончательная задача для машинного обучения, которая моделировала бы значения эффективности процесса получения финального концентрата по поступившему на вход рудному сырью и параметрам технологической обработки руды.<br>"
   ]
  },
  {
   "cell_type": "markdown",
   "id": "684f89d1",
   "metadata": {},
   "source": [
    "## Шаг 1.2. Проверка расчета эффективности обогащения."
   ]
  },
  {
   "cell_type": "markdown",
   "id": "15b6f5b5",
   "metadata": {},
   "source": [
    "Напишем функцию, которая по заданной формуле считает эффективность производства чернового концентрата на основании выходных данных по концентрату в конечном продукте и посчитаем MAE с фактическим значением в столбце rougher.output.recovery."
   ]
  },
  {
   "cell_type": "code",
   "execution_count": 10,
   "id": "2dc06a36",
   "metadata": {},
   "outputs": [],
   "source": [
    "def rougher(c, f, t):\n",
    "    try:\n",
    "        a = c * (f - t)\n",
    "        b = f * (c - t)\n",
    "        return  a/b*100\n",
    "    except:\n",
    "        return 0"
   ]
  },
  {
   "cell_type": "code",
   "execution_count": 11,
   "id": "0aa52f8b",
   "metadata": {},
   "outputs": [
    {
     "name": "stdout",
     "output_type": "stream",
     "text": [
      "MAE =  9.745418284091104e-15\n"
     ]
    }
   ],
   "source": [
    "rougher_analytic = [rougher(x['rougher.output.concentrate_au'], \n",
    "                            x['rougher.input.feed_au'],\n",
    "                            x['rougher.output.tail_au']) for _, x in df[0].iterrows()]\n",
    "                    \n",
    "print('MAE = ', mean_absolute_error(df[0]['rougher.output.recovery'], rougher_analytic))"
   ]
  },
  {
   "cell_type": "markdown",
   "id": "055593c1",
   "metadata": {},
   "source": [
    "**Резюме:**<br>\n",
    "Расчеты по формуле совпали с значениями в поле \"rougher.output.recovery\".<br>"
   ]
  },
  {
   "cell_type": "markdown",
   "id": "56ea7541",
   "metadata": {},
   "source": [
    "## Шаг 1.3. Анализ признаков, недоступных в тестовой выборке. "
   ]
  },
  {
   "cell_type": "markdown",
   "id": "8c2400a0",
   "metadata": {},
   "source": [
    "Пoсмотрим какие признаки есть в обучающей выборке, но которых нет тестовой выборке"
   ]
  },
  {
   "cell_type": "code",
   "execution_count": 12,
   "id": "838e917d",
   "metadata": {},
   "outputs": [],
   "source": [
    "#set(df[0].columns).difference(set(df[1].columns))"
   ]
  },
  {
   "cell_type": "markdown",
   "id": "042dfbfc",
   "metadata": {},
   "source": [
    "Сгруппируем эти признаки по этапам и блокам.<br>\n",
    "\n",
    "rougher.output.recovery<br>\n",
    "rougher.calculation.sulfate_to_au_concentrate<br>\n",
    "rougher.calculation.floatbank10_sulfate_to_au_feed<br>\n",
    "rougher.calculation.floatbank11_sulfate_to_au_feed<br>\n",
    "rougher.calculation.au_pb_ratio<br>\n",
    "rougher.output.concentrate_ag<br>\n",
    "rougher.output.concentrate_pb<br>\n",
    "rougher.output.concentrate_sol<br>\n",
    "rougher.output.concentrate_au<br>\n",
    "rougher.output.tail_ag<br>\n",
    "rougher.output.tail_pb<br>\n",
    "rougher.output.tail_sol<br>\n",
    "rougher.output.tail_au\n",
    "<br>\n",
    "primary_cleaner.output.concentrate_ag<br>\n",
    "primary_cleaner.output.concentrate_au<br>\n",
    "primary_cleaner.output.concentrate_pb<br>\n",
    "primary_cleaner.output.concentrate_sol<br>\n",
    "primary_cleaner.output.tail_ag<br>\n",
    "primary_cleaner.output.tail_au<br>\n",
    "primary_cleaner.output.tail_pb<br>\n",
    "primary_cleaner.output.tail_sol<br>\n",
    "<br>\n",
    "final.output.recovery',<br>\n",
    "final.output.concentrate_ag<br>\n",
    "final.output.concentrate_au<br>\n",
    "final.output.concentrate_pb<br>\n",
    "final.output.concentrate_sol<br>\n",
    "final.output.tail_ag<br>\n",
    "final.output.tail_au<br>\n",
    "final.output.tail_pb<br>\n",
    "final.output.tail_sol<br>\n",
    "secondary_cleaner.output.tail_ag<br>\n",
    "secondary_cleaner.output.tail_au<br>\n",
    "secondary_cleaner.output.tail_pb<br>\n",
    "secondary_cleaner.output.tail_sol"
   ]
  },
  {
   "cell_type": "markdown",
   "id": "87f0c469",
   "metadata": {},
   "source": [
    "Мы видим, что в тестовой выборке отсутствуют следующие признаки:\n",
    "- показатели эффективности производства чернового и финального концентрата;\n",
    "- расчетные характеристики для этапа флотации;\n",
    "- характеристики концентрации металлов и веществ в промежуточном продукте и финальном; \n",
    "- характеристики концентрации металлов и веществ в отвальных хвостах; "
   ]
  },
  {
   "cell_type": "markdown",
   "id": "a11c399a",
   "metadata": {},
   "source": [
    "С характеристиками промежуточного продукта и отвалами все понятно - это конечные характеристики этапов флотации, первичной и вторичной очистики, т.е. на входе загружают сырье на выходе получают концентрат и отвал.\n",
    "\n",
    "Посмотрим параметры блока rougher.calculation<br>\n",
    "Эти характеристики похожи на какие-то промежуточные технические расчеты по техпроцессу соотношение различных компонентов в процессе флотации."
   ]
  },
  {
   "cell_type": "code",
   "execution_count": 13,
   "id": "f0860945",
   "metadata": {},
   "outputs": [
    {
     "data": {
      "text/html": [
       "<div>\n",
       "<style scoped>\n",
       "    .dataframe tbody tr th:only-of-type {\n",
       "        vertical-align: middle;\n",
       "    }\n",
       "\n",
       "    .dataframe tbody tr th {\n",
       "        vertical-align: top;\n",
       "    }\n",
       "\n",
       "    .dataframe thead th {\n",
       "        text-align: right;\n",
       "    }\n",
       "</style>\n",
       "<table border=\"1\" class=\"dataframe\">\n",
       "  <thead>\n",
       "    <tr style=\"text-align: right;\">\n",
       "      <th></th>\n",
       "      <th>sulfate_to_au_concentrate</th>\n",
       "      <th>floatbank10_sulfate_to_au_feed</th>\n",
       "      <th>au_pb_ratio</th>\n",
       "    </tr>\n",
       "  </thead>\n",
       "  <tbody>\n",
       "    <tr>\n",
       "      <th>count</th>\n",
       "      <td>1.414900e+04</td>\n",
       "      <td>14149.000000</td>\n",
       "      <td>14149.000000</td>\n",
       "    </tr>\n",
       "    <tr>\n",
       "      <th>mean</th>\n",
       "      <td>4.038276e+04</td>\n",
       "      <td>3456.591152</td>\n",
       "      <td>2.367314</td>\n",
       "    </tr>\n",
       "    <tr>\n",
       "      <th>std</th>\n",
       "      <td>3.801302e+05</td>\n",
       "      <td>5772.306600</td>\n",
       "      <td>0.873551</td>\n",
       "    </tr>\n",
       "    <tr>\n",
       "      <th>min</th>\n",
       "      <td>-4.223520e+07</td>\n",
       "      <td>-486.598675</td>\n",
       "      <td>-0.010548</td>\n",
       "    </tr>\n",
       "    <tr>\n",
       "      <th>25%</th>\n",
       "      <td>3.999439e+04</td>\n",
       "      <td>2527.106558</td>\n",
       "      <td>1.999588</td>\n",
       "    </tr>\n",
       "    <tr>\n",
       "      <th>50%</th>\n",
       "      <td>4.368392e+04</td>\n",
       "      <td>2976.126894</td>\n",
       "      <td>2.249275</td>\n",
       "    </tr>\n",
       "    <tr>\n",
       "      <th>75%</th>\n",
       "      <td>4.775946e+04</td>\n",
       "      <td>3716.340219</td>\n",
       "      <td>2.660896</td>\n",
       "    </tr>\n",
       "    <tr>\n",
       "      <th>max</th>\n",
       "      <td>3.428099e+06</td>\n",
       "      <td>629638.977914</td>\n",
       "      <td>39.379272</td>\n",
       "    </tr>\n",
       "  </tbody>\n",
       "</table>\n",
       "</div>"
      ],
      "text/plain": [
       "       sulfate_to_au_concentrate  floatbank10_sulfate_to_au_feed   au_pb_ratio\n",
       "count               1.414900e+04                    14149.000000  14149.000000\n",
       "mean                4.038276e+04                     3456.591152      2.367314\n",
       "std                 3.801302e+05                     5772.306600      0.873551\n",
       "min                -4.223520e+07                     -486.598675     -0.010548\n",
       "25%                 3.999439e+04                     2527.106558      1.999588\n",
       "50%                 4.368392e+04                     2976.126894      2.249275\n",
       "75%                 4.775946e+04                     3716.340219      2.660896\n",
       "max                 3.428099e+06                   629638.977914     39.379272"
      ]
     },
     "execution_count": 13,
     "metadata": {},
     "output_type": "execute_result"
    }
   ],
   "source": [
    "calculation = pd.DataFrame(df[0][['rougher.calculation.sulfate_to_au_concentrate',\n",
    "                                    'rougher.calculation.floatbank10_sulfate_to_au_feed',\n",
    "                                    'rougher.calculation.au_pb_ratio']])\n",
    "calculation.columns = ['sulfate_to_au_concentrate',\n",
    "                        'floatbank10_sulfate_to_au_feed',\n",
    "                        'au_pb_ratio']\n",
    "calculation.describe()"
   ]
  },
  {
   "cell_type": "markdown",
   "id": "e3eb2e08",
   "metadata": {},
   "source": [
    "Непонятно что это. Посмотрим изменение этих показателей в динамике на графиках. Чтобы не смотреть по дням перейдем к среднемесячным показателям. А для это сделаем поля 'month', 'year' и 'year_month'."
   ]
  },
  {
   "cell_type": "code",
   "execution_count": 14,
   "id": "afc53f6a",
   "metadata": {},
   "outputs": [],
   "source": [
    "calculation['month'] = calculation.index.month\n",
    "calculation['year'] = calculation.index.year\n",
    "calculation['year_month'] = calculation['month'].astype('str') + '-' + calculation['year'].astype('str')"
   ]
  },
  {
   "cell_type": "code",
   "execution_count": 15,
   "id": "66fcfd76",
   "metadata": {},
   "outputs": [],
   "source": [
    "calculation_avg_monthly = calculation.pivot_table(index='year_month', \n",
    "                                                  values=['sulfate_to_au_concentrate',\n",
    "                                                            'floatbank10_sulfate_to_au_feed',\n",
    "                                                            'au_pb_ratio'])"
   ]
  },
  {
   "cell_type": "markdown",
   "id": "837e1d6d",
   "metadata": {},
   "source": [
    "**Динамика показателя sulfate_to_au_concentrate**"
   ]
  },
  {
   "cell_type": "code",
   "execution_count": 16,
   "id": "e992fdca",
   "metadata": {},
   "outputs": [
    {
     "data": {
      "text/plain": [
       "[<matplotlib.lines.Line2D at 0x222e30ac4c0>]"
      ]
     },
     "execution_count": 16,
     "metadata": {},
     "output_type": "execute_result"
    },
    {
     "data": {
      "image/png": "[encoded data removed]",
      "text/plain": [
       "<Figure size 432x288 with 1 Axes>"
      ]
     },
     "metadata": {
      "needs_background": "light"
     },
     "output_type": "display_data"
    }
   ],
   "source": [
    "plt.plot(calculation_avg_monthly.index, calculation_avg_monthly.sulfate_to_au_concentrate)"
   ]
  },
  {
   "cell_type": "markdown",
   "id": "d85d550a",
   "metadata": {},
   "source": [
    "Значение данного признака стабильно находятся около 4000. Это какой-то динамический признак характеризующий процесс флотации. Есть несколько значений, которые находятся около -4000. Это скорее всего ошибка. Скорее всего нужно поменять знак у отрицательных значений данного признака, но на 100% я в этом не уверен, потому что не знаком в технологическим процессом. "
   ]
  },
  {
   "cell_type": "code",
   "execution_count": 17,
   "id": "3c4d389c",
   "metadata": {},
   "outputs": [],
   "source": [
    "df[0]['rougher.calculation.floatbank10_sulfate_to_au_feed'] = abs(df[0]['rougher.calculation.floatbank10_sulfate_to_au_feed'])"
   ]
  },
  {
   "cell_type": "markdown",
   "id": "f1db2e83",
   "metadata": {},
   "source": [
    "**Динамика показателя floatbank10_sulfate_to_au_feed**"
   ]
  },
  {
   "cell_type": "code",
   "execution_count": 18,
   "id": "d1a0f336",
   "metadata": {},
   "outputs": [
    {
     "data": {
      "text/plain": [
       "[<matplotlib.lines.Line2D at 0x222e3148eb0>]"
      ]
     },
     "execution_count": 18,
     "metadata": {},
     "output_type": "execute_result"
    },
    {
     "data": {
      "image/png": "[encoded data removed]",
      "text/plain": [
       "<Figure size 432x288 with 1 Axes>"
      ]
     },
     "metadata": {
      "needs_background": "light"
     },
     "output_type": "display_data"
    }
   ],
   "source": [
    "plt.plot(calculation_avg_monthly.index, calculation_avg_monthly.floatbank10_sulfate_to_au_feed)"
   ]
  },
  {
   "cell_type": "markdown",
   "id": "288755bc",
   "metadata": {},
   "source": [
    "На основании динамики этого показателя можно сказать, что это тоже какая-то динамическая характеристика технологического процесса. "
   ]
  },
  {
   "cell_type": "markdown",
   "id": "e71420a2",
   "metadata": {},
   "source": [
    "**Динамика показателя au_pb_ratio**"
   ]
  },
  {
   "cell_type": "code",
   "execution_count": 19,
   "id": "d957069f",
   "metadata": {},
   "outputs": [
    {
     "data": {
      "text/plain": [
       "[<matplotlib.lines.Line2D at 0x222e35ffd60>]"
      ]
     },
     "execution_count": 19,
     "metadata": {},
     "output_type": "execute_result"
    },
    {
     "data": {
      "image/png": "[encoded data removed]",
      "text/plain": [
       "<Figure size 432x288 with 1 Axes>"
      ]
     },
     "metadata": {
      "needs_background": "light"
     },
     "output_type": "display_data"
    }
   ],
   "source": [
    "plt.plot(calculation_avg_monthly.index, calculation_avg_monthly.au_pb_ratio)"
   ]
  },
  {
   "cell_type": "markdown",
   "id": "4b94f9c9",
   "metadata": {},
   "source": [
    "Это тоже показатель, характеризующий  внутренние параметры техпроцесса флотации. Причем интересно, что показатель au_pb_ratio имеет устойчивую тенденцию на снижение во временном интервале. Это может указывать на то, что с этим показателем активно работают на снижение и возможно, что с помощью управления показателями sulfate_to_au_concentrate и floatbank10_sulfate_to_au_feed."
   ]
  },
  {
   "cell_type": "markdown",
   "id": "fb6722b9",
   "metadata": {},
   "source": [
    "Больше всего интересны показатели блока output - параметры концентрации металлов и отвальные хвосты и прежде всего output.concentrate.\n",
    "\n",
    "Посмотрим, что из себя представляет признаки output.concentrate и output.tail. Начнем с золота и рассмотрим три признака - rougher.input.feed_au, rougher.output.concentrate_au и rougher.output.tail_au"
   ]
  },
  {
   "cell_type": "markdown",
   "id": "f5c619e4",
   "metadata": {},
   "source": [
    "# Шаг 2. Анализа данных"
   ]
  },
  {
   "cell_type": "markdown",
   "id": "93fb1516",
   "metadata": {},
   "source": [
    "## Шаг 2.1. Анализ концентрации металлов (Au, Ag, Pb) на различных этапах очистки. "
   ]
  },
  {
   "cell_type": "markdown",
   "id": "1f7eaf92",
   "metadata": {},
   "source": [
    "**Проанализируем золото (Aurum).**"
   ]
  },
  {
   "cell_type": "code",
   "execution_count": 20,
   "id": "cc3f502b",
   "metadata": {},
   "outputs": [
    {
     "data": {
      "text/html": [
       "<div>\n",
       "<style scoped>\n",
       "    .dataframe tbody tr th:only-of-type {\n",
       "        vertical-align: middle;\n",
       "    }\n",
       "\n",
       "    .dataframe tbody tr th {\n",
       "        vertical-align: top;\n",
       "    }\n",
       "\n",
       "    .dataframe thead th {\n",
       "        text-align: right;\n",
       "    }\n",
       "</style>\n",
       "<table border=\"1\" class=\"dataframe\">\n",
       "  <thead>\n",
       "    <tr style=\"text-align: right;\">\n",
       "      <th></th>\n",
       "      <th>count</th>\n",
       "      <th>mean</th>\n",
       "      <th>std</th>\n",
       "      <th>min</th>\n",
       "      <th>25%</th>\n",
       "      <th>50%</th>\n",
       "      <th>75%</th>\n",
       "      <th>max</th>\n",
       "    </tr>\n",
       "  </thead>\n",
       "  <tbody>\n",
       "    <tr>\n",
       "      <th>rougher.input.feed_au</th>\n",
       "      <td>14149.0</td>\n",
       "      <td>7.866577</td>\n",
       "      <td>1.919506</td>\n",
       "      <td>0.01</td>\n",
       "      <td>6.596217</td>\n",
       "      <td>7.649138</td>\n",
       "      <td>9.066976</td>\n",
       "      <td>13.126043</td>\n",
       "    </tr>\n",
       "    <tr>\n",
       "      <th>rougher.output.concentrate_au</th>\n",
       "      <td>14149.0</td>\n",
       "      <td>19.439958</td>\n",
       "      <td>3.765192</td>\n",
       "      <td>0.00</td>\n",
       "      <td>18.432161</td>\n",
       "      <td>19.947312</td>\n",
       "      <td>21.392714</td>\n",
       "      <td>28.146838</td>\n",
       "    </tr>\n",
       "    <tr>\n",
       "      <th>primary_cleaner.output.concentrate_au</th>\n",
       "      <td>14149.0</td>\n",
       "      <td>32.386836</td>\n",
       "      <td>5.798843</td>\n",
       "      <td>0.00</td>\n",
       "      <td>30.857764</td>\n",
       "      <td>33.225835</td>\n",
       "      <td>35.330145</td>\n",
       "      <td>45.933934</td>\n",
       "    </tr>\n",
       "    <tr>\n",
       "      <th>final.output.concentrate_au</th>\n",
       "      <td>14149.0</td>\n",
       "      <td>44.003792</td>\n",
       "      <td>4.905261</td>\n",
       "      <td>0.00</td>\n",
       "      <td>43.276111</td>\n",
       "      <td>44.872436</td>\n",
       "      <td>46.166425</td>\n",
       "      <td>52.756638</td>\n",
       "    </tr>\n",
       "  </tbody>\n",
       "</table>\n",
       "</div>"
      ],
      "text/plain": [
       "                                         count       mean       std   min  \\\n",
       "rougher.input.feed_au                  14149.0   7.866577  1.919506  0.01   \n",
       "rougher.output.concentrate_au          14149.0  19.439958  3.765192  0.00   \n",
       "primary_cleaner.output.concentrate_au  14149.0  32.386836  5.798843  0.00   \n",
       "final.output.concentrate_au            14149.0  44.003792  4.905261  0.00   \n",
       "\n",
       "                                             25%        50%        75%  \\\n",
       "rougher.input.feed_au                   6.596217   7.649138   9.066976   \n",
       "rougher.output.concentrate_au          18.432161  19.947312  21.392714   \n",
       "primary_cleaner.output.concentrate_au  30.857764  33.225835  35.330145   \n",
       "final.output.concentrate_au            43.276111  44.872436  46.166425   \n",
       "\n",
       "                                             max  \n",
       "rougher.input.feed_au                  13.126043  \n",
       "rougher.output.concentrate_au          28.146838  \n",
       "primary_cleaner.output.concentrate_au  45.933934  \n",
       "final.output.concentrate_au            52.756638  "
      ]
     },
     "metadata": {},
     "output_type": "display_data"
    }
   ],
   "source": [
    "aurum = df[0][['rougher.input.feed_au', \n",
    "                           'rougher.output.concentrate_au', \n",
    "                           'primary_cleaner.output.concentrate_au',\n",
    "                           'final.output.concentrate_au']]\n",
    "aurum_describe = aurum.describe().transpose()\n",
    "display(aurum_describe)"
   ]
  },
  {
   "cell_type": "markdown",
   "id": "7ee214ac",
   "metadata": {},
   "source": [
    "Посмотрим график изменения среднего значения concentrate от этапа к этапу"
   ]
  },
  {
   "cell_type": "code",
   "execution_count": 23,
   "id": "22a0d07a",
   "metadata": {},
   "outputs": [
    {
     "data": {
      "text/plain": [
       "Text(0.5, 1.0, 'Динамика среднего значения концентрации золота по этапам')"
      ]
     },
     "execution_count": 23,
     "metadata": {},
     "output_type": "execute_result"
    },
    {
     "data": {
      "image/png": "[encoded data removed]",
      "text/plain": [
       "<Figure size 432x288 with 1 Axes>"
      ]
     },
     "metadata": {
      "needs_background": "light"
     },
     "output_type": "display_data"
    }
   ],
   "source": [
    "ax_1 = sns.barplot(y=aurum_describe.index, x=aurum_describe['mean'])\n",
    "ax_1.set_title(f'Динамика среднего значения концентрации золота по этапам', fontsize=12)"
   ]
  },
  {
   "cell_type": "markdown",
   "id": "83edfef2",
   "metadata": {},
   "source": [
    "Посмотрим распределение концентрации золота в промежуточном и финальном продукте каждого этапа технологического процесса."
   ]
  },
  {
   "cell_type": "code",
   "execution_count": 24,
   "id": "e4b82342",
   "metadata": {},
   "outputs": [
    {
     "data": {
      "text/plain": [
       "Text(0.5, 1.0, 'Динамика распределения концентрации золота на этапах техпроцесса')"
      ]
     },
     "execution_count": 24,
     "metadata": {},
     "output_type": "execute_result"
    },
    {
     "data": {
      "image/png": "[encoded data removed]",
      "text/plain": [
       "<Figure size 864x360 with 1 Axes>"
      ]
     },
     "metadata": {
      "needs_background": "light"
     },
     "output_type": "display_data"
    }
   ],
   "source": [
    "fig = plt.figure(figsize=(12,5))\n",
    "ax_1 = sns.histplot(data = aurum)\n",
    "ax_1.set_title(f'Динамика распределения концентрации золота на этапах техпроцесса', fontsize=12)"
   ]
  },
  {
   "cell_type": "markdown",
   "id": "a221f21a",
   "metadata": {},
   "source": [
    "Очевидно из таблицы графиков, что показатели конецнтрации золота растут от этапа к этапу и достигают своего максимума к финальному этапу. Среднее значение концентрации золота увеличивается в четыре раза от этапа рудного сырья до финального концентрата. Можно говорить про эти показатели, что они характеризуют конверсию этапов очистки и чем выше конверсия, тем эффективнее производство.<br>\n",
    "Также мы наблюдаем длиные хвосты слева и накопление объектов в районе нуля для каждого этапа. Это означает, что есть объекты с неффективным обогащением на каждом этапе. Из этого можно сделать два предположения:\n",
    "Первое предположение, что это путь исходной порции сырья с низкой концентрацией золота, т.е. рудное сырье с небольшим или близким к нулю концентрацией золота на входе (input.feed_au) в техпроцессе выдает небольшие или близкие к нулю концентрации золота на выходе (final.output.concentrate_au).\n",
    "Второе предположение, что это ошибки измерения.\n",
    "Проверим. Возьмем объекты рудного сырья с высоким содержанием золота на входе больше  6,6% - это первая квантиль. Если будут нули на других этапах, то значит это ошибки измерения."
   ]
  },
  {
   "cell_type": "code",
   "execution_count": 25,
   "id": "ebff4853",
   "metadata": {},
   "outputs": [
    {
     "data": {
      "image/png": "[encoded data removed]",
      "text/plain": [
       "<Figure size 864x360 with 1 Axes>"
      ]
     },
     "metadata": {
      "needs_background": "light"
     },
     "output_type": "display_data"
    }
   ],
   "source": [
    "smale_feed_au = aurum[aurum['rougher.input.feed_au'] > 6.6]\n",
    "fig = plt.figure(figsize=(12,5))\n",
    "ax_1 = sns.histplot(data=[smale_feed_au['rougher.input.feed_au'],\n",
    "                          smale_feed_au['rougher.output.concentrate_au'],\n",
    "                          smale_feed_au['primary_cleaner.output.concentrate_au'],\n",
    "                          smale_feed_au['final.output.concentrate_au']], bins=50)"
   ]
  },
  {
   "cell_type": "markdown",
   "id": "2cbcbf1e",
   "metadata": {},
   "source": [
    "Для порций рудного сырья с хорошей концентрацией золота мы видим такие же выбросы около нуля, значит это ошибки измерения."
   ]
  },
  {
   "cell_type": "markdown",
   "id": "9325a0e1",
   "metadata": {},
   "source": [
    "**Проанализируем серебро (Argentum).**"
   ]
  },
  {
   "cell_type": "code",
   "execution_count": 26,
   "id": "645f10e9",
   "metadata": {},
   "outputs": [
    {
     "data": {
      "text/html": [
       "<div>\n",
       "<style scoped>\n",
       "    .dataframe tbody tr th:only-of-type {\n",
       "        vertical-align: middle;\n",
       "    }\n",
       "\n",
       "    .dataframe tbody tr th {\n",
       "        vertical-align: top;\n",
       "    }\n",
       "\n",
       "    .dataframe thead th {\n",
       "        text-align: right;\n",
       "    }\n",
       "</style>\n",
       "<table border=\"1\" class=\"dataframe\">\n",
       "  <thead>\n",
       "    <tr style=\"text-align: right;\">\n",
       "      <th></th>\n",
       "      <th>count</th>\n",
       "      <th>mean</th>\n",
       "      <th>std</th>\n",
       "      <th>min</th>\n",
       "      <th>25%</th>\n",
       "      <th>50%</th>\n",
       "      <th>75%</th>\n",
       "      <th>max</th>\n",
       "    </tr>\n",
       "  </thead>\n",
       "  <tbody>\n",
       "    <tr>\n",
       "      <th>rougher.input.feed_ag</th>\n",
       "      <td>14149.0</td>\n",
       "      <td>8.579195</td>\n",
       "      <td>1.896284</td>\n",
       "      <td>0.01</td>\n",
       "      <td>7.132802</td>\n",
       "      <td>8.156092</td>\n",
       "      <td>9.918304</td>\n",
       "      <td>14.596026</td>\n",
       "    </tr>\n",
       "    <tr>\n",
       "      <th>rougher.output.concentrate_ag</th>\n",
       "      <td>14149.0</td>\n",
       "      <td>11.775812</td>\n",
       "      <td>2.731747</td>\n",
       "      <td>0.00</td>\n",
       "      <td>10.486871</td>\n",
       "      <td>11.747362</td>\n",
       "      <td>13.426419</td>\n",
       "      <td>24.480271</td>\n",
       "    </tr>\n",
       "    <tr>\n",
       "      <th>primary_cleaner.output.concentrate_ag</th>\n",
       "      <td>14149.0</td>\n",
       "      <td>8.200916</td>\n",
       "      <td>2.005185</td>\n",
       "      <td>0.00</td>\n",
       "      <td>7.107126</td>\n",
       "      <td>8.226247</td>\n",
       "      <td>9.504924</td>\n",
       "      <td>16.081632</td>\n",
       "    </tr>\n",
       "    <tr>\n",
       "      <th>final.output.concentrate_ag</th>\n",
       "      <td>14149.0</td>\n",
       "      <td>5.141915</td>\n",
       "      <td>1.369610</td>\n",
       "      <td>0.00</td>\n",
       "      <td>4.211500</td>\n",
       "      <td>4.994607</td>\n",
       "      <td>5.859495</td>\n",
       "      <td>16.001945</td>\n",
       "    </tr>\n",
       "  </tbody>\n",
       "</table>\n",
       "</div>"
      ],
      "text/plain": [
       "                                         count       mean       std   min  \\\n",
       "rougher.input.feed_ag                  14149.0   8.579195  1.896284  0.01   \n",
       "rougher.output.concentrate_ag          14149.0  11.775812  2.731747  0.00   \n",
       "primary_cleaner.output.concentrate_ag  14149.0   8.200916  2.005185  0.00   \n",
       "final.output.concentrate_ag            14149.0   5.141915  1.369610  0.00   \n",
       "\n",
       "                                             25%        50%        75%  \\\n",
       "rougher.input.feed_ag                   7.132802   8.156092   9.918304   \n",
       "rougher.output.concentrate_ag          10.486871  11.747362  13.426419   \n",
       "primary_cleaner.output.concentrate_ag   7.107126   8.226247   9.504924   \n",
       "final.output.concentrate_ag             4.211500   4.994607   5.859495   \n",
       "\n",
       "                                             max  \n",
       "rougher.input.feed_ag                  14.596026  \n",
       "rougher.output.concentrate_ag          24.480271  \n",
       "primary_cleaner.output.concentrate_ag  16.081632  \n",
       "final.output.concentrate_ag            16.001945  "
      ]
     },
     "metadata": {},
     "output_type": "display_data"
    }
   ],
   "source": [
    "argentum = df[0][['rougher.input.feed_ag', \n",
    "                              'rougher.output.concentrate_ag', \n",
    "                              'primary_cleaner.output.concentrate_ag',\n",
    "                              'final.output.concentrate_ag']]\n",
    "argentum_describe = argentum.describe().transpose()\n",
    "display(argentum_describe)"
   ]
  },
  {
   "cell_type": "markdown",
   "id": "64c2941c",
   "metadata": {},
   "source": [
    "Посмотрим график изменения среднего значения concentrate по этапам."
   ]
  },
  {
   "cell_type": "code",
   "execution_count": 27,
   "id": "64e89435",
   "metadata": {},
   "outputs": [
    {
     "data": {
      "text/plain": [
       "Text(0.5, 1.0, 'Динамика среднего значения концентрации серебра')"
      ]
     },
     "execution_count": 27,
     "metadata": {},
     "output_type": "execute_result"
    },
    {
     "data": {
      "image/png": "[encoded data removed]",
      "text/plain": [
       "<Figure size 432x288 with 1 Axes>"
      ]
     },
     "metadata": {
      "needs_background": "light"
     },
     "output_type": "display_data"
    }
   ],
   "source": [
    "ax_1 = sns.barplot(y=argentum_describe.index, x=argentum_describe['mean'])\n",
    "ax_1.set_title(f'Динамика среднего значения концентрации серебра', fontsize=12)"
   ]
  },
  {
   "cell_type": "markdown",
   "id": "d3cb1615",
   "metadata": {},
   "source": [
    "Посмотрим распределение концентрации серебра в промежуточном и финальном продукте каждого этапа технологического процесса."
   ]
  },
  {
   "cell_type": "code",
   "execution_count": 28,
   "id": "8ecdf383",
   "metadata": {},
   "outputs": [
    {
     "data": {
      "text/plain": [
       "Text(0.5, 1.0, 'Динамика распределения концентрации серебра на этапах техпроцесса')"
      ]
     },
     "execution_count": 28,
     "metadata": {},
     "output_type": "execute_result"
    },
    {
     "data": {
      "image/png": "[encoded data removed]",
      "text/plain": [
       "<Figure size 864x360 with 1 Axes>"
      ]
     },
     "metadata": {
      "needs_background": "light"
     },
     "output_type": "display_data"
    }
   ],
   "source": [
    "fig = plt.figure(figsize=(12,5))\n",
    "ax_1 = sns.histplot(data = argentum)\n",
    "ax_1.set_title(f'Динамика распределения концентрации серебра на этапах техпроцесса', fontsize=12)"
   ]
  },
  {
   "cell_type": "markdown",
   "id": "51bb6d8e",
   "metadata": {},
   "source": [
    "Анализируя таблицу и графики, мы не видим такого же устойчивого роста показателей concentrate как по золоту. Это может свидетельствовать о том, что тех процесс не настроен на обогащение серебра и серебро является побочным продуктом производства."
   ]
  },
  {
   "cell_type": "markdown",
   "id": "821a1b5f",
   "metadata": {},
   "source": [
    "**Проанализируем свинец (Plumbum).**"
   ]
  },
  {
   "cell_type": "code",
   "execution_count": 29,
   "id": "750458a5",
   "metadata": {},
   "outputs": [
    {
     "data": {
      "text/html": [
       "<div>\n",
       "<style scoped>\n",
       "    .dataframe tbody tr th:only-of-type {\n",
       "        vertical-align: middle;\n",
       "    }\n",
       "\n",
       "    .dataframe tbody tr th {\n",
       "        vertical-align: top;\n",
       "    }\n",
       "\n",
       "    .dataframe thead th {\n",
       "        text-align: right;\n",
       "    }\n",
       "</style>\n",
       "<table border=\"1\" class=\"dataframe\">\n",
       "  <thead>\n",
       "    <tr style=\"text-align: right;\">\n",
       "      <th></th>\n",
       "      <th>count</th>\n",
       "      <th>mean</th>\n",
       "      <th>std</th>\n",
       "      <th>min</th>\n",
       "      <th>25%</th>\n",
       "      <th>50%</th>\n",
       "      <th>75%</th>\n",
       "      <th>max</th>\n",
       "    </tr>\n",
       "  </thead>\n",
       "  <tbody>\n",
       "    <tr>\n",
       "      <th>rougher.input.feed_pb</th>\n",
       "      <td>14149.0</td>\n",
       "      <td>3.506501</td>\n",
       "      <td>1.089049</td>\n",
       "      <td>0.01</td>\n",
       "      <td>2.766515</td>\n",
       "      <td>3.414267</td>\n",
       "      <td>4.220115</td>\n",
       "      <td>7.142594</td>\n",
       "    </tr>\n",
       "    <tr>\n",
       "      <th>rougher.output.concentrate_pb</th>\n",
       "      <td>14149.0</td>\n",
       "      <td>7.664555</td>\n",
       "      <td>1.856279</td>\n",
       "      <td>0.00</td>\n",
       "      <td>6.850501</td>\n",
       "      <td>7.760435</td>\n",
       "      <td>8.601927</td>\n",
       "      <td>13.617072</td>\n",
       "    </tr>\n",
       "    <tr>\n",
       "      <th>primary_cleaner.output.concentrate_pb</th>\n",
       "      <td>14149.0</td>\n",
       "      <td>9.568457</td>\n",
       "      <td>2.708364</td>\n",
       "      <td>0.00</td>\n",
       "      <td>8.314746</td>\n",
       "      <td>9.919856</td>\n",
       "      <td>11.298191</td>\n",
       "      <td>17.081278</td>\n",
       "    </tr>\n",
       "    <tr>\n",
       "      <th>final.output.concentrate_pb</th>\n",
       "      <td>14149.0</td>\n",
       "      <td>10.132841</td>\n",
       "      <td>1.654932</td>\n",
       "      <td>0.00</td>\n",
       "      <td>9.296833</td>\n",
       "      <td>10.297013</td>\n",
       "      <td>11.170578</td>\n",
       "      <td>17.031899</td>\n",
       "    </tr>\n",
       "  </tbody>\n",
       "</table>\n",
       "</div>"
      ],
      "text/plain": [
       "                                         count       mean       std   min  \\\n",
       "rougher.input.feed_pb                  14149.0   3.506501  1.089049  0.01   \n",
       "rougher.output.concentrate_pb          14149.0   7.664555  1.856279  0.00   \n",
       "primary_cleaner.output.concentrate_pb  14149.0   9.568457  2.708364  0.00   \n",
       "final.output.concentrate_pb            14149.0  10.132841  1.654932  0.00   \n",
       "\n",
       "                                            25%        50%        75%  \\\n",
       "rougher.input.feed_pb                  2.766515   3.414267   4.220115   \n",
       "rougher.output.concentrate_pb          6.850501   7.760435   8.601927   \n",
       "primary_cleaner.output.concentrate_pb  8.314746   9.919856  11.298191   \n",
       "final.output.concentrate_pb            9.296833  10.297013  11.170578   \n",
       "\n",
       "                                             max  \n",
       "rougher.input.feed_pb                   7.142594  \n",
       "rougher.output.concentrate_pb          13.617072  \n",
       "primary_cleaner.output.concentrate_pb  17.081278  \n",
       "final.output.concentrate_pb            17.031899  "
      ]
     },
     "metadata": {},
     "output_type": "display_data"
    }
   ],
   "source": [
    "plumbum = df[0][['rougher.input.feed_pb', \n",
    "                             'rougher.output.concentrate_pb', \n",
    "                             'primary_cleaner.output.concentrate_pb',\n",
    "                             'final.output.concentrate_pb']]\n",
    "plumbum_describe = plumbum.describe().transpose()\n",
    "display(plumbum_describe)"
   ]
  },
  {
   "cell_type": "markdown",
   "id": "64ce20d9",
   "metadata": {},
   "source": [
    "Посмотрим график изменения среднего значения concentrate от этапа к этапу"
   ]
  },
  {
   "cell_type": "code",
   "execution_count": 30,
   "id": "add9b54c",
   "metadata": {},
   "outputs": [
    {
     "data": {
      "text/plain": [
       "Text(0.5, 1.0, 'Динамика среднего значения концентрации свинцат по этапам')"
      ]
     },
     "execution_count": 30,
     "metadata": {},
     "output_type": "execute_result"
    },
    {
     "data": {
      "image/png": "[encoded data removed]",
      "text/plain": [
       "<Figure size 432x288 with 1 Axes>"
      ]
     },
     "metadata": {
      "needs_background": "light"
     },
     "output_type": "display_data"
    }
   ],
   "source": [
    "ax_1 = sns.barplot(y=plumbum_describe.index, x=plumbum_describe['mean'])\n",
    "ax_1.set_title(f'Динамика среднего значения концентрации свинцат по этапам', fontsize=12)"
   ]
  },
  {
   "cell_type": "markdown",
   "id": "b99e08d3",
   "metadata": {},
   "source": [
    "Посмотрим распределение концентрации свинца в промежуточном и финальном продукте каждого этапа технологического процесса."
   ]
  },
  {
   "cell_type": "code",
   "execution_count": 31,
   "id": "565bb59b",
   "metadata": {},
   "outputs": [
    {
     "data": {
      "text/plain": [
       "Text(0.5, 1.0, 'Динамика распределения концентрации свинца на этапах техпроцесса')"
      ]
     },
     "execution_count": 31,
     "metadata": {},
     "output_type": "execute_result"
    },
    {
     "data": {
      "image/png": "[encoded data removed]",
      "text/plain": [
       "<Figure size 864x360 with 1 Axes>"
      ]
     },
     "metadata": {
      "needs_background": "light"
     },
     "output_type": "display_data"
    }
   ],
   "source": [
    "fig = plt.figure(figsize=(12,5))\n",
    "ax_1 = sns.histplot(data = plumbum)\n",
    "ax_1.set_title(f'Динамика распределения концентрации свинца на этапах техпроцесса', fontsize=12)"
   ]
  },
  {
   "cell_type": "markdown",
   "id": "6de22fed",
   "metadata": {},
   "source": [
    "Анализируя таблицу и графики по свинцу, мы видим рост показателей  concentrate и tail от этапа к этапу также как и у золота. Золото и свинец находятся рядом в таблице Менделеева и плотности этих металлов близки к друг к другу. Исходя из этого можно сделать вывод, что на этапе флотации, первичной и вторичной очистки вместе с золотом обогащается и свинец. Похоже такая особенность данного технологического процесса и разделение золота и свинца в нем не предусмотрено. С этой проблемой я думаю технологи борются и мы это видим по контролю показателя au_pb_ratio."
   ]
  },
  {
   "cell_type": "markdown",
   "id": "bb350239",
   "metadata": {},
   "source": [
    "## Шаг 2.2. Анализ распределения размеров гранул сырья на обучающей и тестовой выборках. "
   ]
  },
  {
   "cell_type": "markdown",
   "id": "7815bd27",
   "metadata": {},
   "source": [
    "По условиям задачи нам уже дано разделение исходных данных на обучающую и тестовую. Так как размер гранул влияет на химические и физические процессы в рамках флотации и очистки, то необходимо проверить характер распределение размеров гранул в обоих выборках, а также сравнить средние значения на предмет равенства средней величины размеров гранул. <br>\n",
    "Проанализируем размеры гранул в обучающей и тестовой выборках для этапов флотации и первичной очистки."
   ]
  },
  {
   "cell_type": "markdown",
   "id": "a62734c5",
   "metadata": {},
   "source": [
    "**Посмотрим распределение гранул в обучающей и тестовой выборках для этапа флотации (rougher)**"
   ]
  },
  {
   "cell_type": "code",
   "execution_count": 32,
   "id": "4b8e26b7",
   "metadata": {},
   "outputs": [
    {
     "data": {
      "text/plain": [
       "Text(0.5, 1.0, 'Ящик с усами размера гранул на обучающей выборке')"
      ]
     },
     "execution_count": 32,
     "metadata": {},
     "output_type": "execute_result"
    },
    {
     "data": {
      "image/png": "[encoded data removed]",
      "text/plain": [
       "<Figure size 864x288 with 2 Axes>"
      ]
     },
     "metadata": {
      "needs_background": "light"
     },
     "output_type": "display_data"
    }
   ],
   "source": [
    "# Распределение и ящик с усами размера гранул для обучающей выборки\n",
    "feature = df[0]['rougher.input.feed_size']\n",
    "\n",
    "fig = plt.figure(figsize=(12,4))\n",
    "ax_1 = fig.add_subplot(1, 2, 1)\n",
    "ax_2 = fig.add_subplot(1, 2, 2)\n",
    "sns.histplot(x=feature, kde=True, ax=ax_1)\n",
    "ax_2 = sns.boxplot(x=feature, ax=ax_2)\n",
    "ax_1.set_title('Гистограмма распределения размера гранул на обучающей выборке', fontsize=9)\n",
    "ax_2.set_title('Ящик с усами размера гранул на обучающей выборке', fontsize=9)"
   ]
  },
  {
   "cell_type": "code",
   "execution_count": 33,
   "id": "97048af8",
   "metadata": {},
   "outputs": [
    {
     "data": {
      "text/plain": [
       "Text(0.5, 1.0, 'Ящик с усами размера гранул на обучающей выборке')"
      ]
     },
     "execution_count": 33,
     "metadata": {},
     "output_type": "execute_result"
    },
    {
     "data": {
      "image/png": "[encoded data removed]",
      "text/plain": [
       "<Figure size 864x288 with 2 Axes>"
      ]
     },
     "metadata": {
      "needs_background": "light"
     },
     "output_type": "display_data"
    }
   ],
   "source": [
    "# Распределение и ящик с усами размера гранул для тестовой выборки\n",
    "feature = df[1]['rougher.input.feed_size']\n",
    "\n",
    "fig = plt.figure(figsize=(12,4))\n",
    "ax_1 = fig.add_subplot(1, 2, 1)\n",
    "ax_2 = fig.add_subplot(1, 2, 2)\n",
    "ax_1 = sns.histplot(x=feature, kde=True, ax=ax_1)\n",
    "ax_2 = sns.boxplot(x=feature, ax=ax_2)\n",
    "ax_1.set_title('Гистограмма распределения размера гранул на обучающей выборке', fontsize=9)\n",
    "ax_2.set_title('Ящик с усами размера гранул на обучающей выборке', fontsize=9)"
   ]
  },
  {
   "cell_type": "markdown",
   "id": "cc6fccfb",
   "metadata": {},
   "source": [
    "Мы видим длинные хвосты в обоих гистограммах и соответственно статистические выбросы на boxplot.<br>\n",
    "В целом распределения размеров гранул на обучающей и тестовых выборках очень похоже. <br>\n",
    "Уменьшим границы областей значений (xlim), т.е. уберем с графика выбросы."
   ]
  },
  {
   "cell_type": "code",
   "execution_count": 34,
   "id": "71b0dade",
   "metadata": {},
   "outputs": [
    {
     "data": {
      "text/plain": [
       "Text(0.5, 1.0, 'Гистограмма распределения размера гранул на тестовой выборке')"
      ]
     },
     "execution_count": 34,
     "metadata": {},
     "output_type": "execute_result"
    },
    {
     "data": {
      "image/png": "[encoded data removed]",
      "text/plain": [
       "<Figure size 864x288 with 2 Axes>"
      ]
     },
     "metadata": {
      "needs_background": "light"
     },
     "output_type": "display_data"
    }
   ],
   "source": [
    "feature_0 = df[0]['rougher.input.feed_size']\n",
    "feature_1 = df[1]['rougher.input.feed_size']\n",
    "\n",
    "fig = plt.figure(figsize=(12,4))\n",
    "ax_1 = fig.add_subplot(1, 2, 1)\n",
    "ax_2 = fig.add_subplot(1, 2, 2)\n",
    "ax_1 = sns.histplot(x=feature_0, kde=True, ax=ax_1)\n",
    "ax_1.set_xlim([0, 150])\n",
    "ax_2 = sns.histplot(x=feature_1, kde=True, ax=ax_2)\n",
    "ax_2.set_xlim([0, 150])\n",
    "ax_1.set_title('Гистограмма распределения размера гранул на обучающей выборке', fontsize=9)\n",
    "ax_2.set_title('Гистограмма распределения размера гранул на тестовой выборке', fontsize=9)"
   ]
  },
  {
   "cell_type": "markdown",
   "id": "39b9054f",
   "metadata": {},
   "source": [
    "Из графиков видно, что на обучающей выборке распределение размеров гранул похоже на нормальное распределение, но с небольшим горбом справа и довольно длинным хвостом в том же направлении, который характеризует наличие статистических выбросов справа и довольно большое значение стандартного отклонения на всей выборке. Мода и среднее значение довольно близки к друг другу и находятся в диапазоне 55-60. Наличие горба справа говорит о том, что есть намек на вторую моду в районе 70-75.<br>\n",
    "Посмотрим распределение размеров гранул на генеральной совокупности и сравним ее с обучающей выборкой."
   ]
  },
  {
   "cell_type": "code",
   "execution_count": 35,
   "id": "88a53080",
   "metadata": {},
   "outputs": [
    {
     "data": {
      "text/plain": [
       "Text(0.5, 1.0, 'Гистограмма распределения размера гранул на генеральной совокупности')"
      ]
     },
     "execution_count": 35,
     "metadata": {},
     "output_type": "execute_result"
    },
    {
     "data": {
      "image/png": "[encoded data removed]",
      "text/plain": [
       "<Figure size 432x288 with 1 Axes>"
      ]
     },
     "metadata": {
      "needs_background": "light"
     },
     "output_type": "display_data"
    }
   ],
   "source": [
    "feature_0 = df[0]['rougher.input.feed_size']\n",
    "feature_2 = df[2]['rougher.input.feed_size']\n",
    "ax_1 = sns.histplot(x=feature_0, kde=True, color='green', alpha=0.7)\n",
    "ax_1 = sns.histplot(x=feature_2, kde=True)\n",
    "ax_1.set_xlim([0, 150])\n",
    "ax_1.set_title('Гистограмма распределения размера гранул на генеральной совокупности', fontsize=9)"
   ]
  },
  {
   "cell_type": "markdown",
   "id": "c595b30c",
   "metadata": {},
   "source": [
    "Распределение размеров гранул на обучающей выборке и генеральной совокупности почти совпадают."
   ]
  },
  {
   "cell_type": "markdown",
   "id": "45936a2f",
   "metadata": {},
   "source": [
    "Распределение размеров гранул на тестовой выборке слабо похоже на нормальное распределение и имеет четко выраженную бимодальную структуру.\n",
    "Но несмотря на это распределение на тестовой выборке в целом похоже на распределение на обучающей выборке. Отличие в характере распределения размеров гранул на обучающей и тестовой выборке скажутся негативно на оценку точности модели на тестовой выборке."
   ]
  },
  {
   "cell_type": "markdown",
   "id": "a2069421",
   "metadata": {},
   "source": [
    "Проверим гипотезу о равенстве средних двух независимых выборок, считая что их распределения похожи на нормальное.<br>\n",
    "\n",
    "Определим нулевую гипотезу H0 так: Средние размеры гранул на обучающей и тестовой выборке равны.<br>\n",
    "Определим альтернативнуб гипотезу H1 так: Средние размеры гранул на обучающей и тестовой выборке не равны."
   ]
  },
  {
   "cell_type": "code",
   "execution_count": 36,
   "id": "0efd46d5",
   "metadata": {},
   "outputs": [],
   "source": [
    "# функция вывода результатов ttest с результатами\n",
    "def ttest(sample_train, sample_test, alpha=0.05):\n",
    "    print(\"Cредний размер на обучающей выборке:\", sample_train.mean())\n",
    "    print(\"Cредний размер на тестовой выборке:\", sample_test.mean())\n",
    "    # тест двусторонний\n",
    "    _, pvalue = st.ttest_ind(sample_train, sample_test)\n",
    "    print('p-значение: ', pvalue)\n",
    "    test_result = [f'Отвергаем нулевую гипотезу: средние размеры скорее на равны при уровне значимости {alpha}.',\n",
    "                   f'Не получилось отвергнуть нулевую гипотезу: средние размеры скорее равны при уровне значимости {alpha}.']\n",
    "    print(test_result[0] if pvalue < alpha else test_result[1])"
   ]
  },
  {
   "cell_type": "code",
   "execution_count": 37,
   "id": "f0aae5e1",
   "metadata": {},
   "outputs": [
    {
     "name": "stdout",
     "output_type": "stream",
     "text": [
      "Cредний размер на обучающей выборке: 59.955949804241705\n",
      "Cредний размер на тестовой выборке: 55.9529165958953\n",
      "p-значение:  6.374129509652547e-29\n",
      "Отвергаем нулевую гипотезу: средние размеры скорее на равны при уровне значимости 0.05.\n"
     ]
    }
   ],
   "source": [
    "ttest(df[0]['rougher.input.feed_size'], df[1]['rougher.input.feed_size'])"
   ]
  },
  {
   "cell_type": "markdown",
   "id": "092522f4",
   "metadata": {},
   "source": [
    "Исходя из результатов нашего ttesta для двух наших выборок мы получили негативный результат, который означает, что на наша модель на тестовой выборке может получить плохую оценку.<br>\n",
    "Может получить плохую оценку - это не значит, что получит, т.к. данный признак будет участвовать в регрессионной модели с определенным весом и весьма вероятно, что вес этого признака не будет доминировать при расчете прогноза."
   ]
  },
  {
   "cell_type": "markdown",
   "id": "55222678",
   "metadata": {},
   "source": [
    "**Посмотрим распределение гранул в обучающей и тестовой выборках для этапа первичной очистки (primary_cleaner)**"
   ]
  },
  {
   "cell_type": "code",
   "execution_count": 38,
   "id": "7e11608d",
   "metadata": {},
   "outputs": [
    {
     "data": {
      "text/plain": [
       "Text(0.5, 1.0, 'Ящик с усами размера гранул на обучающей выборке')"
      ]
     },
     "execution_count": 38,
     "metadata": {},
     "output_type": "execute_result"
    },
    {
     "data": {
      "image/png": "[encoded data removed]",
      "text/plain": [
       "<Figure size 864x288 with 2 Axes>"
      ]
     },
     "metadata": {
      "needs_background": "light"
     },
     "output_type": "display_data"
    }
   ],
   "source": [
    "# Распределение и ящик с усами размера гранул для обучающей выборки\n",
    "feature = df[0]['primary_cleaner.input.feed_size']\n",
    "\n",
    "fig = plt.figure(figsize=(12,4))\n",
    "ax_1 = fig.add_subplot(1, 2, 1)\n",
    "ax_2 = fig.add_subplot(1, 2, 2)\n",
    "sns.histplot(x=feature, kde=True, ax=ax_1)\n",
    "ax_2 = sns.boxplot(x=feature, ax=ax_2)\n",
    "ax_1.set_title('Гистограмма распределения размера гранул на обучающей выборке', fontsize=9)\n",
    "ax_2.set_title('Ящик с усами размера гранул на обучающей выборке', fontsize=9)"
   ]
  },
  {
   "cell_type": "markdown",
   "id": "d3381180",
   "metadata": {},
   "source": [
    "Из графика видно, что на обучающей выборке на входе в этап первичной очистки мы видим симметричное и похожее на нормальное распределение размеров гранул. Мы также видим незначительное количество статистических выбросов как справа, так и слева.<br>\n",
    "\n",
    "Посмотрим распределение на тестовой выборке."
   ]
  },
  {
   "cell_type": "code",
   "execution_count": 39,
   "id": "3a20aba9",
   "metadata": {},
   "outputs": [
    {
     "data": {
      "text/plain": [
       "Text(0.5, 1.0, 'Ящик с усами размера гранул на обучающей выборке')"
      ]
     },
     "execution_count": 39,
     "metadata": {},
     "output_type": "execute_result"
    },
    {
     "data": {
      "image/png": "[encoded data removed]",
      "text/plain": [
       "<Figure size 864x288 with 2 Axes>"
      ]
     },
     "metadata": {
      "needs_background": "light"
     },
     "output_type": "display_data"
    }
   ],
   "source": [
    "# Распределение и ящик с усами размера гранул для обучающей выборки\n",
    "feature = df[1]['primary_cleaner.input.feed_size']\n",
    "\n",
    "fig = plt.figure(figsize=(12,4))\n",
    "ax_1 = fig.add_subplot(1, 2, 1)\n",
    "ax_2 = fig.add_subplot(1, 2, 2)\n",
    "sns.histplot(x=feature, kde=True, ax=ax_1)\n",
    "ax_2 = sns.boxplot(x=feature, ax=ax_2)\n",
    "ax_1.set_title('Гистограмма распределения размера гранул на обучающей выборке', fontsize=9)\n",
    "ax_2.set_title('Ящик с усами размера гранул на обучающей выборке', fontsize=9)"
   ]
  },
  {
   "cell_type": "markdown",
   "id": "dc4b6718",
   "metadata": {},
   "source": [
    "На тестовой выборке распределение размеров гранул на этапе первичной очистки также похоже на нормальное распределение с небольшим количеством статистических выбросов справа."
   ]
  },
  {
   "cell_type": "markdown",
   "id": "bf1b6a9d",
   "metadata": {},
   "source": [
    "Посмотрим на эти распределения с учетом уменьшения границы областей значений (xlim), т.е. уберем с графиков выбросы."
   ]
  },
  {
   "cell_type": "code",
   "execution_count": 40,
   "id": "aa8a4070",
   "metadata": {},
   "outputs": [
    {
     "data": {
      "text/plain": [
       "Text(0.5, 1.0, 'Гистограмма распределения размера гранул на тестовой выборке')"
      ]
     },
     "execution_count": 40,
     "metadata": {},
     "output_type": "execute_result"
    },
    {
     "data": {
      "image/png": "[encoded data removed]",
      "text/plain": [
       "<Figure size 864x288 with 2 Axes>"
      ]
     },
     "metadata": {
      "needs_background": "light"
     },
     "output_type": "display_data"
    }
   ],
   "source": [
    "feature_0 = df[0]['primary_cleaner.input.feed_size']\n",
    "feature_1 = df[1]['primary_cleaner.input.feed_size']\n",
    "\n",
    "fig = plt.figure(figsize=(12,4))\n",
    "ax_1 = fig.add_subplot(1, 2, 1)\n",
    "ax_2 = fig.add_subplot(1, 2, 2)\n",
    "ax_1 = sns.histplot(x=feature_0, kde=True, ax=ax_1)\n",
    "ax_1.set_xlim([5, 9])\n",
    "ax_2 = sns.histplot(x=feature_1, kde=True, ax=ax_2)\n",
    "ax_2.set_xlim([5, 9])\n",
    "ax_1.set_title('Гистограмма распределения размера гранул на обучающей выборке', fontsize=9)\n",
    "ax_2.set_title('Гистограмма распределения размера гранул на тестовой выборке', fontsize=9)"
   ]
  },
  {
   "cell_type": "markdown",
   "id": "7924a243",
   "metadata": {},
   "source": [
    "Мы наблюдаем на графиках практически идентичные распределения размеров гранул близкие к нормальному распределению. "
   ]
  },
  {
   "cell_type": "markdown",
   "id": "cd78a075",
   "metadata": {},
   "source": [
    "Проверим гипотезу о равенстве средних двух независимых выборок (обучающей и тестовой), считая что их распределения похожи на нормальное.<br>\n",
    "\n",
    "Определим нулевую гипотезу H0 так: Средние размеры гранул на обучающей и тестовой выборке равны. <br>\n",
    "Определим альтернативную гипотезу H1 так: Средние размеры гранул на обучающей и тестовой выборке не равны."
   ]
  },
  {
   "cell_type": "code",
   "execution_count": 42,
   "id": "6e0981a5",
   "metadata": {},
   "outputs": [
    {
     "name": "stdout",
     "output_type": "stream",
     "text": [
      "Cредний размер на обучающей выборке: 7.322309906901298\n",
      "Cредний размер на тестовой выборке: 7.266339191270909\n",
      "p-значение:  1.4864182925957636e-08\n",
      "Отвергаем нулевую гипотезу: средние размеры скорее на равны при уровне значимости 0.05.\n"
     ]
    }
   ],
   "source": [
    "ttest(df[0]['primary_cleaner.input.feed_size'], df[1]['primary_cleaner.input.feed_size'])"
   ]
  },
  {
   "cell_type": "markdown",
   "id": "269a2f15",
   "metadata": {},
   "source": [
    "Исходя из результатов нашего ttesta для двух наших выборок мы получили негативный результат, который означает, что наша модель на тестовой выборке может получить плохую оценку.\n",
    "Может получить плохую оценку - это не значит, что получит, т.к. данный признак будет участвовать в регрессионной модели с определенным весом и весьма вероятно, что вес этого признака не будет доминировать при расчете прогноза."
   ]
  },
  {
   "cell_type": "markdown",
   "id": "980a1921",
   "metadata": {},
   "source": [
    "**Резюме:**<br>\n",
    "Статистический тест показал статистически значимое отличие размеров для этапов флотации и первичной очистки. Данный факт может действительно плохо повлиять на обучение нашей модели. Вероятно, что придется отказаться использования данного признака в нашей модели ML."
   ]
  },
  {
   "cell_type": "markdown",
   "id": "c9c89306",
   "metadata": {},
   "source": [
    "## 2.3. Анализ суммарной концентрации всех веществ на разных стадиях: в сырье, в черновом и финальном концентратах."
   ]
  },
  {
   "cell_type": "markdown",
   "id": "67dd9114",
   "metadata": {},
   "source": [
    "Посчитаем суммарную концентрацию металлов на этапах флотации, первичной очистки, вторичной очистки и финал.\n",
    "\n",
    "Вещество sol не относится к металлам.\n",
    "\n",
    "Сделаем два анализа суммарной концентрации - металлов и всех химических вещществ (металлы + sol).\n",
    "\n",
    "**Анализ динамики изменения концентрации металлов по этапам.**"
   ]
  },
  {
   "cell_type": "code",
   "execution_count": 43,
   "id": "cfff1349",
   "metadata": {},
   "outputs": [],
   "source": [
    "rougher_input =   df[0]['rougher.input.feed_au'] + \\\n",
    "                  df[0]['rougher.input.feed_ag'] + \\\n",
    "                  df[0]['rougher.input.feed_pb'] \n",
    "rougher_output =  df[0]['rougher.output.concentrate_au'] + \\\n",
    "                  df[0]['rougher.output.concentrate_ag'] + \\\n",
    "                  df[0]['rougher.output.concentrate_pb']\n",
    "primary_cleaner = df[0]['primary_cleaner.output.concentrate_au'] + \\\n",
    "                  df[0]['primary_cleaner.output.concentrate_ag'] + \\\n",
    "                  df[0]['primary_cleaner.output.concentrate_pb']\n",
    "final =           df[0]['final.output.concentrate_au'] + \\\n",
    "                  df[0]['final.output.concentrate_ag'] + \\\n",
    "                  df[0]['final.output.concentrate_pb']\n",
    "\n",
    "metal_concentrate = pd.concat([rougher_input, rougher_output, primary_cleaner, final], axis=1)\n",
    "metal_concentrate.columns = ['rougher_input', 'rougher_output', 'primary_cleaner', 'final']"
   ]
  },
  {
   "cell_type": "markdown",
   "id": "ee97da42",
   "metadata": {},
   "source": [
    "Посмотрим изменения в динамике по этапам средних значений"
   ]
  },
  {
   "cell_type": "code",
   "execution_count": 44,
   "id": "666553cb",
   "metadata": {},
   "outputs": [
    {
     "data": {
      "text/plain": [
       "Text(0.5, 1.0, 'Динамика среднего значения концентрации металлов')"
      ]
     },
     "execution_count": 44,
     "metadata": {},
     "output_type": "execute_result"
    },
    {
     "data": {
      "image/png": "[encoded data removed]",
      "text/plain": [
       "<Figure size 432x288 with 1 Axes>"
      ]
     },
     "metadata": {
      "needs_background": "light"
     },
     "output_type": "display_data"
    }
   ],
   "source": [
    "rougher_input = metal_concentrate.rougher_input.mean()\n",
    "rougher_output = metal_concentrate.rougher_output.mean()\n",
    "primary_cleaner = metal_concentrate.primary_cleaner.mean()\n",
    "final = metal_concentrate.final.mean()\n",
    "\n",
    "sns.barplot(y=metal_concentrate.columns,\n",
    "                   x=[rougher_input, rougher_output, primary_cleaner, final]).\\\n",
    "    set_title(f'Динамика среднего значения концентрации металлов', fontsize=10)"
   ]
  },
  {
   "cell_type": "code",
   "execution_count": 45,
   "id": "e03e9154",
   "metadata": {},
   "outputs": [
    {
     "data": {
      "text/plain": [
       "Text(0.5, 1.0, 'Динамика распределения концентрации металлов на этапах техпроцесса')"
      ]
     },
     "execution_count": 45,
     "metadata": {},
     "output_type": "execute_result"
    },
    {
     "data": {
      "image/png": "[encoded data removed]",
      "text/plain": [
       "<Figure size 864x360 with 1 Axes>"
      ]
     },
     "metadata": {
      "needs_background": "light"
     },
     "output_type": "display_data"
    }
   ],
   "source": [
    "fig = plt.figure(figsize=(12,5))\n",
    "ax_1 = sns.histplot(data = metal_concentrate)\n",
    "ax_1.set_title(f'Динамика распределения концентрации металлов на этапах техпроцесса', fontsize=12)"
   ]
  },
  {
   "cell_type": "markdown",
   "id": "bc975308",
   "metadata": {},
   "source": [
    "На графике наблюдаем 3хкратный рост уровня общей концентрации металлов от входа до финала. По всем этапам технологического процесса происходит увеличение концентрации металлов. Особенно большой скачок наблюдается после этапа флотации, где за один этап происходит двукратное увеличение концентрации металла. Первичная и вторичная очистки дают в совокупности рост концентрации в 1,5 раза.<br>\n",
    "Кроме этого, мы наблюдаем довольно существенное уменьшение дисперсии распределения концентрации металлов от этапа к этапу.\n",
    "\n",
    "**Анализ динамики изменения концентрации металлов и sol по этапам.**"
   ]
  },
  {
   "cell_type": "code",
   "execution_count": 46,
   "id": "d6732694",
   "metadata": {},
   "outputs": [],
   "source": [
    "rougher_input =   df[0]['rougher.input.feed_au'] + \\\n",
    "                  df[0]['rougher.input.feed_ag'] + \\\n",
    "                  df[0]['rougher.input.feed_pb'] + \\\n",
    "                  df[0]['rougher.input.feed_sol']\n",
    "\n",
    "rougher_output =  df[0]['rougher.output.concentrate_au'] + \\\n",
    "                  df[0]['rougher.output.concentrate_ag'] + \\\n",
    "                  df[0]['rougher.output.concentrate_pb'] + \\\n",
    "                  df[0]['rougher.output.concentrate_sol']\n",
    "\n",
    "primary_cleaner = df[0]['primary_cleaner.output.concentrate_au'] + \\\n",
    "                  df[0]['primary_cleaner.output.concentrate_ag'] + \\\n",
    "                  df[0]['primary_cleaner.output.concentrate_pb'] + \\\n",
    "                  df[0]['primary_cleaner.output.concentrate_sol']\n",
    "\n",
    "final =           df[0]['final.output.concentrate_au'] + \\\n",
    "                  df[0]['final.output.concentrate_ag'] + \\\n",
    "                  df[0]['final.output.concentrate_pb'] + \\\n",
    "                  df[0]['final.output.concentrate_sol']\n",
    "chemical_concentrate = pd.concat([rougher_input, rougher_output, primary_cleaner, final], axis=1)\n",
    "chemical_concentrate.columns = ['rougher_input', 'rougher_output', 'primary_cleaner', 'final']"
   ]
  },
  {
   "cell_type": "markdown",
   "id": "d993038d",
   "metadata": {},
   "source": [
    "Посмотрим изменения в динамике по этапам средних значений"
   ]
  },
  {
   "cell_type": "code",
   "execution_count": 47,
   "id": "c0609d53",
   "metadata": {},
   "outputs": [
    {
     "data": {
      "text/plain": [
       "Text(0.5, 1.0, 'Динамика среднего значения концентрации химических веществ')"
      ]
     },
     "execution_count": 47,
     "metadata": {},
     "output_type": "execute_result"
    },
    {
     "data": {
      "image/png": "[encoded data removed]",
      "text/plain": [
       "<Figure size 432x288 with 1 Axes>"
      ]
     },
     "metadata": {
      "needs_background": "light"
     },
     "output_type": "display_data"
    }
   ],
   "source": [
    "rougher_input = chemical_concentrate.rougher_input.mean()\n",
    "rougher_output = chemical_concentrate.rougher_output.mean()\n",
    "primary_cleaner = chemical_concentrate.primary_cleaner.mean()\n",
    "final = chemical_concentrate.final.mean()\n",
    "\n",
    "sns.barplot(y=['rougher_input', 'rougher_output', 'primary_cleaner', 'final'],\n",
    "                   x=[rougher_input, rougher_output, primary_cleaner, final]).\\\n",
    "    set_title(f'Динамика среднего значения концентрации химических веществ', fontsize=10)"
   ]
  },
  {
   "cell_type": "code",
   "execution_count": 48,
   "id": "d383e8e9",
   "metadata": {},
   "outputs": [
    {
     "data": {
      "text/plain": [
       "Text(0.5, 1.0, 'Динамика распределения концентрации металлов на этапах техпроцесса')"
      ]
     },
     "execution_count": 48,
     "metadata": {},
     "output_type": "execute_result"
    },
    {
     "data": {
      "image/png": "[encoded data removed]",
      "text/plain": [
       "<Figure size 864x360 with 1 Axes>"
      ]
     },
     "metadata": {
      "needs_background": "light"
     },
     "output_type": "display_data"
    }
   ],
   "source": [
    "fig = plt.figure(figsize=(12,5))\n",
    "ax_1 = sns.histplot(data = chemical_concentrate)\n",
    "ax_1.set_title(f'Динамика распределения концентрации металлов на этапах техпроцесса', fontsize=12)"
   ]
  },
  {
   "cell_type": "markdown",
   "id": "ff19476f",
   "metadata": {},
   "source": [
    "Если рассматривать в целом все четыре химических вещества - три металла (Au, Ag и Pb) и третье вещество Sol, то не увидим законномерности роста концентрации, т.к. после первичной очистки суммарная концентрация целевых химических веществ упала. В конечном итоге после вторичной очистки суммарная концентрация выросла относительно входных показателей (feed) и относительно выходных показателей этапа первичной очистки.<br>\n",
    "Также мы наблюдаем существенное уменьшение дисперсии, но в отличии от металлов только на финальном этапе."
   ]
  },
  {
   "cell_type": "markdown",
   "id": "be4f2f62",
   "metadata": {},
   "source": [
    "# Шаг 3. Построение модели."
   ]
  },
  {
   "cell_type": "markdown",
   "id": "f438a7ad",
   "metadata": {},
   "source": [
    "## Шаг 3.1. Функция для вычисления итоговой sMAPE."
   ]
  },
  {
   "cell_type": "markdown",
   "id": "80b5f9b7",
   "metadata": {},
   "source": [
    "Напишем функцию, которая будет вычислять метрику sMAPE для сравнения истинного значения с предсказанным значением, а также функцию, которая будет вычислять итоговую или финальную метрику sMAPE как взвешанные по заданным веса значения метрики sMAPE для предсказанных величин эффективности  производства чернового концентрата и производство финального концентрата.\n",
    "\n",
    "**С данной метрикой есть проблема!** В знаменателе стоит сумма двух компонент истинных и предсказанных значений. Если они равны нулю, то будет ошибка деления на ноль, если они не равны нулю, но находятся близко к нему (0,0001 или 0,00005), то получим очень большое число. Т.е. эта метрика подходит только для не близких к нулю значений компонент.\n",
    "\n",
    "Этот факт мы не будем отражать в нашей функции smape(), а учтем его на обучающей выборке - удалим все \"плохие\" с этой точки зрения объекты."
   ]
  },
  {
   "cell_type": "code",
   "execution_count": 77,
   "id": "7f4bf0f6",
   "metadata": {},
   "outputs": [],
   "source": [
    "def final_smape_2(target, predict):\n",
    "    # target и predict - это матрицы 2 х Len(data_train), где первый солбец - это относится к rougher, а второй к final\n",
    "    # target - это dataframe pandas\n",
    "    # переведем все массивы в numpy\n",
    "    \n",
    "    target_rougher = target.to_numpy().T[0]\n",
    "    predict_rougher = predict.T[0]\n",
    "    smape = np.abs(target_rougher - predict_rougher) / (np.abs(target_rougher) + np.abs(predict_rougher)) / 2\n",
    "    smape_rougher = 100 * np.mean(smape)\n",
    "\n",
    "    target_final = target.to_numpy().T[1]\n",
    "    predict_final = predict.T[1]\n",
    "    smape = np.abs(target_final - predict_final) / (np.abs(target_final) + np.abs(predict_final)) / 2\n",
    "    smape_final = 100  *np.mean(smape)\n",
    " \n",
    "    return 0.25 * smape_rougher +  0.75 * smape_final\n",
    "\n",
    "# Опредедим на основе этой функции собственную метрику\n",
    "final_smape_score = make_scorer(final_smape_2, greater_is_better=False)"
   ]
  },
  {
   "cell_type": "markdown",
   "id": "52ab972e",
   "metadata": {},
   "source": [
    "## Шаг 3.2. Обучение нескольких моделей и оценка их качества через кросс-валидацию. Определение лучшей модели и проверка её на тестовой выборке. "
   ]
  },
  {
   "cell_type": "markdown",
   "id": "aad56098",
   "metadata": {},
   "source": [
    "Для обучения будем использовать три типа моделей - линейная модель (LinearRegression), случайный лес (RandomForestRegressor) и градиентный бустинг версии sklearn (GradientBoostingRegressor).\n",
    "\n",
    "В рамках обучения будем использовать методику кросс-валидации. Кросс-валидацию будем делать вручную без использования подборщиков, чтобы показать базовые навыки владения данным инсттрументом."
   ]
  },
  {
   "cell_type": "markdown",
   "id": "79404073",
   "metadata": {},
   "source": [
    "Наш датасет содержит большое количество признаков и нам нужно будет отобрать из них те, которые будут независимы между собой и реально влиять на конечные целевые признаки.\n",
    "\n",
    "По условиям задания нам нужно будет спрогнозировать сразу две величины:<br>\n",
    "эффективность обогащения чернового концентрата rougher.output.recovery;<br>\n",
    "эффективность обогащения финального концентрата final.output.recovery.<br>\n",
    "Т.е. у нас будут две модели ML. <br>\n",
    "Т.к. по технологическому процессу эффективность обогощения финального концентрата зависит от эффективности обогащения чернового концентрата, то нам нужно будет еще составить композицию этих двух зависимых величин.\n",
    "\n",
    "Таким образом, вырисовывается две задачи:\n",
    "1. Выбрать признаки для двух моделей.\n",
    "2. Выбрать композицию моделей.\n",
    "\n",
    "Плюс к этому хотелось добавить, что т.к. это \"реальное производство\", то модель желательно должна быть интерпретируемой. Я заранее склоняюсь к тому, чтобы выбрать линейную регрессию, но мы все равно обучим несколько моделей разных типов. "
   ]
  },
  {
   "cell_type": "markdown",
   "id": "398ed4f5",
   "metadata": {},
   "source": [
    "**Выберем признаки для наших моделей**"
   ]
  },
  {
   "cell_type": "markdown",
   "id": "ba51d96c",
   "metadata": {},
   "source": [
    "Я буду руководствоваться такой логикой - есть характеристики золоторудного сырья и есть параметры техпроцесса, которые настраиваются для процесса флотации, первичной и вторичной очистки и результаты очистики (концентрации продукта и отвалов) зависят от этих параметров. (Нигде это не описано, это чисто мое предположение). \n",
    "\n",
    "И еще один момент процесс флотации идет на установке Float banks 10 и на основании этого признаки установки Float banks 11 будут проигнорированы. (Нигде это не описано, это тоже чисто мое предположение).\n",
    "\n",
    "Наш выбор признаков будет означать зависимость целевого признака от параметров руды, загружаемых химикатов, и параметров установок для флотации,первичной и вторичной очистки.\n",
    "\n",
    "В рамках анализа данных выяснилось, что признак size плохой для построения нашей модели и поэтому мы его удалим из нашего списка. \n",
    "\n",
    "Тестовая выборка будет являтся датасетом из которой мы будем отбирать нужные нам признаки для ML. Я предполагаю она нам для этого дана ззаранее, чтобы ориентироваться на нее при выборе признаков.\n",
    "\n",
    "Посмотрим все признаки тестовой выборки, а для выбора признаков немного логически поразмышляем по технологическому процессу."
   ]
  },
  {
   "cell_type": "markdown",
   "id": "609b75e7",
   "metadata": {},
   "source": [
    "**Признаки этапа флотации:**<br>\n",
    "rougher.input.feed_pb,<br>\n",
    "rougher.input.feed_rate,<br>\n",
    "rougher.input.feed_size,<br>\n",
    "rougher.input.feed_sol,<br>\n",
    "rougher.input.feed_au,<br>\n",
    "rougher.input.floatbank10_sulfate,<br>\n",
    "rougher.input.floatbank10_xanthate,<br>\n",
    "rougher.input.floatbank11_sulfate,<br>\n",
    "rougher.input.floatbank11_xanthate,<br>\n",
    "rougher.state.floatbank10_a_air,<br>\n",
    "rougher.state.floatbank10_a_level,<br>\n",
    "rougher.state.floatbank10_b_air,<br>\n",
    "rougher.state.floatbank10_b_level,<br>\n",
    "rougher.state.floatbank10_c_air,<br>\n",
    "rougher.state.floatbank10_c_level,<br>\n",
    "rougher.state.floatbank10_d_air,<br>\n",
    "rougher.state.floatbank10_d_level,<br>\n",
    "rougher.state.floatbank10_e_air,<br>\n",
    "rougher.state.floatbank10_e_level,<br>\n",
    "rougher.state.floatbank10_f_air<br>"
   ]
  },
  {
   "cell_type": "markdown",
   "id": "8aecf255",
   "metadata": {},
   "source": [
    "Из данного набора признаков мы видим загрузку сырья (feed), химикатов (sulfate и xanthate) в установку floatbank10, этих же химикатов в установку floatbank11 и параметры настройки работы установки floatbank10. Установка floatbank11 не участвует в работе производства чернового концентрата.<br>\n",
    "Таким образом, из данного набора признаков мы берем все признаки, кроме rougher.input.feed_size, ougher.input.floatbank11_sulfate и rougher.input.floatbank11_xanthate."
   ]
  },
  {
   "cell_type": "markdown",
   "id": "d7f3cb64",
   "metadata": {},
   "source": [
    "**Признаки этапа первичной очистки:**<br>\n",
    "\n",
    "primary_cleaner.input.sulfate,<br>\n",
    "primary_cleaner.input.depressant,<br>\n",
    "primary_cleaner.input.feed_size,<br>\n",
    "primary_cleaner.input.xanthate,<br>\n",
    "\n",
    "primary_cleaner.state.floatbank8_a_air,<br>\n",
    "primary_cleaner.state.floatbank8_a_level,<br>\n",
    "primary_cleaner.state.floatbank8_b_air,<br>\n",
    "primary_cleaner.state.floatbank8_b_level,<br>\n",
    "primary_cleaner.state.floatbank8_c_air,<br>\n",
    "primary_cleaner.state.floatbank8_c_level,<br>\n",
    "primary_cleaner.state.floatbank8_d_air,<br>\n",
    "primary_cleaner.state.floatbank8_d_level'\n",
    "\n",
    "primary_cleaner.output.concentrate_ag,<br>\n",
    "primary_cleaner.output.concentrate_pb,<br>\n",
    "primary_cleaner.output.concentrate_sol,<br>\n",
    "primary_cleaner.output.concentrate_au,<br>\n",
    "\n",
    "primary_cleaner.output.tail_ag,<br>\n",
    "primary_cleaner.output.tail_pb,<br>\n",
    "primary_cleaner.output.tail_sol,<br>\n",
    "primary_cleaner.output.tail_au<br>"
   ]
  },
  {
   "cell_type": "markdown",
   "id": "5bae8e20",
   "metadata": {},
   "source": [
    "На вход данного этапа подается продукт с флотационной установки (Float banks 10) с характеристиками concentrate, которые являются аргументами функции расчета эффективности производства чернового концентрата - целевой функции нашей первой модели.\n",
    "Из данного набора признаков блок признаков concentrate и tail являются зависимыми от блоков признаков input и state. \n",
    "Таким образом из данного этапа мы выбираем признаки блока input:<br>\n",
    "primary_cleaner.input.sulfate, <br>\n",
    "primary_cleaner.input.depressant,<br>\n",
    "primary_cleaner.input.xanthate<br>\n",
    "и признаки блока state:<br>\n",
    "primary_cleaner.state.floatbank8_a_air,<br>\n",
    "primary_cleaner.state.floatbank8_a_level,<br>\n",
    "primary_cleaner.state.floatbank8_b_air,<br>\n",
    "primary_cleaner.state.floatbank8_b_level,<br>\n",
    "primary_cleaner.state.floatbank8_c_air,<br>\n",
    "primary_cleaner.state.floatbank8_c_level,<br>\n",
    "primary_cleaner.state.floatbank8_d_air,<br>\n",
    "primary_cleaner.state.floatbank8_d_level<br>"
   ]
  },
  {
   "cell_type": "markdown",
   "id": "a5c129da",
   "metadata": {},
   "source": [
    "**Признаки этапа вторичной очистки:**<br>\n",
    "\n",
    "secondary_cleaner.state.floatbank2_a_air,<br>\n",
    "secondary_cleaner.state.floatbank2_a_level,<br>\n",
    "secondary_cleaner.state.floatbank2_b_air,<br>\n",
    "secondary_cleaner.state.floatbank2_b_level,<br>\n",
    "secondary_cleaner.state.floatbank3_a_air,<br>\n",
    "secondary_cleaner.state.floatbank3_a_level,<br>\n",
    "secondary_cleaner.state.floatbank3_b_air,<br>\n",
    "secondary_cleaner.state.floatbank3_b_level,<br>\n",
    "secondary_cleaner.state.floatbank4_a_air,<br>\n",
    "secondary_cleaner.state.floatbank4_a_level,<br>\n",
    "secondary_cleaner.state.floatbank4_b_air,<br>\n",
    "secondary_cleaner.state.floatbank4_b_level,<br>\n",
    "secondary_cleaner.state.floatbank5_a_air,<br>\n",
    "secondary_cleaner.state.floatbank5_a_level,<br>\n",
    "secondary_cleaner.state.floatbank5_b_air,<br>\n",
    "secondary_cleaner.state.floatbank5_b_level,<br>\n",
    "secondary_cleaner.state.floatbank6_a_air,<br>\n",
    "secondary_cleaner.state.floatbank6_a_level<br>\n",
    "\n",
    "final.output.concentrate_au,<br>\n",
    "final.output.concentrate_ag,<br>\n",
    "final.output.concentrate_pb,<br>\n",
    "final.output.concentrate_sol<br>\n",
    "\n",
    "secondary_cleaner.output.tail_ag,<br>\n",
    "secondary_cleaner.output.tail_pb,<br>\n",
    "secondary_cleaner.output.tail_sol,<br>\n",
    "secondary_cleaner.output.tail_au<br>  "
   ]
  },
  {
   "cell_type": "markdown",
   "id": "b83c3966",
   "metadata": {},
   "source": [
    "На вход этапа вторичной очистки подается продукт с этапа первичной очистки с характеристиками concentrate и без каких либо химических реагентов попадает на установку Float banks 2, далее он переходит на устновку Float banks 3, далее на установку Float banks 4, далее на установку Float banks 5 и далее на установку Float banks 6, из которой выходит финальный продукт с характеристиками concentrate, а образовавшийся отвал обладает характеристиками tail. Характеристики итогового продукта и отвала являются аргументами функции расчета эффективности производства финального продукта.\n",
    "Таким образом, из данного набора признаков мы выберем все признаки блока state."
   ]
  },
  {
   "cell_type": "markdown",
   "id": "81c8badc",
   "metadata": {},
   "source": [
    "Исходя из проведенного выше описания технологического процесса обогащения золоторудного сырья можно сделать следующий вывод, что эффективность производства финального продукта зависит от следующих признаков:<br>\n",
    "А. Этап флотация.<br>\n",
    "rougher.input.feed_pb,<br>\n",
    "rougher.input.feed_rate,<br>\n",
    "rougher.input.feed_sol,<br>\n",
    "rougher.input.feed_au,<br>\n",
    "rougher.input.floatbank10_sulfate,<br>\n",
    "rougher.input.floatbank10_xanthate,<br>\n",
    "rougher.state.floatbank10_a_air,<br>\n",
    "rougher.state.floatbank10_a_level,<br>\n",
    "rougher.state.floatbank10_b_air,<br>\n",
    "rougher.state.floatbank10_b_level,<br>\n",
    "rougher.state.floatbank10_c_air,<br>\n",
    "rougher.state.floatbank10_c_level,<br>\n",
    "rougher.state.floatbank10_d_air,<br>\n",
    "rougher.state.floatbank10_d_level,<br>\n",
    "rougher.state.floatbank10_e_air,<br>\n",
    "rougher.state.floatbank10_e_level,<br>\n",
    "rougher.state.floatbank10_f_air<br>\n",
    "Б. Этап первичной очистки.<br>\n",
    "    primary_cleaner.input.sulfate,<br>\n",
    "    primary_cleaner.input.depressant,<br>\n",
    "    primary_cleaner.input.xanthate,<br>\n",
    "    primary_cleaner.state.floatbank8_a_air,<br>\n",
    "    primary_cleaner.state.floatbank8_a_level,<br>\n",
    "    primary_cleaner.state.floatbank8_b_air,<br>\n",
    "    primary_cleaner.state.floatbank8_b_level,<br>\n",
    "    primary_cleaner.state.floatbank8_c_air,<br>\n",
    "    primary_cleaner.state.floatbank8_c_level,<br>\n",
    "    primary_cleaner.state.floatbank8_d_air,<br>\n",
    "    primary_cleaner.state.floatbank8_d_level<br>\n",
    "В. Этап вторичной очистки.<br>\n",
    "    secondary_cleaner.state.floatbank2_a_air,<br>\n",
    "    secondary_cleaner.state.floatbank2_a_level,<br>\n",
    "    secondary_cleaner.state.floatbank2_b_air,<br>\n",
    "    secondary_cleaner.state.floatbank2_b_level,<br>\n",
    "    secondary_cleaner.state.floatbank3_a_air,<br>\n",
    "    secondary_cleaner.state.floatbank3_a_level,<br>\n",
    "    secondary_cleaner.state.floatbank3_b_air,<br>\n",
    "    secondary_cleaner.state.floatbank3_b_level,<br>\n",
    "    secondary_cleaner.state.floatbank4_a_air,<br>\n",
    "    secondary_cleaner.state.floatbank4_a_level,<br>\n",
    "    secondary_cleaner.state.floatbank4_b_air,<br>\n",
    "    secondary_cleaner.state.floatbank4_b_level,<br>\n",
    "    secondary_cleaner.state.floatbank5_a_air,<br>\n",
    "    secondary_cleaner.state.floatbank5_a_level,<br>\n",
    "    secondary_cleaner.state.floatbank5_b_air,<br>\n",
    "    secondary_cleaner.state.floatbank5_b_level,<br>\n",
    "    secondary_cleaner.state.floatbank6_a_air,<br>\n",
    "    secondary_cleaner.state.floatbank6_a_level"
   ]
  },
  {
   "cell_type": "markdown",
   "id": "9fdd61d2",
   "metadata": {},
   "source": [
    "Посмотрим корреляцию признаков всех трех этапов без учета промежуточных итогов и расчетных характеристик, т.е. так как-будто это был бы непрерывный процесс."
   ]
  },
  {
   "cell_type": "code",
   "execution_count": 78,
   "id": "e7d4453b",
   "metadata": {},
   "outputs": [],
   "source": [
    "# это список, выбранных мной признаков для обучения.\n",
    "list_features = [\n",
    "'rougher.input.feed_pb', 'rougher.input.feed_rate', 'rougher.input.feed_sol', 'rougher.input.feed_au', 'rougher.input.floatbank10_sulfate',\n",
    "'rougher.input.floatbank10_xanthate', 'rougher.state.floatbank10_a_air', 'rougher.state.floatbank10_a_level', 'rougher.state.floatbank10_b_air',\n",
    "'rougher.state.floatbank10_b_level', 'rougher.state.floatbank10_c_air', 'rougher.state.floatbank10_c_level', 'rougher.state.floatbank10_d_air',\n",
    "'rougher.state.floatbank10_d_level', 'rougher.state.floatbank10_e_air', 'rougher.state.floatbank10_e_level', 'rougher.state.floatbank10_f_air',    \n",
    "'primary_cleaner.input.sulfate', 'primary_cleaner.input.depressant', 'primary_cleaner.input.xanthate', 'primary_cleaner.state.floatbank8_a_air',\n",
    "'primary_cleaner.state.floatbank8_a_level', 'primary_cleaner.state.floatbank8_b_air', 'primary_cleaner.state.floatbank8_b_level',\n",
    "'primary_cleaner.state.floatbank8_c_air', 'primary_cleaner.state.floatbank8_c_level', 'primary_cleaner.state.floatbank8_d_air', 'primary_cleaner.state.floatbank8_d_level',\n",
    "'secondary_cleaner.state.floatbank2_a_air', 'secondary_cleaner.state.floatbank2_a_level', 'secondary_cleaner.state.floatbank2_b_air',\n",
    "'secondary_cleaner.state.floatbank2_b_level', 'secondary_cleaner.state.floatbank3_a_air', 'secondary_cleaner.state.floatbank3_a_level',\n",
    "'secondary_cleaner.state.floatbank3_b_air', 'secondary_cleaner.state.floatbank3_b_level', 'secondary_cleaner.state.floatbank4_a_air',\n",
    "'secondary_cleaner.state.floatbank4_a_level', 'secondary_cleaner.state.floatbank4_b_air', 'secondary_cleaner.state.floatbank4_b_level',\n",
    "'secondary_cleaner.state.floatbank5_a_air', 'secondary_cleaner.state.floatbank5_a_level', 'secondary_cleaner.state.floatbank5_b_air',\n",
    "'secondary_cleaner.state.floatbank5_b_level', 'secondary_cleaner.state.floatbank6_a_air', 'secondary_cleaner.state.floatbank6_a_level'\n",
    "]"
   ]
  },
  {
   "cell_type": "markdown",
   "id": "6e4e9e96",
   "metadata": {},
   "source": [
    "Признаков очень много и посмотреть на графиках корреляцию не реально. Сделаем таблицу попарных корреляция из них выберем пары с сильной корреляцией - больше или равно 0,7."
   ]
  },
  {
   "cell_type": "code",
   "execution_count": 79,
   "id": "2d6928a1",
   "metadata": {},
   "outputs": [],
   "source": [
    "# напишем функцию, которая выдает информацию о сильно коррелирующих признаках\n",
    "def hard_corr(data):\n",
    "    table_corr = data.corr()\n",
    "    list_corr = []\n",
    "    for col in table_corr.columns:\n",
    "        for idx in table_corr.index:\n",
    "            if 0.7 <= abs(table_corr.loc[idx, col]) < 1.0:\n",
    "                list_corr.append((idx, column, round(table_corr.loc[idx, col], 4))) \n",
    "    # Удалим повторы\n",
    "    list_hard_corr = sorted(list_corr, key=lambda x: x[2])\n",
    "    return [list_hard_corr[i] for i in range(0, len(list_hard_corr), 2)]"
   ]
  },
  {
   "cell_type": "code",
   "execution_count": 80,
   "id": "e34e4306",
   "metadata": {},
   "outputs": [
    {
     "name": "stdout",
     "output_type": "stream",
     "text": [
      "Количество сильно коррелирущих признаков = 39\n",
      "Вот они:\n",
      "('primary_cleaner.state.floatbank8_d_level', 'secondary_cleaner.state.floatbank6_a_level', 0.7029)\n",
      "('secondary_cleaner.state.floatbank4_b_level', 'secondary_cleaner.state.floatbank6_a_level', 0.7034)\n",
      "('secondary_cleaner.state.floatbank5_a_air', 'secondary_cleaner.state.floatbank6_a_level', 0.7071)\n",
      "('rougher.state.floatbank10_e_air', 'secondary_cleaner.state.floatbank6_a_level', 0.7092)\n",
      "('secondary_cleaner.state.floatbank4_a_level', 'secondary_cleaner.state.floatbank6_a_level', 0.7212)\n",
      "('secondary_cleaner.state.floatbank5_b_air', 'secondary_cleaner.state.floatbank6_a_level', 0.723)\n",
      "('secondary_cleaner.state.floatbank5_b_level', 'secondary_cleaner.state.floatbank6_a_level', 0.7473)\n",
      "('secondary_cleaner.state.floatbank5_b_air', 'secondary_cleaner.state.floatbank6_a_level', 0.7511)\n",
      "('rougher.state.floatbank10_f_air', 'secondary_cleaner.state.floatbank6_a_level', 0.7575)\n",
      "('rougher.state.floatbank10_e_air', 'secondary_cleaner.state.floatbank6_a_level', 0.7643)\n",
      "('secondary_cleaner.state.floatbank5_a_air', 'secondary_cleaner.state.floatbank6_a_level', 0.7726)\n",
      "('secondary_cleaner.state.floatbank4_b_air', 'secondary_cleaner.state.floatbank6_a_level', 0.7768)\n",
      "('secondary_cleaner.state.floatbank5_a_level', 'secondary_cleaner.state.floatbank6_a_level', 0.79)\n",
      "('rougher.state.floatbank10_e_air', 'secondary_cleaner.state.floatbank6_a_level', 0.8013)\n",
      "('secondary_cleaner.state.floatbank5_a_air', 'secondary_cleaner.state.floatbank6_a_level', 0.8019)\n",
      "('rougher.state.floatbank10_f_air', 'secondary_cleaner.state.floatbank6_a_level', 0.8238)\n",
      "('secondary_cleaner.state.floatbank4_b_air', 'secondary_cleaner.state.floatbank6_a_level', 0.8419)\n",
      "('rougher.state.floatbank10_f_air', 'secondary_cleaner.state.floatbank6_a_level', 0.8598)\n",
      "('secondary_cleaner.state.floatbank5_b_air', 'secondary_cleaner.state.floatbank6_a_level', 0.878)\n",
      "('secondary_cleaner.state.floatbank2_b_air', 'secondary_cleaner.state.floatbank6_a_level', 0.88)\n",
      "('secondary_cleaner.state.floatbank5_b_level', 'secondary_cleaner.state.floatbank6_a_level', 0.8844)\n",
      "('rougher.state.floatbank10_f_air', 'secondary_cleaner.state.floatbank6_a_level', 0.8846)\n",
      "('secondary_cleaner.state.floatbank5_b_air', 'secondary_cleaner.state.floatbank6_a_level', 0.8925)\n",
      "('secondary_cleaner.state.floatbank2_b_level', 'secondary_cleaner.state.floatbank6_a_level', 0.9041)\n",
      "('rougher.state.floatbank10_d_air', 'secondary_cleaner.state.floatbank6_a_level', 0.9134)\n",
      "('rougher.state.floatbank10_d_air', 'secondary_cleaner.state.floatbank6_a_level', 0.9281)\n",
      "('primary_cleaner.state.floatbank8_c_air', 'secondary_cleaner.state.floatbank6_a_level', 0.9345)\n",
      "('rougher.state.floatbank10_c_air', 'secondary_cleaner.state.floatbank6_a_level', 0.9372)\n",
      "('primary_cleaner.state.floatbank8_c_level', 'secondary_cleaner.state.floatbank6_a_level', 0.9384)\n",
      "('primary_cleaner.state.floatbank8_c_air', 'secondary_cleaner.state.floatbank6_a_level', 0.9396)\n",
      "('primary_cleaner.state.floatbank8_b_air', 'secondary_cleaner.state.floatbank6_a_level', 0.9453)\n",
      "('primary_cleaner.state.floatbank8_c_level', 'secondary_cleaner.state.floatbank6_a_level', 0.9584)\n",
      "('primary_cleaner.state.floatbank8_b_level', 'secondary_cleaner.state.floatbank6_a_level', 0.9589)\n",
      "('rougher.state.floatbank10_e_level', 'secondary_cleaner.state.floatbank6_a_level', 0.9739)\n",
      "('rougher.state.floatbank10_e_level', 'secondary_cleaner.state.floatbank6_a_level', 0.977)\n",
      "('rougher.state.floatbank10_d_level', 'secondary_cleaner.state.floatbank6_a_level', 0.9781)\n",
      "('rougher.state.floatbank10_e_level', 'secondary_cleaner.state.floatbank6_a_level', 0.9846)\n",
      "('rougher.state.floatbank10_d_level', 'secondary_cleaner.state.floatbank6_a_level', 0.9877)\n",
      "('rougher.state.floatbank10_c_level', 'secondary_cleaner.state.floatbank6_a_level', 0.9881)\n"
     ]
    }
   ],
   "source": [
    "print('Количество сильно коррелирущих признаков =', len(hard_corr(df[0][list_features])))\n",
    "print('Вот они:')\n",
    "for x in hard_corr(df[0][list_features]):\n",
    "    print(x)"
   ]
  },
  {
   "cell_type": "markdown",
   "id": "b91db2e6",
   "metadata": {},
   "source": [
    "Уберем их из списка признаков для построения модели ML"
   ]
  },
  {
   "cell_type": "code",
   "execution_count": 81,
   "id": "64db637a",
   "metadata": {},
   "outputs": [],
   "source": [
    "# Очищенный от сильно коррелирующих признаков список и добавим в него целевые признаки\n",
    "list_features =    ['rougher.output.recovery',\n",
    "                    'rougher.input.feed_pb',\n",
    "                    'rougher.input.feed_rate',\n",
    "                    'rougher.input.feed_sol',\n",
    "                    'rougher.input.feed_au',\n",
    "                    'rougher.input.floatbank10_sulfate',\n",
    "                    'rougher.input.floatbank10_xanthate',\n",
    "                    'rougher.state.floatbank10_a_air', \n",
    "                    'rougher.state.floatbank10_a_level',\n",
    "                    'rougher.state.floatbank10_b_air', \n",
    "                    'rougher.state.floatbank10_b_level',\n",
    "                    'primary_cleaner.input.sulfate',\n",
    "                    'primary_cleaner.input.depressant',\n",
    "                    'primary_cleaner.input.xanthate',\n",
    "                    'primary_cleaner.state.floatbank8_a_air',\n",
    "                    'primary_cleaner.state.floatbank8_a_level',\n",
    "                    'primary_cleaner.state.floatbank8_d_air',\n",
    "                    'primary_cleaner.state.floatbank8_d_level',\n",
    "                    'secondary_cleaner.state.floatbank2_a_air',\n",
    "                    'secondary_cleaner.state.floatbank2_a_level',\n",
    "                    'secondary_cleaner.state.floatbank3_a_air',\n",
    "                    'secondary_cleaner.state.floatbank3_a_level',\n",
    "                    'secondary_cleaner.state.floatbank3_b_air',\n",
    "                    'secondary_cleaner.state.floatbank3_b_level',\n",
    "                    'secondary_cleaner.state.floatbank4_a_air',\n",
    "                    'secondary_cleaner.state.floatbank6_a_air',\n",
    "                    'secondary_cleaner.state.floatbank6_a_level',\n",
    "                    'final.output.recovery']"
   ]
  },
  {
   "cell_type": "code",
   "execution_count": 82,
   "id": "8138513b",
   "metadata": {},
   "outputs": [
    {
     "name": "stdout",
     "output_type": "stream",
     "text": [
      "Количество сильно коррелирущих признаков = 0\n"
     ]
    }
   ],
   "source": [
    "# проверка\n",
    "print('Количество сильно коррелирущих признаков =', len(hard_corr(df[0][list_features])))"
   ]
  },
  {
   "cell_type": "markdown",
   "id": "2c663a83",
   "metadata": {},
   "source": [
    "Таким образом, мы определили наборы признаков для построения моделей машинного обучения."
   ]
  },
  {
   "cell_type": "markdown",
   "id": "6eb00ed7",
   "metadata": {},
   "source": [
    "**Определим композицию моделей прогнозирования rougher.output.recovery и final.output.recovery**"
   ]
  },
  {
   "cell_type": "markdown",
   "id": "a8655e89",
   "metadata": {},
   "source": [
    "Схематично зависимость rougher.output.recovery от признаков можно изложить фактически одним способом:<br>\n",
    "rougher.output.recovery = F_rougher(set_features_rougher)<br>\n",
    "\n",
    "А final.output.recovery можно изложить уже двумя способами:<br>\n",
    "Первый способ:<br>\n",
    " final.output.recovery = F_final(set_all_features)<br>\n",
    "Второй способ:<br>\n",
    " final.output.recovery = G_final(rougher.output.recovery, set_prime_features, set_second_features), где переменная rougher.output.recovery в свою очередь уже зависит от набора признаков этапа флотации.<br>\n",
    " \n",
    "В первом способе зависимость final.output.recovery строится от всего набора признаков нашего технологического процесса, которые мы определим, а во втором способе мы строим зависимость от ранее расчитанного признака rougher.output.recovery и от набора признаков первичной и вторичной очистки. Т.е. во втором способе мы может сделать сложную зависимость и она будет выглядеть красивее для нашей метрики final_sMAPE, но если мы будем использовать второй способ то разброс ошибок может оказаться больше, т.к. мы будем строить предсказания от предсказанного.<br>\n",
    "\n",
    "Если мы выберем первый способ и будем строить две независимые модели предсказания rougher.output.recovery и final.output.recovery, то мы получим две разные и независимые друг от друга модели на одном фактически едином технологическом процессе. Все что их будет объединять это общие признаки и метрика final_sMAPE их композиции, а причинно-следственная связь будет отсутствовать.\n",
    "\n",
    "Таким образом, выберем первый способ."
   ]
  },
  {
   "cell_type": "markdown",
   "id": "002a7c64",
   "metadata": {},
   "source": [
    "**Резюме:**<br>\n",
    "Таким образом, мы определили набор признаков для обучения моделей и определились с композицей моделей."
   ]
  },
  {
   "cell_type": "markdown",
   "id": "94b4458a",
   "metadata": {},
   "source": [
    "**Перейдем к созданию кросс-валидирующих выборок для модели предсказания rougher.output.recovery**"
   ]
  },
  {
   "cell_type": "markdown",
   "id": "31c64eb0",
   "metadata": {},
   "source": [
    "Процесс моделирования будет следующим:<br>\n",
    "1. Создаем датасет для обучения.\n",
    "2. Из обучающей выборки удаляем все объекты с \"плохими\" значениями rougher.output.recovery и final.output.recovery для нашей метрики sMAPE.<br>\n",
    "3. На обучающей выборке делаем кросс-валидирующие выборки.<br>\n",
    "4. Обучаем модели прогнозирования rougher.output.recovery и final.output.recovery. Причем делаем один тип модели с набором гиперпараметров для двух моделей обучения.<br>\n",
    "5. Из набора моделей по метрике final_sMAPE выбираем лучшую и проверяем ее на тестовой выборке."
   ]
  },
  {
   "cell_type": "code",
   "execution_count": 83,
   "id": "46c0dc81",
   "metadata": {},
   "outputs": [],
   "source": [
    "data = pd.DataFrame(df[0][list_features])\n",
    "data = data.reset_index(drop=True)"
   ]
  },
  {
   "cell_type": "markdown",
   "id": "367b8ea9",
   "metadata": {},
   "source": [
    "Удалим все объекты с \"плохими\" значениями для метрики sMAPE эффективности производства концентрата. Критерием отнесения объекта к категории \"плохо\" будем считать = 1%."
   ]
  },
  {
   "cell_type": "code",
   "execution_count": 84,
   "id": "b3d8b90b",
   "metadata": {},
   "outputs": [
    {
     "name": "stdout",
     "output_type": "stream",
     "text": [
      "Из 14149 записей в обучающей выборке после удаления осталось 13792 записей или 97.5 %\n"
     ]
    }
   ],
   "source": [
    "data = data[data['rougher.output.recovery'] >= 1]\n",
    "data = data[data['final.output.recovery'] >= 1]\n",
    "print('Из', len(df[0]), 'записей в обучающей выборке после удаления осталось', len(data), 'записей или', round(100*len(data)/len(df[0]), 1), '%')"
   ]
  },
  {
   "cell_type": "markdown",
   "id": "a812f04f",
   "metadata": {},
   "source": [
    "Выделим целевые признаки и признаки для обучения."
   ]
  },
  {
   "cell_type": "code",
   "execution_count": 85,
   "id": "92b5151f",
   "metadata": {},
   "outputs": [],
   "source": [
    "data_train = data.drop(['rougher.output.recovery', 'final.output.recovery'], axis=1)\n",
    "data_target = data[['rougher.output.recovery', 'final.output.recovery']]"
   ]
  },
  {
   "cell_type": "markdown",
   "id": "7159887f",
   "metadata": {},
   "source": [
    "Сделаем кросс-валидирующие выборки, на них обучим модели посчитаем метрику final_sMAPE.\n",
    "\n",
    "Выборки, обучение и и расчет метрики будет делать функция, которая на вход будет принимать модель, исходный датасет и количество разбиений (cv).\n",
    "Можно было воспользовать оценкой метрики из sklearn "
   ]
  },
  {
   "cell_type": "code",
   "execution_count": 86,
   "id": "a7b862bf",
   "metadata": {},
   "outputs": [],
   "source": [
    "def cross_valid(model, features, target, cv):\n",
    "    \n",
    "    score = []\n",
    "    sample_size = int(len(features)/cv)\n",
    "    \n",
    "    for i in range(0, len(data), sample_size):\n",
    "        valid_indexes = list(features.index[i:i+sample_size])\n",
    "        train_indexes = set(features.index).difference(valid_indexes)\n",
    "        \n",
    "        features_train =  features.loc[train_indexes]\n",
    "        target_train = target.loc[train_indexes]\n",
    "        \n",
    "        features_valid = features.loc[valid_indexes] \n",
    "        target_valid = target.loc[valid_indexes]\n",
    "\n",
    "        model = model.fit(features_train, target_train)\n",
    "        score.append(final_smape_2(target_valid, model.predict(features_valid)))\n",
    "    return [model, round(mean(score), 4)]"
   ]
  },
  {
   "cell_type": "markdown",
   "id": "33f7d91f",
   "metadata": {},
   "source": [
    "**Обучим линейную регрессию**"
   ]
  },
  {
   "cell_type": "code",
   "execution_count": 87,
   "id": "3ffb62c5",
   "metadata": {},
   "outputs": [
    {
     "data": {
      "text/plain": [
       "[LinearRegression(), 1.8991]"
      ]
     },
     "execution_count": 87,
     "metadata": {},
     "output_type": "execute_result"
    }
   ],
   "source": [
    "models = []\n",
    "model=LinearRegression()\n",
    "models.append(cross_valid(model, data_train, data_target, 3))\n",
    "cross_valid(model, data_train, data_target, 3)"
   ]
  },
  {
   "cell_type": "markdown",
   "id": "ad6c51bc",
   "metadata": {},
   "source": [
    "Вариант с cross_val_score()"
   ]
  },
  {
   "cell_type": "code",
   "execution_count": 88,
   "id": "d555eed0",
   "metadata": {},
   "outputs": [
    {
     "data": {
      "text/plain": [
       "[LinearRegression(), 2.4831]"
      ]
     },
     "execution_count": 88,
     "metadata": {},
     "output_type": "execute_result"
    }
   ],
   "source": [
    "model=LinearRegression()\n",
    "#model.fit(data_train, data_target)\n",
    "[model, round(mean(abs(cross_val_score(model, data_train, data_target, cv=3, scoring=final_smape_score))), 4)]"
   ]
  },
  {
   "cell_type": "markdown",
   "id": "7a595f57",
   "metadata": {},
   "source": [
    "**Обучим методом случайного леса**"
   ]
  },
  {
   "cell_type": "code",
   "execution_count": 89,
   "id": "ff07b530",
   "metadata": {},
   "outputs": [
    {
     "name": "stderr",
     "output_type": "stream",
     "text": [
      "100%|████████████████████████████████████████████████████████████████████████████████████| 2/2 [00:55<00:00, 27.74s/it]\n"
     ]
    },
    {
     "data": {
      "text/plain": [
       "[[LinearRegression(), 1.8991],\n",
       " [RandomForestRegressor(max_depth=7, n_estimators=20, random_state=12345),\n",
       "  2.3198],\n",
       " [RandomForestRegressor(max_depth=7, n_estimators=10, random_state=12345),\n",
       "  2.3565],\n",
       " [RandomForestRegressor(max_depth=9, n_estimators=20, random_state=12345),\n",
       "  2.5002],\n",
       " [RandomForestRegressor(max_depth=9, n_estimators=10, random_state=12345),\n",
       "  2.6611]]"
      ]
     },
     "execution_count": 89,
     "metadata": {},
     "output_type": "execute_result"
    }
   ],
   "source": [
    "for est in tqdm([10, 20]):\n",
    "    for depth in [7, 9]:\n",
    "        model = RandomForestRegressor(n_estimators=est, max_depth=depth, random_state=12345)\n",
    "        models.append(cross_valid(model, data_train, data_target, 3))\n",
    "sorted(models, key=lambda x: x[1])"
   ]
  },
  {
   "cell_type": "markdown",
   "id": "34ada7fb",
   "metadata": {},
   "source": [
    "**Резюме:**<br>\n",
    "Лучшей моделью оказалась линейная регрессия. "
   ]
  },
  {
   "cell_type": "markdown",
   "id": "6073f044",
   "metadata": {},
   "source": [
    "Посмотрим как работает наша модель на тестовой базе.\n",
    "Предварительно к тестовой базе из исходного датасета добавим отсутствующие в ней целевые признаки. "
   ]
  },
  {
   "cell_type": "code",
   "execution_count": 90,
   "id": "a6cf3d23",
   "metadata": {},
   "outputs": [],
   "source": [
    "df[1]['rougher.output.recovery'] = df[2]['rougher.output.recovery'][df[1].index]\n",
    "df[1]['final.output.recovery'] = df[2]['final.output.recovery'][df[1].index]"
   ]
  },
  {
   "cell_type": "code",
   "execution_count": 91,
   "id": "9a02c968",
   "metadata": {},
   "outputs": [],
   "source": [
    "data_test = df[1][list_features]\n",
    "data_test_features = data_test.drop(['rougher.output.recovery', 'final.output.recovery'], axis=1)\n",
    "data_test_target = data_test[['rougher.output.recovery', 'final.output.recovery']]"
   ]
  },
  {
   "cell_type": "code",
   "execution_count": 92,
   "id": "726b4eaa",
   "metadata": {},
   "outputs": [
    {
     "name": "stdout",
     "output_type": "stream",
     "text": [
      "На тесте значение метрики final_sMAPE= 2.3075\n"
     ]
    }
   ],
   "source": [
    "best_model = models[0][0]\n",
    "print('На тесте значение метрики final_sMAPE=', round(final_smape_2(data_test_target, best_model.predict(data_test_features)), 4))"
   ]
  },
  {
   "cell_type": "markdown",
   "id": "d2f16c8f",
   "metadata": {},
   "source": [
    "Построим примитивную модель с помощью функции DummyRegressor().<br>\n",
    "У нас распределение целевых признаков почти похоже на нормальное распределение, поэтому без разницы какой стратегии придерживаться - медианое или среднее значение.<br>\n",
    "Возьмем медианное значение"
   ]
  },
  {
   "cell_type": "code",
   "execution_count": 93,
   "id": "b4db334b",
   "metadata": {},
   "outputs": [
    {
     "name": "stdout",
     "output_type": "stream",
     "text": [
      "Оценка прогнозов примитивной модели = 2.359606217489136\n"
     ]
    }
   ],
   "source": [
    "dummy_regressor = DummyRegressor(strategy=\"median\")\n",
    "dummy_regressor.fit(data_train, data_target)\n",
    "print('Оценка прогнозов примитивной модели =', final_smape_2(data_test_target, dummy_regressor.predict(data_test_features))) "
   ]
  },
  {
   "cell_type": "markdown",
   "id": "f3706255",
   "metadata": {},
   "source": [
    "# Выводы."
   ]
  },
  {
   "cell_type": "markdown",
   "id": "3ace67b6",
   "metadata": {},
   "source": [
    "В результате подбора модели машинного обучения для предсказывания эффективности обогащения золота из рудного сырья по характеристикам рудного сырья и параметрам технологического процесса обогащения была признана лучшей линейная модель по метрике final_sMAPE, котопая является линейно комбинацией двух предсказываемых величин - эффективность производства черного концентрата и эффективность производства финального концентрата. Обучение модели осуществлялось с использованием методики кросс-валидации, с количеством разбиений обучающего датасета равным трем.<br>\n",
    "Лучшая модель на обучении и кросс-валидации показала значение метрики final_sMAPE=1.8991, а на тестовой выборке final_sMAPE=2.3075.\n",
    "Следует отметить, что примитивная модель дала на тестовой выборке результат чуть хуже, чем наша модель по нашей метрике final_sMAPE."
   ]
  }
 ],
 "metadata": {
  "ExecuteTimeLog": [
   {
    "duration": 1305,
    "start_time": "2022-05-28T05:01:36.753Z"
   },
   {
    "duration": 553,
    "start_time": "2022-05-28T05:01:38.060Z"
   },
   {
    "duration": 11,
    "start_time": "2022-05-28T05:01:54.950Z"
   },
   {
    "duration": 25,
    "start_time": "2022-05-28T05:01:58.590Z"
   },
   {
    "duration": 13,
    "start_time": "2022-05-28T05:01:59.547Z"
   },
   {
    "duration": 16,
    "start_time": "2022-05-28T05:02:00.652Z"
   },
   {
    "duration": 4,
    "start_time": "2022-05-28T05:03:16.526Z"
   },
   {
    "duration": 27,
    "start_time": "2022-05-28T05:03:17.768Z"
   },
   {
    "duration": 16,
    "start_time": "2022-05-28T05:03:18.752Z"
   },
   {
    "duration": 2,
    "start_time": "2022-05-28T05:05:08.266Z"
   },
   {
    "duration": 720,
    "start_time": "2022-05-28T05:05:08.847Z"
   },
   {
    "duration": 24,
    "start_time": "2022-05-28T05:06:13.628Z"
   },
   {
    "duration": 673,
    "start_time": "2022-05-28T05:06:14.987Z"
   },
   {
    "duration": 11,
    "start_time": "2022-05-28T05:06:15.662Z"
   },
   {
    "duration": 200,
    "start_time": "2022-05-28T05:06:17.339Z"
   },
   {
    "duration": 4,
    "start_time": "2022-05-28T05:06:18.833Z"
   },
   {
    "duration": 254,
    "start_time": "2022-05-28T05:06:19.330Z"
   },
   {
    "duration": 197,
    "start_time": "2022-05-28T05:06:20.187Z"
   },
   {
    "duration": 28,
    "start_time": "2022-05-28T05:10:02.049Z"
   },
   {
    "duration": 124,
    "start_time": "2022-05-28T05:10:04.112Z"
   },
   {
    "duration": 489,
    "start_time": "2022-05-28T05:10:08.001Z"
   },
   {
    "duration": 614,
    "start_time": "2022-05-28T05:10:08.690Z"
   },
   {
    "duration": 24,
    "start_time": "2022-05-28T05:10:10.361Z"
   },
   {
    "duration": 130,
    "start_time": "2022-05-28T05:10:11.575Z"
   },
   {
    "duration": 907,
    "start_time": "2022-05-28T05:10:12.748Z"
   },
   {
    "duration": 27,
    "start_time": "2022-05-28T05:10:13.711Z"
   },
   {
    "duration": 130,
    "start_time": "2022-05-28T05:10:14.298Z"
   },
   {
    "duration": 769,
    "start_time": "2022-05-28T05:10:14.761Z"
   },
   {
    "duration": 940,
    "start_time": "2022-05-28T05:10:46.017Z"
   },
   {
    "duration": 184,
    "start_time": "2022-05-28T05:10:46.959Z"
   },
   {
    "duration": 1063,
    "start_time": "2022-05-28T05:10:47.873Z"
   },
   {
    "duration": 1640,
    "start_time": "2022-05-28T05:10:48.938Z"
   },
   {
    "duration": 4,
    "start_time": "2022-05-28T05:10:50.804Z"
   },
   {
    "duration": 6,
    "start_time": "2022-05-28T05:10:51.798Z"
   },
   {
    "duration": 611,
    "start_time": "2022-05-28T05:10:53.515Z"
   },
   {
    "duration": 178,
    "start_time": "2022-05-28T05:10:54.707Z"
   },
   {
    "duration": 742,
    "start_time": "2022-05-28T05:10:56.282Z"
   },
   {
    "duration": 3,
    "start_time": "2022-05-28T05:10:57.608Z"
   },
   {
    "duration": 4,
    "start_time": "2022-05-28T05:10:58.316Z"
   },
   {
    "duration": 9,
    "start_time": "2022-05-28T05:13:07.072Z"
   },
   {
    "duration": 124,
    "start_time": "2022-05-28T05:13:08.439Z"
   },
   {
    "duration": 504,
    "start_time": "2022-05-28T05:13:09.036Z"
   },
   {
    "duration": 9,
    "start_time": "2022-05-28T05:13:10.501Z"
   },
   {
    "duration": 122,
    "start_time": "2022-05-28T05:13:12.455Z"
   },
   {
    "duration": 1332,
    "start_time": "2022-05-28T05:13:13.082Z"
   },
   {
    "duration": 4,
    "start_time": "2022-05-28T05:15:16.799Z"
   },
   {
    "duration": 6,
    "start_time": "2022-05-28T05:21:43.936Z"
   },
   {
    "duration": 4,
    "start_time": "2022-05-28T05:21:46.521Z"
   },
   {
    "duration": 187,
    "start_time": "2022-05-28T05:21:49.996Z"
   },
   {
    "duration": 5,
    "start_time": "2022-05-28T05:21:54.272Z"
   },
   {
    "duration": 44,
    "start_time": "2022-05-28T05:21:54.913Z"
   },
   {
    "duration": 6,
    "start_time": "2022-05-28T05:23:06.046Z"
   },
   {
    "duration": 7,
    "start_time": "2022-05-28T05:23:07.649Z"
   },
   {
    "duration": 5,
    "start_time": "2022-05-28T05:23:52.417Z"
   },
   {
    "duration": 7,
    "start_time": "2022-05-28T05:24:01.589Z"
   },
   {
    "duration": 1305,
    "start_time": "2022-05-28T05:24:22.137Z"
   },
   {
    "duration": 371,
    "start_time": "2022-05-28T05:24:27.575Z"
   },
   {
    "duration": 30873,
    "start_time": "2022-05-28T05:24:34.477Z"
   },
   {
    "duration": 5,
    "start_time": "2022-05-28T05:27:00.815Z"
   },
   {
    "duration": 8,
    "start_time": "2022-05-28T05:27:01.551Z"
   },
   {
    "duration": 6,
    "start_time": "2022-05-28T05:27:02.213Z"
   },
   {
    "duration": 16,
    "start_time": "2022-05-28T05:27:10.088Z"
   },
   {
    "duration": 680,
    "start_time": "2022-05-28T05:28:05.569Z"
   },
   {
    "duration": 17,
    "start_time": "2022-05-28T05:28:06.555Z"
   },
   {
    "duration": 16,
    "start_time": "2022-05-28T05:28:07.063Z"
   },
   {
    "duration": 25,
    "start_time": "2022-05-28T05:28:07.428Z"
   },
   {
    "duration": 16,
    "start_time": "2022-05-28T05:28:07.762Z"
   },
   {
    "duration": 4,
    "start_time": "2022-05-28T05:28:08.256Z"
   },
   {
    "duration": 31,
    "start_time": "2022-05-28T05:28:08.593Z"
   },
   {
    "duration": 18,
    "start_time": "2022-05-28T05:28:09.349Z"
   },
   {
    "duration": 4,
    "start_time": "2022-05-28T05:28:10.949Z"
   },
   {
    "duration": 892,
    "start_time": "2022-05-28T05:28:11.287Z"
   },
   {
    "duration": 2,
    "start_time": "2022-05-28T05:28:12.778Z"
   },
   {
    "duration": 31,
    "start_time": "2022-05-28T05:28:13.608Z"
   },
   {
    "duration": 30,
    "start_time": "2022-05-28T05:28:13.953Z"
   },
   {
    "duration": 12,
    "start_time": "2022-05-28T05:28:14.061Z"
   },
   {
    "duration": 212,
    "start_time": "2022-05-28T05:28:14.389Z"
   },
   {
    "duration": 4,
    "start_time": "2022-05-28T05:28:14.704Z"
   },
   {
    "duration": 223,
    "start_time": "2022-05-28T05:28:15.063Z"
   },
   {
    "duration": 230,
    "start_time": "2022-05-28T05:28:15.580Z"
   },
   {
    "duration": 26,
    "start_time": "2022-05-28T05:28:17.266Z"
   },
   {
    "duration": 14,
    "start_time": "2022-05-28T05:28:17.649Z"
   },
   {
    "duration": 575,
    "start_time": "2022-05-28T05:28:17.999Z"
   },
   {
    "duration": 856,
    "start_time": "2022-05-28T05:28:18.576Z"
   },
   {
    "duration": 33,
    "start_time": "2022-05-28T05:28:19.434Z"
   },
   {
    "duration": 172,
    "start_time": "2022-05-28T05:28:19.469Z"
   },
   {
    "duration": 1062,
    "start_time": "2022-05-28T05:28:19.698Z"
   },
   {
    "duration": 24,
    "start_time": "2022-05-28T05:28:20.767Z"
   },
   {
    "duration": 141,
    "start_time": "2022-05-28T05:28:20.792Z"
   },
   {
    "duration": 800,
    "start_time": "2022-05-28T05:28:20.935Z"
   },
   {
    "duration": 1240,
    "start_time": "2022-05-28T05:28:21.975Z"
   },
   {
    "duration": 207,
    "start_time": "2022-05-28T05:28:23.216Z"
   },
   {
    "duration": 913,
    "start_time": "2022-05-28T05:28:23.425Z"
   },
   {
    "duration": 1594,
    "start_time": "2022-05-28T05:28:24.341Z"
   },
   {
    "duration": 5,
    "start_time": "2022-05-28T05:28:25.937Z"
   },
   {
    "duration": 32,
    "start_time": "2022-05-28T05:28:25.944Z"
   },
   {
    "duration": 1090,
    "start_time": "2022-05-28T05:28:25.978Z"
   },
   {
    "duration": 205,
    "start_time": "2022-05-28T05:28:27.069Z"
   },
   {
    "duration": 707,
    "start_time": "2022-05-28T05:28:27.276Z"
   },
   {
    "duration": 2,
    "start_time": "2022-05-28T05:28:27.985Z"
   },
   {
    "duration": 24,
    "start_time": "2022-05-28T05:28:27.988Z"
   },
   {
    "duration": 11,
    "start_time": "2022-05-28T05:28:28.542Z"
   },
   {
    "duration": 127,
    "start_time": "2022-05-28T05:28:28.918Z"
   },
   {
    "duration": 607,
    "start_time": "2022-05-28T05:28:29.094Z"
   },
   {
    "duration": 11,
    "start_time": "2022-05-28T05:28:29.703Z"
   },
   {
    "duration": 138,
    "start_time": "2022-05-28T05:28:30.161Z"
   },
   {
    "duration": 1464,
    "start_time": "2022-05-28T05:28:30.354Z"
   },
   {
    "duration": 3,
    "start_time": "2022-05-28T05:28:32.064Z"
   },
   {
    "duration": 7,
    "start_time": "2022-05-28T05:28:32.354Z"
   },
   {
    "duration": 4,
    "start_time": "2022-05-28T05:28:37.666Z"
   },
   {
    "duration": 5,
    "start_time": "2022-05-28T05:28:38.571Z"
   },
   {
    "duration": 286,
    "start_time": "2022-05-28T05:28:39.067Z"
   },
   {
    "duration": 8,
    "start_time": "2022-05-28T05:28:40.261Z"
   },
   {
    "duration": 41,
    "start_time": "2022-05-28T05:28:40.863Z"
   },
   {
    "duration": 5,
    "start_time": "2022-05-28T05:28:46.794Z"
   },
   {
    "duration": 9,
    "start_time": "2022-05-28T05:28:48.488Z"
   },
   {
    "duration": 7,
    "start_time": "2022-05-28T05:28:50.353Z"
   },
   {
    "duration": 4,
    "start_time": "2022-05-28T05:28:55.888Z"
   },
   {
    "duration": 5,
    "start_time": "2022-05-28T05:29:03.622Z"
   },
   {
    "duration": 5,
    "start_time": "2022-05-28T05:29:04.384Z"
   },
   {
    "duration": 6,
    "start_time": "2022-05-28T05:29:05.317Z"
   },
   {
    "duration": 18,
    "start_time": "2022-05-28T05:29:08.291Z"
   },
   {
    "duration": 27,
    "start_time": "2022-05-28T05:30:05.580Z"
   },
   {
    "duration": 4,
    "start_time": "2022-05-28T05:30:23.386Z"
   },
   {
    "duration": 6,
    "start_time": "2022-05-28T05:30:34.111Z"
   },
   {
    "duration": 3,
    "start_time": "2022-05-28T05:30:34.986Z"
   },
   {
    "duration": 10,
    "start_time": "2022-05-28T05:30:35.778Z"
   },
   {
    "duration": 10,
    "start_time": "2022-05-28T05:30:47.987Z"
   },
   {
    "duration": 6,
    "start_time": "2022-05-28T05:30:55.509Z"
   },
   {
    "duration": 4,
    "start_time": "2022-05-28T05:30:56.379Z"
   },
   {
    "duration": 12,
    "start_time": "2022-05-28T05:30:56.909Z"
   },
   {
    "duration": 5,
    "start_time": "2022-05-28T05:31:06.383Z"
   },
   {
    "duration": 3,
    "start_time": "2022-05-28T05:31:07.001Z"
   },
   {
    "duration": 6,
    "start_time": "2022-05-28T05:31:07.442Z"
   }
  ],
  "kernelspec": {
   "display_name": "Python 3 (ipykernel)",
   "language": "python",
   "name": "python3"
  },
  "language_info": {
   "codemirror_mode": {
    "name": "ipython",
    "version": 3
   },
   "file_extension": ".py",
   "mimetype": "text/x-python",
   "name": "python",
   "nbconvert_exporter": "python",
   "pygments_lexer": "ipython3",
   "version": "3.9.7"
  },
  "toc": {
   "base_numbering": 1,
   "nav_menu": {},
   "number_sections": true,
   "sideBar": true,
   "skip_h1_title": true,
   "title_cell": "Table of Contents",
   "title_sidebar": "Contents",
   "toc_cell": false,
   "toc_position": {},
   "toc_section_display": true,
   "toc_window_display": false
  }
 },
 "nbformat": 4,
 "nbformat_minor": 5
}
