{
 "cells": [
  {
   "cell_type": "markdown",
   "id": "9649b259",
   "metadata": {},
   "source": [
    "# Постановка задачи"
   ]
  },
  {
   "cell_type": "markdown",
   "id": "40e9cdf1",
   "metadata": {},
   "source": [
    "Оператор мобильной связи «Мегалайн» выяснил: многие клиенты пользуются архивными тарифами. Нужно построить алгоритм, который  на основании исторических данных о поведении клиентов рекомендовал пользователям новый тариф: «Смарт» или «Ультра».<br>\n",
    "\n",
    "Нужно построить модель для задачи классификации, которая выберет подходящий тариф. <br> \n",
    "Нужно построить модель с максимально большим значением accuracy больше или равно 0.75. "
   ]
  },
  {
   "cell_type": "markdown",
   "id": "fb79915b",
   "metadata": {},
   "source": [
    "# Порядок решения задачи"
   ]
  },
  {
   "cell_type": "markdown",
   "id": "75346b35",
   "metadata": {},
   "source": [
    "**Шаг 0.** Импортируем все, что нужно - библиотеки и данные и посмотрим, что из себя представляют данные.<br>\n",
    "**Шаг 1.** Разделим исходные данные на обучающую, валидационную и тестовую выборки.<br>\n",
    "**Шаг 2.** Выберем целевой признак на основании чего будет происходить классификация клиентов старых тарифов.<br>\n",
    "**Шаг 3.** Обучим несколько моделей на обучающей выборке и проверим качество обучения на валидационной выборке.<br>\n",
    "**Шаг 4.** Проанализируем полученные результаты в т.ч. на вменяемость. Если нас устроят результаты, то выберем лучших и перейдем к тесту.<br>\n",
    "**Шаг 5.** Проверим качество модели на тестовой выборке. Если все устроит, то выберем лучшую модель.<br>\n",
    "**Шаг 6.** Напишем краткое аналитическое резюме по выбранной модели."
   ]
  },
  {
   "cell_type": "code",
   "execution_count": 72,
   "id": "b9894507",
   "metadata": {},
   "outputs": [],
   "source": [
    "import pandas as pd\n",
    "import numpy as np\n",
    "import random\n",
    "from statistics import mean\n",
    "import os\n",
    "\n",
    "\n",
    "import matplotlib\n",
    "import matplotlib.pyplot as plt\n",
    "import seaborn as sns\n",
    "from scipy import stats as st\n",
    "from pandas.plotting import scatter_matrix\n",
    "\n",
    "from sklearn.linear_model import LogisticRegression\n",
    "from sklearn.ensemble import RandomForestClassifier\n",
    "from sklearn.tree import DecisionTreeClassifier\n",
    "from sklearn.tree import plot_tree\n",
    "\n",
    "from sklearn.metrics import accuracy_score\n",
    "from sklearn.model_selection import train_test_split\n",
    "\n",
    "%matplotlib inline"
   ]
  },
  {
   "cell_type": "code",
   "execution_count": 73,
   "id": "9cc5de6b",
   "metadata": {},
   "outputs": [],
   "source": [
    "path_review = '/datasets/users_behavior.csv'\n",
    "my_path = '/Users/Ideapad S145/Desktop/Data_Science/05. Модуль Машинное обучение/Проект//users_behavior.csv'\n",
    "if os.path.exists(path_review):\n",
    "    df = pd.read_csv(path_review, sep=',')\n",
    "elif os.path.exists(my_path):\n",
    "    df = pd.read_csv(my_path, sep=',')\n",
    "else:\n",
    "    print(\"Проверьте правильность пути к датасету\")"
   ]
  },
  {
   "cell_type": "code",
   "execution_count": 40,
   "id": "4f6b45cc",
   "metadata": {},
   "outputs": [
    {
     "data": {
      "text/html": [
       "<div>\n",
       "<style scoped>\n",
       "    .dataframe tbody tr th:only-of-type {\n",
       "        vertical-align: middle;\n",
       "    }\n",
       "\n",
       "    .dataframe tbody tr th {\n",
       "        vertical-align: top;\n",
       "    }\n",
       "\n",
       "    .dataframe thead th {\n",
       "        text-align: right;\n",
       "    }\n",
       "</style>\n",
       "<table border=\"1\" class=\"dataframe\">\n",
       "  <thead>\n",
       "    <tr style=\"text-align: right;\">\n",
       "      <th></th>\n",
       "      <th>calls</th>\n",
       "      <th>minutes</th>\n",
       "      <th>messages</th>\n",
       "      <th>mb_used</th>\n",
       "      <th>is_ultra</th>\n",
       "    </tr>\n",
       "  </thead>\n",
       "  <tbody>\n",
       "    <tr>\n",
       "      <th>0</th>\n",
       "      <td>40.0</td>\n",
       "      <td>311.90</td>\n",
       "      <td>83.0</td>\n",
       "      <td>19915.42</td>\n",
       "      <td>0</td>\n",
       "    </tr>\n",
       "    <tr>\n",
       "      <th>1</th>\n",
       "      <td>85.0</td>\n",
       "      <td>516.75</td>\n",
       "      <td>56.0</td>\n",
       "      <td>22696.96</td>\n",
       "      <td>0</td>\n",
       "    </tr>\n",
       "    <tr>\n",
       "      <th>2</th>\n",
       "      <td>77.0</td>\n",
       "      <td>467.66</td>\n",
       "      <td>86.0</td>\n",
       "      <td>21060.45</td>\n",
       "      <td>0</td>\n",
       "    </tr>\n",
       "  </tbody>\n",
       "</table>\n",
       "</div>"
      ],
      "text/plain": [
       "   calls  minutes  messages   mb_used  is_ultra\n",
       "0   40.0   311.90      83.0  19915.42         0\n",
       "1   85.0   516.75      56.0  22696.96         0\n",
       "2   77.0   467.66      86.0  21060.45         0"
      ]
     },
     "execution_count": 40,
     "metadata": {},
     "output_type": "execute_result"
    }
   ],
   "source": [
    "df.head(3)"
   ]
  },
  {
   "cell_type": "code",
   "execution_count": 41,
   "id": "267d7981",
   "metadata": {},
   "outputs": [
    {
     "name": "stdout",
     "output_type": "stream",
     "text": [
      "<class 'pandas.core.frame.DataFrame'>\n",
      "RangeIndex: 3214 entries, 0 to 3213\n",
      "Data columns (total 5 columns):\n",
      " #   Column    Non-Null Count  Dtype  \n",
      "---  ------    --------------  -----  \n",
      " 0   calls     3214 non-null   float64\n",
      " 1   minutes   3214 non-null   float64\n",
      " 2   messages  3214 non-null   float64\n",
      " 3   mb_used   3214 non-null   float64\n",
      " 4   is_ultra  3214 non-null   int64  \n",
      "dtypes: float64(4), int64(1)\n",
      "memory usage: 125.7 KB\n"
     ]
    }
   ],
   "source": [
    "df.info()"
   ]
  },
  {
   "cell_type": "markdown",
   "id": "8c22aa78",
   "metadata": {},
   "source": [
    "Посмотрим что с данными в полях."
   ]
  },
  {
   "cell_type": "markdown",
   "id": "89badc49",
   "metadata": {},
   "source": [
    "Напишем две функции для построения графиков - гистограммы и ящика с усами"
   ]
  },
  {
   "cell_type": "code",
   "execution_count": 42,
   "id": "507ff293",
   "metadata": {},
   "outputs": [],
   "source": [
    "# функция, которая строит две гистограммы с оценкой плотности распределения - для ultra и для smart\n",
    "def hist(column, name_features):\n",
    "    fig = plt.figure()\n",
    "    ax_1 = fig.add_subplot(1, 2, 1)\n",
    "    ax_2 = fig.add_subplot(1, 2, 2)\n",
    "    sns.histplot(x=df[df.is_ultra == 1][column], kde=True, ax=ax_1)\n",
    "    sns.histplot(x=df[df.is_ultra == 0][column], kde=True, ax=ax_2)\n",
    "    ax_1.set_title('Гистограмма ' + name_features + ' в ТП Ultra', fontsize=12)\n",
    "    ax_2.set_title('Гистограмма ' + name_features + ' в ТП Smart', fontsize=12)\n",
    "    fig.set_figwidth(12)\n",
    "    fig.set_figheight(5)\n",
    "    return plt.show()\n",
    "\n",
    "# функция, которая строит два boxplot'a - для ultra и для smart\n",
    "def boxplot(column, name_features):\n",
    "    fig = plt.figure()\n",
    "    ax_1 = fig.add_subplot(1, 2, 1)\n",
    "    ax_2 = fig.add_subplot(1, 2, 2)\n",
    "    sns.boxplot(x=df[df.is_ultra == 1][column], ax=ax_1)\n",
    "    sns.boxplot(x=df[df.is_ultra == 0][column], ax=ax_2)\n",
    "    ax_1.set_title('Ящик с усами ' + name_features + ' в ТП Ultra', fontsize=12)\n",
    "    ax_2.set_title('Ящик с усами ' + name_features + ' в ТП Smart', fontsize=12)\n",
    "    fig.set_figwidth(15)\n",
    "    fig.set_figheight(3)\n",
    "    return plt.show()"
   ]
  },
  {
   "cell_type": "markdown",
   "id": "048aad20",
   "metadata": {},
   "source": [
    "**Начнем с поля calls**"
   ]
  },
  {
   "cell_type": "code",
   "execution_count": 43,
   "id": "91160eb1",
   "metadata": {},
   "outputs": [
    {
     "data": {
      "text/plain": [
       "count    3214.000000\n",
       "mean       63.038892\n",
       "std        33.236368\n",
       "min         0.000000\n",
       "25%        40.000000\n",
       "50%        62.000000\n",
       "75%        82.000000\n",
       "max       244.000000\n",
       "Name: calls, dtype: float64"
      ]
     },
     "execution_count": 43,
     "metadata": {},
     "output_type": "execute_result"
    }
   ],
   "source": [
    "df.calls.describe()"
   ]
  },
  {
   "cell_type": "code",
   "execution_count": 44,
   "id": "a9325364",
   "metadata": {},
   "outputs": [
    {
     "data": {
      "image/png": "[encoded data removed]",
      "text/plain": [
       "<Figure size 864x360 with 2 Axes>"
      ]
     },
     "metadata": {
      "needs_background": "light"
     },
     "output_type": "display_data"
    }
   ],
   "source": [
    "hist('calls', 'звонков')"
   ]
  },
  {
   "cell_type": "code",
   "execution_count": 45,
   "id": "4f8ab89b",
   "metadata": {},
   "outputs": [
    {
     "data": {
      "image/png": "[encoded data removed]",
      "text/plain": [
       "<Figure size 1080x216 with 2 Axes>"
      ]
     },
     "metadata": {
      "needs_background": "light"
     },
     "output_type": "display_data"
    }
   ],
   "source": [
    "boxplot('calls', 'звонков')"
   ]
  },
  {
   "cell_type": "markdown",
   "id": "156bcce9",
   "metadata": {},
   "source": [
    "Есть статистические выбросы, которые могут ухудшить обучение модели. Пока все оставим как есть. Если модель будет плохо обучаться, то исключим выборосы из обучения."
   ]
  },
  {
   "cell_type": "markdown",
   "id": "d18fb83d",
   "metadata": {},
   "source": [
    "**Посмотрим поле messages**"
   ]
  },
  {
   "cell_type": "code",
   "execution_count": 46,
   "id": "dd140ab4",
   "metadata": {},
   "outputs": [
    {
     "data": {
      "text/plain": [
       "count    3214.000000\n",
       "mean       38.281269\n",
       "std        36.148326\n",
       "min         0.000000\n",
       "25%         9.000000\n",
       "50%        30.000000\n",
       "75%        57.000000\n",
       "max       224.000000\n",
       "Name: messages, dtype: float64"
      ]
     },
     "execution_count": 46,
     "metadata": {},
     "output_type": "execute_result"
    }
   ],
   "source": [
    "df.messages.describe()"
   ]
  },
  {
   "cell_type": "code",
   "execution_count": 47,
   "id": "8e60ef6f",
   "metadata": {},
   "outputs": [
    {
     "data": {
      "image/png": "[encoded data removed]",
      "text/plain": [
       "<Figure size 864x360 with 2 Axes>"
      ]
     },
     "metadata": {
      "needs_background": "light"
     },
     "output_type": "display_data"
    }
   ],
   "source": [
    "hist('messages', 'SMS')"
   ]
  },
  {
   "cell_type": "code",
   "execution_count": 48,
   "id": "22703653",
   "metadata": {},
   "outputs": [
    {
     "data": {
      "image/png": "[encoded data removed]",
      "text/plain": [
       "<Figure size 864x360 with 2 Axes>"
      ]
     },
     "metadata": {
      "needs_background": "light"
     },
     "output_type": "display_data"
    }
   ],
   "source": [
    "hist('messages', 'SMS')"
   ]
  },
  {
   "cell_type": "markdown",
   "id": "7b0ce3ba",
   "metadata": {},
   "source": [
    "Тоже выборсы есть и довольно много."
   ]
  },
  {
   "cell_type": "markdown",
   "id": "7734a1cd",
   "metadata": {},
   "source": [
    "**Посмотрим поле mb_used**"
   ]
  },
  {
   "cell_type": "code",
   "execution_count": 49,
   "id": "34ad8afb",
   "metadata": {},
   "outputs": [
    {
     "data": {
      "text/plain": [
       "count     3214.000000\n",
       "mean     17207.673836\n",
       "std       7570.968246\n",
       "min          0.000000\n",
       "25%      12491.902500\n",
       "50%      16943.235000\n",
       "75%      21424.700000\n",
       "max      49745.730000\n",
       "Name: mb_used, dtype: float64"
      ]
     },
     "execution_count": 49,
     "metadata": {},
     "output_type": "execute_result"
    }
   ],
   "source": [
    "df.mb_used.describe()"
   ]
  },
  {
   "cell_type": "code",
   "execution_count": 50,
   "id": "0e4958d9",
   "metadata": {},
   "outputs": [
    {
     "data": {
      "image/png": "[encoded data removed]",
      "text/plain": [
       "<Figure size 864x360 with 2 Axes>"
      ]
     },
     "metadata": {
      "needs_background": "light"
     },
     "output_type": "display_data"
    }
   ],
   "source": [
    "hist('mb_used', 'траффик')"
   ]
  },
  {
   "cell_type": "code",
   "execution_count": 51,
   "id": "8fd34c03",
   "metadata": {},
   "outputs": [
    {
     "data": {
      "image/png": "[encoded data removed]",
      "text/plain": [
       "<Figure size 1080x216 with 2 Axes>"
      ]
     },
     "metadata": {
      "needs_background": "light"
     },
     "output_type": "display_data"
    }
   ],
   "source": [
    "boxplot('mb_used', 'траффик')"
   ]
  },
  {
   "cell_type": "markdown",
   "id": "6a5e80c6",
   "metadata": {},
   "source": [
    "Опять же выбросы"
   ]
  },
  {
   "cell_type": "markdown",
   "id": "aa42e321",
   "metadata": {},
   "source": [
    "Посмотрим структуру пользователей в разрезе тарифных планов"
   ]
  },
  {
   "cell_type": "code",
   "execution_count": 52,
   "id": "cfcb73af",
   "metadata": {},
   "outputs": [
    {
     "data": {
      "text/plain": [
       "0    2229\n",
       "1     985\n",
       "Name: is_ultra, dtype: int64"
      ]
     },
     "execution_count": 52,
     "metadata": {},
     "output_type": "execute_result"
    }
   ],
   "source": [
    "df.is_ultra.value_counts()"
   ]
  },
  {
   "cell_type": "markdown",
   "id": "db755a08",
   "metadata": {},
   "source": [
    "Примерно 2:1 smart к ultra"
   ]
  },
  {
   "cell_type": "markdown",
   "id": "e22ec686",
   "metadata": {},
   "source": [
    "# Шаг 1. Разделим исходные данные на обучающую, валидационную и тестовую выборки."
   ]
  },
  {
   "cell_type": "markdown",
   "id": "a80608ab",
   "metadata": {},
   "source": [
    "У нас клиентов на тарифе smart в два раза больше клиентов на тарифе ultra. Чтобы при делении исходной выборки оставалась такая же пропорция сделаем отдельно обучающие, валидационные и тестовые выборки для каждого тарифного плана, а потом их объединим. В этом случае у нас в каждой выборке будет точно сохранена изначальная пропорция. "
   ]
  },
  {
   "cell_type": "code",
   "execution_count": 53,
   "id": "fbe08012",
   "metadata": {},
   "outputs": [],
   "source": [
    "smart = df[df.is_ultra == 0]\n",
    "ultra = df[df.is_ultra == 1]"
   ]
  },
  {
   "cell_type": "markdown",
   "id": "104ab376",
   "metadata": {},
   "source": [
    "Процесс выделения сделаем таким:\n",
    "1. 50% - обучающая выборка, 25% - валидационная выборка и 25% тестовая выборка.\n",
    "2. Сначала выберем 25% для теста, а оставшихся поделим на обучение и валидацию."
   ]
  },
  {
   "cell_type": "code",
   "execution_count": 54,
   "id": "1051dad2",
   "metadata": {},
   "outputs": [],
   "source": [
    "# выберем 25% для теста\n",
    "smart_train, smart_test = train_test_split(smart, test_size=0.25, random_state=12345)\n",
    "ultra_train, ultra_test = train_test_split(ultra, test_size=0.25, random_state=12345)\n",
    "\n",
    "# выберем 50% на обучение и 25% на валидацию. В этом случае test_size будет равным 0,3333 (1/3)\n",
    "smart_train, smart_valid = train_test_split(smart_train, test_size=0.3333, random_state=12345)\n",
    "ultra_train, ultra_valid = train_test_split(ultra_train, test_size=0.3333, random_state=12345)"
   ]
  },
  {
   "cell_type": "markdown",
   "id": "eed410b6",
   "metadata": {},
   "source": [
    "Теперь склеим обучающие, валидационные и тестовые выборки"
   ]
  },
  {
   "cell_type": "code",
   "execution_count": 55,
   "id": "ec8d3908",
   "metadata": {},
   "outputs": [],
   "source": [
    "df_train = pd.concat([smart_train, ultra_train])\n",
    "df_valid = pd.concat([smart_valid, ultra_valid])\n",
    "df_test = pd.concat([smart_test, ultra_test])"
   ]
  },
  {
   "cell_type": "code",
   "execution_count": 56,
   "id": "96dc5420",
   "metadata": {},
   "outputs": [],
   "source": [
    "# отсортируем по прежним индексам, чтобы повторить прежнюю структуру \n",
    "df_train.sort_index(axis=0, inplace=True)\n",
    "df_valid.sort_index(axis=0, inplace=True)\n",
    "df_test.sort_index(axis=0, inplace=True)"
   ]
  },
  {
   "cell_type": "markdown",
   "id": "5055bb93",
   "metadata": {},
   "source": [
    "# Шаг 2. Выберем целевой признак на основании чего будет происходить классификация клиентов старых тарифов."
   ]
  },
  {
   "cell_type": "markdown",
   "id": "39b01d21",
   "metadata": {},
   "source": [
    "Очевидно, что целевым признаком должно быть поле is_ultra. У нас получается бинарная классификация клиентов.<br>\n",
    "Разделим наши выборки на признаки и цели."
   ]
  },
  {
   "cell_type": "code",
   "execution_count": 58,
   "id": "7aff56b7",
   "metadata": {},
   "outputs": [],
   "source": [
    "train_target = df_train.is_ultra\n",
    "train_features = df_train.drop('is_ultra', axis=1)\n",
    "\n",
    "valid_target = df_valid.is_ultra\n",
    "valid_features = df_valid.drop('is_ultra', axis=1)\n",
    "\n",
    "test_target = df_test.is_ultra\n",
    "test_features = df_test.drop('is_ultra', axis=1)"
   ]
  },
  {
   "cell_type": "markdown",
   "id": "16e5abda",
   "metadata": {},
   "source": [
    "# Шаг 3. Обучим несколько моделей на обучающей выборке и проверим качество обучения на валидационной выборке."
   ]
  },
  {
   "cell_type": "markdown",
   "id": "9f32868a",
   "metadata": {},
   "source": [
    "Выберем следующие модели для обучения:\n",
    "1. Дерево решений.\n",
    "2. Случайный лес.\n",
    "3. Логистическая регрессия.\n",
    "\n",
    "Для Дерево решений и Случайный лес применим разные варианты гиперпараметров - глубина и количестов деревьев.\n",
    "По каждой нашей модели на валидационной выборке посчитаем accuracy."
   ]
  },
  {
   "cell_type": "markdown",
   "id": "f33b36ec",
   "metadata": {},
   "source": [
    "В процессе обучения мы будем создавать коллекцию моделей, которые показали лучшие результаты на валидационной выборке. Полученную коллекцию проверим на тестовой выборке и там выберем лучшую модель."
   ]
  },
  {
   "cell_type": "markdown",
   "id": "ca1d886f",
   "metadata": {},
   "source": [
    "**Начнем с модели Дерево решений.**<br>\n",
    "Посчитаем 10 вариантов с глубиной от 1 до 10 и сделаем коллекцию в которой будет модель, название, ее параметры и оценка accuracy."
   ]
  },
  {
   "cell_type": "code",
   "execution_count": 59,
   "id": "fee09016",
   "metadata": {},
   "outputs": [],
   "source": [
    "# сделаем список из 10 моделей Дерева решений c глубиной от 1 до 10\n",
    "models_dtc = []\n",
    "for depth in range(1, 11):\n",
    "    model_1 = DecisionTreeClassifier(random_state=12345, max_depth=depth)\n",
    "    model_1.fit(train_features, train_target)\n",
    "    predictions = model_1.predict(valid_features)\n",
    "    models_dtc.append([model_1, 'Дерево решений', np.nan, depth, accuracy_score(valid_target, predictions)])"
   ]
  },
  {
   "cell_type": "markdown",
   "id": "a3e560fd",
   "metadata": {},
   "source": [
    "Выберем 3 лучших модели по оценке accuracy"
   ]
  },
  {
   "cell_type": "code",
   "execution_count": 60,
   "id": "f1d79276",
   "metadata": {},
   "outputs": [
    {
     "data": {
      "text/plain": [
       "[[DecisionTreeClassifier(max_depth=5, random_state=12345),\n",
       "  'Дерево решений',\n",
       "  nan,\n",
       "  5,\n",
       "  0.8069738480697385],\n",
       " [DecisionTreeClassifier(max_depth=6, random_state=12345),\n",
       "  'Дерево решений',\n",
       "  nan,\n",
       "  6,\n",
       "  0.7982565379825654],\n",
       " [DecisionTreeClassifier(max_depth=7, random_state=12345),\n",
       "  'Дерево решений',\n",
       "  nan,\n",
       "  7,\n",
       "  0.7957658779576587]]"
      ]
     },
     "metadata": {},
     "output_type": "display_data"
    }
   ],
   "source": [
    "models = sorted(models_dtc, key=lambda x: x[4], reverse=True)[:3]\n",
    "display(models)"
   ]
  },
  {
   "cell_type": "markdown",
   "id": "8dba795f",
   "metadata": {},
   "source": [
    "Все три модели имеют оценку accuracy больше 0,75. Максимальная оценка accuracy на валидационной выборке была получена с гиперпараметром глубины равным 5."
   ]
  },
  {
   "cell_type": "markdown",
   "id": "c93c32b8",
   "metadata": {},
   "source": [
    "**Возьмем модель Слуйчайный лес.**<br>\n",
    "Будем варьировать следуюшие гиперпараметры:\n",
    "1. Глубина деревьев - от 1 до 10.\n",
    "2. Количестов деревьев - от 10 до 110 с шагом 10\n",
    "\n",
    "И также как в предудщем варианте сделаем список полученных поделей"
   ]
  },
  {
   "cell_type": "code",
   "execution_count": 61,
   "id": "10a2d380",
   "metadata": {},
   "outputs": [],
   "source": [
    "models_rfc = []\n",
    "for est in range(10, 111, 10):\n",
    "    for depth in range(1, 11):\n",
    "        model_2 = RandomForestClassifier(random_state=1234, n_estimators=est, max_depth=depth)\n",
    "        model_2.fit(train_features, train_target)\n",
    "        predicts_valid = model_2.predict(valid_features)\n",
    "        models_rfc.append([model_2, 'Случайный лес', est, depth, model_2.score(valid_features, valid_target)])      "
   ]
  },
  {
   "cell_type": "markdown",
   "id": "31d52358",
   "metadata": {},
   "source": [
    "Выберем 3 лучших и присоединим к нашей коллекции лучших моделей"
   ]
  },
  {
   "cell_type": "code",
   "execution_count": 62,
   "id": "25ba66e9",
   "metadata": {},
   "outputs": [],
   "source": [
    "rfc_top_3 = sorted(filter(lambda x: x[1] == 'Случайный лес', models_rfc),\n",
    "                         key=lambda x: x[4],\n",
    "                         reverse=True)[:3]\n",
    "\n",
    "models = models + rfc_top_3"
   ]
  },
  {
   "cell_type": "code",
   "execution_count": 63,
   "id": "dc508030",
   "metadata": {},
   "outputs": [
    {
     "data": {
      "text/plain": [
       "[[RandomForestClassifier(max_depth=10, n_estimators=90, random_state=1234),\n",
       "  'Случайный лес',\n",
       "  90,\n",
       "  10,\n",
       "  0.8281444582814446],\n",
       " [RandomForestClassifier(max_depth=10, n_estimators=80, random_state=1234),\n",
       "  'Случайный лес',\n",
       "  80,\n",
       "  10,\n",
       "  0.8268991282689913],\n",
       " [RandomForestClassifier(max_depth=10, n_estimators=110, random_state=1234),\n",
       "  'Случайный лес',\n",
       "  110,\n",
       "  10,\n",
       "  0.8268991282689913]]"
      ]
     },
     "metadata": {},
     "output_type": "display_data"
    }
   ],
   "source": [
    "# выведем на экран 3ку лучших из серии Случайный лес\n",
    "display(rfc_top_3)"
   ]
  },
  {
   "cell_type": "markdown",
   "id": "bd51ac91",
   "metadata": {},
   "source": [
    "Результат accuracy у все трех лучших больше 0,82. Лучшая модель имеет следующий набор гиперпараметров кол-во деревьев = 90, глубина = 10"
   ]
  },
  {
   "cell_type": "markdown",
   "id": "b1183ba9",
   "metadata": {},
   "source": [
    "**Перейдем к следующей модели - Логистическая регрессия**"
   ]
  },
  {
   "cell_type": "code",
   "execution_count": 64,
   "id": "64529aa1",
   "metadata": {},
   "outputs": [
    {
     "name": "stdout",
     "output_type": "stream",
     "text": [
      "0.7521793275217933\n"
     ]
    }
   ],
   "source": [
    "model_3 = LogisticRegression(random_state=12345)\n",
    "model_3.fit(train_features, train_target)\n",
    "print(model_3.score(valid_features, valid_target))\n",
    "\n",
    "# просто присоединим эту модель к коллекции успешных моделей.\n",
    "models.append([model_3, 'Логистическая регрессия', np.nan, np.nan, model_3.score(valid_features, valid_target)])"
   ]
  },
  {
   "cell_type": "markdown",
   "id": "67dcc375",
   "metadata": {},
   "source": [
    "Для наших обучающей и валидационной выборках эта модель показывает худший результат, относительно Дерево решений и Случайный лес, но все равно больше 0,75."
   ]
  },
  {
   "cell_type": "markdown",
   "id": "b82ba151",
   "metadata": {},
   "source": [
    "Оценим наши результаты на вменяемость. \n",
    "Построим столбец с случайными показателями новой классификации 0 и 1."
   ]
  },
  {
   "cell_type": "code",
   "execution_count": 65,
   "id": "5d79863f",
   "metadata": {},
   "outputs": [
    {
     "name": "stdout",
     "output_type": "stream",
     "text": [
      "accuracy_score для случайного выбора = 0.5140012445550716\n"
     ]
    }
   ],
   "source": [
    "print('accuracy_score для случайного выбора =', \n",
    "      mean([int(random.randint(0, 1) == df.loc[i, 'is_ultra']) for i in range(len(df))]))"
   ]
  },
  {
   "cell_type": "code",
   "execution_count": 66,
   "id": "eac2bcd3",
   "metadata": {},
   "outputs": [
    {
     "name": "stdout",
     "output_type": "stream",
     "text": [
      "accuracy_score для случайного выбора = 0.693528313627878\n"
     ]
    }
   ],
   "source": [
    "print('accuracy_score для случайного выбора =', mean([int(0 == df.loc[i, 'is_ultra']) for i in range(len(df))]))"
   ]
  },
  {
   "cell_type": "markdown",
   "id": "68f89a70",
   "metadata": {},
   "source": [
    "Таким образом, мы показали, что результаты полученные нашими моделями существенно отличаются от случайного угадывания"
   ]
  },
  {
   "cell_type": "markdown",
   "id": "f3b56577",
   "metadata": {},
   "source": [
    "**Краткое резюме:**<br>\n",
    "1. Логистическая регрессия показала худший результат.<br>\n",
    "2. Лучший результат на валидационной выборке показала модель Случайный лес.<br>\n",
    "3. Дерево решений тоже показало хороший результат, но чуть хуже чем Случайный лес.<br>\n",
    "\n",
    "Выберем лучшую модель из нашей полученной коллекции лучших моделей **models**. Эту модель затем проверим на тестовой выборке."
   ]
  },
  {
   "cell_type": "code",
   "execution_count": 67,
   "id": "52625d2a",
   "metadata": {},
   "outputs": [
    {
     "name": "stdout",
     "output_type": "stream",
     "text": [
      "Название модели: Случайный лес\n",
      "Количество деревьев = 90\n",
      "Глубина =  10\n",
      "Accuracy =  0.8281444582814446\n"
     ]
    }
   ],
   "source": [
    "best_model = sorted(models, key=lambda x: x[4], reverse=True)[0]\n",
    "print('Название модели:', best_model[1])\n",
    "print('Количество деревьев =', best_model[2])\n",
    "print('Глубина = ', best_model[3])\n",
    "print('Accuracy = ', best_model[4])"
   ]
  },
  {
   "cell_type": "markdown",
   "id": "1398233e",
   "metadata": {},
   "source": [
    "# Шаг 5. Проверим качество моделей на тестовой выборке. Если все устроит, то выберем лучшую модель."
   ]
  },
  {
   "cell_type": "markdown",
   "id": "d4aff55c",
   "metadata": {},
   "source": [
    "Посмотрим как ведет себя на тестовой выборке наша лучшая модель, выбранная на валидационной выборке.\n",
    "Рассчитаем для нее accuracy на нашей тестовой выборке."
   ]
  },
  {
   "cell_type": "code",
   "execution_count": 68,
   "id": "5ab80978",
   "metadata": {},
   "outputs": [
    {
     "name": "stdout",
     "output_type": "stream",
     "text": [
      "Значение accuracy на тестовой выборке =  0.8198757763975155\n"
     ]
    }
   ],
   "source": [
    "predictions = best_model[0].predict(test_features)\n",
    "print('Значение accuracy на тестовой выборке = ', best_model[0].score(test_features, test_target))                               "
   ]
  },
  {
   "cell_type": "markdown",
   "id": "c54d1ad0",
   "metadata": {},
   "source": [
    "Результаты accuracy на тестовой выборке нашей лучшей модели выбранной по результатам валидационной выборке показали почти такие же результаты, что результаты accuracy на валидационной выборке. Что показывает неплохую обученность модели и устойчивость accuracy при подачи разных выборок на вход модели. \n",
    "**Таким образом, мы выбираем модель случайный лес с гиперпараметрами 90 деревьев и максимальная глубина 10. Эта модель получила оценку accuracy на валидационной выборке 0,828, а на тестовой выборке 0,820**"
   ]
  }
 ],
 "metadata": {
  "kernelspec": {
   "display_name": "Python 3 (ipykernel)",
   "language": "python",
   "name": "python3"
  },
  "language_info": {
   "codemirror_mode": {
    "name": "ipython",
    "version": 3
   },
   "file_extension": ".py",
   "mimetype": "text/x-python",
   "name": "python",
   "nbconvert_exporter": "python",
   "pygments_lexer": "ipython3",
   "version": "3.9.7"
  },
  "toc": {
   "base_numbering": 1,
   "nav_menu": {},
   "number_sections": true,
   "sideBar": true,
   "skip_h1_title": true,
   "title_cell": "Table of Contents",
   "title_sidebar": "Contents",
   "toc_cell": false,
   "toc_position": {},
   "toc_section_display": true,
   "toc_window_display": false
  }
 },
 "nbformat": 4,
 "nbformat_minor": 5
}
